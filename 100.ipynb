{
 "cells": [
  {
   "attachments": {},
   "cell_type": "markdown",
   "metadata": {},
   "source": [
    "7 핸드폰 번호 가리기"
   ]
  },
  {
   "cell_type": "code",
   "execution_count": 3,
   "metadata": {},
   "outputs": [],
   "source": [
    "#나의 코드\n",
    "\n",
    "def solution(phone_number):\n",
    "    return phone_number.replace(phone_number[:-4],'*'*(len(phone_number)-4))\n",
    "    # 핸드폰번호를 대채하는데, 다른부분은 놔두고, 처음부터 -4번째 전까지만 바꾼다. 바꿀부분은 별로 바꿀껀데, 그 갯수는 원래 핸드폰 길이에서 4개 적은 개수로 한다."
   ]
  },
  {
   "cell_type": "code",
   "execution_count": null,
   "metadata": {},
   "outputs": [],
   "source": [
    "#다른 사람 코드\n",
    "\n",
    "def hide_numbers(s):\n",
    "    return \"*\"*(len(s)-4) + s[-4:]"
   ]
  }
 ],
 "metadata": {
  "kernelspec": {
   "display_name": "py39_tf",
   "language": "python",
   "name": "python3"
  },
  "language_info": {
   "codemirror_mode": {
    "name": "ipython",
    "version": 3
   },
   "file_extension": ".py",
   "mimetype": "text/x-python",
   "name": "python",
   "nbconvert_exporter": "python",
   "pygments_lexer": "ipython3",
   "version": "3.9.15"
  },
  "orig_nbformat": 4,
  "vscode": {
   "interpreter": {
    "hash": "45ee2c370c0e963e4e49358b10a59290a6be7f92ec5c669b0190648af6bbe07d"
   }
  }
 },
 "nbformat": 4,
 "nbformat_minor": 2
}
