{
 "cells": [
  {
   "attachments": {},
   "cell_type": "markdown",
   "metadata": {},
   "source": [
    "2 행렬의 덧셈"
   ]
  },
  {
   "cell_type": "code",
   "execution_count": 257,
   "metadata": {},
   "outputs": [],
   "source": [
    "import numpy as np\n",
    "\n",
    "def solution(arr1,arr2):\n",
    "    return (np.array(arr1) + np.array(arr2)).tolist()\n",
    "\n"
   ]
  },
  {
   "cell_type": "code",
   "execution_count": 258,
   "metadata": {},
   "outputs": [
    {
     "data": {
      "text/plain": [
       "list"
      ]
     },
     "execution_count": 258,
     "metadata": {},
     "output_type": "execute_result"
    }
   ],
   "source": [
    "arr1 = [[1,2],[2,3]]\n",
    "type(arr1)"
   ]
  },
  {
   "cell_type": "code",
   "execution_count": 259,
   "metadata": {},
   "outputs": [],
   "source": [
    "# 첫 실수\n",
    "# 함수 정의할 때 : 안씀.\n",
    "\n",
    "\n",
    "# 두번째 실수\n",
    "# np.array(리스트) 기억이 안남.. (np변환만 10번 넘게 검색한듯.. 이제는 기억할 때가 되지 않았는가)\n",
    "\n",
    "\n",
    "# 세번째 실수\n",
    "# 타입오류남. 오류코드는.....\n",
    "# TypeError: Object of type ndarray is not JSON serializable\n",
    "# 그대로 검색해보니 어레이.tolist() 붙이면 리스트로 변환 됨."
   ]
  },
  {
   "attachments": {},
   "cell_type": "markdown",
   "metadata": {},
   "source": [
    "3 수박수박수박수박수박수?"
   ]
  },
  {
   "cell_type": "code",
   "execution_count": 260,
   "metadata": {},
   "outputs": [],
   "source": [
    "def solution(n):\n",
    "    몫 = n//2\n",
    "    나머지 = n%2\n",
    "    answer = ('수박')*몫 + ('수')*나머지\n",
    "    return answer"
   ]
  },
  {
   "cell_type": "code",
   "execution_count": 261,
   "metadata": {},
   "outputs": [
    {
     "data": {
      "text/plain": [
       "'수박수박수박수박수박수박수박수박수박수박수박수박수박수박수박수박수박수박수박수박수박수박수박수박수박수박수박수박수박수박수박수박수박수박수박수박수박수박수박수박수박수박수박수박수박수박수박수박수박수박수박수박수박수박수박수박수박수박수박수박수박수박수박수박수박수박수박수박수박수박수박수박수박수박수박수박수박수박수박수박수박수박수박수박수박수박수박수박수박수박수박수박수박수박수박수박수박수박수박수박수박수박수박수박수박수박수박수박수박수박수박수박수박수박수박수박수박수박수박수박수박수박수박수박수박수박수박수박수박수박수박수박수박수박수박수박수박수박수박수박수박수박수박수박수박수박수박수박수박수박수박수박수박수박수박수박수박수박수박수박수박수박수박수박수박수박수박수박수박수박수박수박수박수박수박수박수박수박수박수박수박수박수박수박수박수박수박수박수박수박수박수박수박수박수박수박수박수박수박수박수박수박수박수박수박수박수박수박수박수박수박수박수박수박수박수박수박수박수박수박수박수박수박수박수박수박수박수박수박수박수박수박수박수박수박수박수박수박수박수박수박수박수박수박수박수박수박수박수박수박수박수박수박수박수박수박수박수박수박수박수박수박수박수박수박수박수박수박수박수박수박수박수박수박수박수박수박수박수박수박수박수박수박수박수박수박수박수박수박수박수박수박수박수박수박수박수박수박수박수박수박수박수박수박수박수박수박수박수박수박수박수박수박수박수박수박수박수박수박수박수박수박수박수박수박수박수박수박수박수박수박수박수박수박수박수박수박수박수박수박수박수박수박수박수박수박수박수박수박수박수박수박수박수박수박수박수박수박수박수박수박수박수박수박수박수박수박수박수박수박수박수박수박수박수박수박수박수박수박수박수박수박수박수박수박수박수박수박수박수박수박수박수박수박수박수박수박수박수박수박수박수박수박수박수박수박수박수박수박수박수박수박수박수박수박수박수박수박수박수박수박수박수박수박수박수박수박수박수박수박수박수박수박수박수박수박수박수박수박수박수박수박수박수박수박수박수박수박수박수박수박수박수박수박수박수박수박수박수박수박수박수박수박수박수박수박수박수박수박수박수박수박수박수박수박수박수박수박수박수박수박수박수박수박수박수박수박수박수박수박수박수박수박수박수박수박수박수박수박수박수박수박수박수박수박수박수박수박수박수박수박수박수박수박수박수박수박수박수박수박수박수박수박수박수박수박수박수박수박수박수박수박수박수박수박수박수박수박수박수박수박수박수박수박수박수박수박수박수박수박수박수박수박수박수박수박수박수박수박수박수박수박수박수박수박수박수박수박수박수박수박수박수박수박수박수박수박수박수박수박수박수박수박수박수박수박수박수박수박수박수박수박수박수박수박수박수박수박수박수박수박수박수박수박수박수박수박수박수박수박수박수박수박수박수박수박수박수박수박수박수박수박수박수박수박수박수박수박수박수박수박수박수박수박수박수박수박수박수박수박수박수박수박수박수박수박수박수박수박수박수박수박수박수박수박수박수박수박수박수박수박수박수박수박수박수박수박수박수박수박수박수박수박수박수박수박수박수박수박수박수박수박수박수박수박수박수박수박수박수박수박수박수박수박수박수박수박수박수박수박수박수박수박수박수박수박수박수박수박수박수박수박수박수박수박수박수박수박수박수박수박수박수박수박수박수박수박수박수박수박수박수박수박수박수박수박수박수박수박수박수박수박수박수박수박수박수박수박수박수박수박수박수박수박수박수박수박수박수박수박수박수박수박수박수박수박수박수박수박수박수박수박수박수박수박수박수박수박수박수박수박수박수박수박수박수박수박수박수박수박수박수박수박수박수박수박수박수박수박수박수박수박수박수박수박수박수박수박수박수박수박수박수박수박수박수박수박수박수박수박수박수박수박수박수박수박수박수박수박수박수박수박수박수박수박수박수박수박수박수박수박수박수박수박수박수박수박수박수박수박수박수박수박수박수박수박수박수박수박수박수박수박수박수박수박수박수박수박수박수박수박수박수박수박수박수박수박수박수박수박수박수박수박수박수박수박수박수박수박수박수박수박수박수박수박수박수박수박수박수박수박수박수박수박수박수박수박수박수박수박수박수박수박수박수박수박수박수박수박수박수박수박수박수박수박수박수박수박수박수박수박수박수박수박수박수박수박수박수박수박수박수박수박수박수박수박수박수박수박수박수박수박수박수박수박수박수박수박수박수박수박수박수박수박수박수박수박수박수박수박수박수박수박수박수박수박수박수박수박수박수박수박수박수박수박수박수박수박수박수박수박수박수박수박수박수박수박수박수박수박'"
      ]
     },
     "execution_count": 261,
     "metadata": {},
     "output_type": "execute_result"
    }
   ],
   "source": [
    "solution(2000)"
   ]
  },
  {
   "attachments": {},
   "cell_type": "markdown",
   "metadata": {},
   "source": [
    "4 완주하지 못한 선수"
   ]
  },
  {
   "cell_type": "code",
   "execution_count": 262,
   "metadata": {},
   "outputs": [],
   "source": [
    "def solution(participant, completion):\n",
    "    participant.sort()\n",
    "    completion.sort()\n",
    "    for i in range(len(completion)):\n",
    "        if participant[i] == completion[i]:\n",
    "            continue\n",
    "        else:\n",
    "            return participant[i]\n",
    "    return participant[-1]"
   ]
  },
  {
   "cell_type": "code",
   "execution_count": null,
   "metadata": {},
   "outputs": [],
   "source": []
  },
  {
   "attachments": {},
   "cell_type": "markdown",
   "metadata": {},
   "source": [
    "7 핸드폰 번호 가리기"
   ]
  },
  {
   "cell_type": "code",
   "execution_count": 263,
   "metadata": {},
   "outputs": [],
   "source": [
    "#나의 코드\n",
    "\n",
    "def solution(phone_number):\n",
    "    return phone_number.replace(phone_number[:-4],'*'*(len(phone_number)-4))\n",
    "    # 핸드폰번호를 대채하는데, 다른부분은 놔두고, 처음부터 -4번째 전까지만 바꾼다. 바꿀부분은 별로 바꿀껀데, 그 갯수는 원래 핸드폰 길이에서 4개 적은 개수로 한다."
   ]
  },
  {
   "cell_type": "code",
   "execution_count": 264,
   "metadata": {},
   "outputs": [],
   "source": [
    "#다른 사람 코드\n",
    "\n",
    "def hide_numbers(s):\n",
    "    return \"*\"*(len(s)-4) + s[-4:]"
   ]
  },
  {
   "attachments": {},
   "cell_type": "markdown",
   "metadata": {},
   "source": [
    "8 크레인 인형뽑기 게임"
   ]
  },
  {
   "attachments": {},
   "cell_type": "markdown",
   "metadata": {},
   "source": [
    "### 1차시도 - 실패"
   ]
  },
  {
   "cell_type": "code",
   "execution_count": 265,
   "metadata": {},
   "outputs": [],
   "source": [
    "import numpy as np"
   ]
  },
  {
   "cell_type": "code",
   "execution_count": 266,
   "metadata": {},
   "outputs": [],
   "source": [
    "# board\n",
    "# [[0,0,0,0,0],[0,0,1,0,3],[0,2,5,0,1],[4,2,4,4,2],[3,5,1,3,1]]"
   ]
  },
  {
   "cell_type": "code",
   "execution_count": 267,
   "metadata": {},
   "outputs": [
    {
     "data": {
      "text/plain": [
       "array([[0, 0, 0, 0, 0],\n",
       "       [0, 0, 1, 0, 3],\n",
       "       [0, 2, 5, 0, 1],\n",
       "       [4, 2, 4, 4, 2],\n",
       "       [3, 5, 1, 3, 1]])"
      ]
     },
     "execution_count": 267,
     "metadata": {},
     "output_type": "execute_result"
    }
   ],
   "source": [
    "a=np.array([[0,0,0,0,0],[0,0,1,0,3],[0,2,5,0,1],[4,2,4,4,2],[3,5,1,3,1]])\n",
    "a_trans = a.T\n",
    "\n",
    "a"
   ]
  },
  {
   "cell_type": "code",
   "execution_count": 268,
   "metadata": {},
   "outputs": [
    {
     "data": {
      "text/plain": [
       "array([[0, 0, 0, 4, 3],\n",
       "       [0, 0, 2, 2, 5],\n",
       "       [0, 1, 5, 4, 1],\n",
       "       [0, 0, 0, 4, 3],\n",
       "       [0, 3, 1, 2, 1]])"
      ]
     },
     "execution_count": 268,
     "metadata": {},
     "output_type": "execute_result"
    }
   ],
   "source": [
    "a_trans #전치행렬"
   ]
  },
  {
   "cell_type": "code",
   "execution_count": 269,
   "metadata": {},
   "outputs": [
    {
     "data": {
      "text/plain": [
       "array([0, 0, 0, 4, 3])"
      ]
     },
     "execution_count": 269,
     "metadata": {},
     "output_type": "execute_result"
    }
   ],
   "source": [
    "a_trans[0]"
   ]
  },
  {
   "cell_type": "code",
   "execution_count": 270,
   "metadata": {},
   "outputs": [
    {
     "data": {
      "text/plain": [
       "array([0, 3, 1, 2, 1])"
      ]
     },
     "execution_count": 270,
     "metadata": {},
     "output_type": "execute_result"
    }
   ],
   "source": [
    "a_trans[4]"
   ]
  },
  {
   "cell_type": "code",
   "execution_count": 271,
   "metadata": {},
   "outputs": [],
   "source": [
    "# def enter(moves):\n",
    "#     for i in range(len(moves)):\n",
    "#         h = k[i][0]\n",
    "#         print(k[i])\n",
    "#         print(h)\n",
    "#     return"
   ]
  },
  {
   "cell_type": "code",
   "execution_count": 272,
   "metadata": {},
   "outputs": [],
   "source": [
    "moves = [1,5,3,5,1,2,1,4] #a_trans 의 index 0,4,2,4,0,1,0,3 을 찾는다 "
   ]
  },
  {
   "cell_type": "code",
   "execution_count": 273,
   "metadata": {},
   "outputs": [],
   "source": [
    "def 상준(move):\n",
    "    a = []\n",
    "    for i in range(len(move)):\n",
    "        a.append(np.trim_zeros(a_trans[move[i]-1], trim='f')[0])\n",
    "        # arr = np.delete(arr, 13) #사용한 변수를 지우는 작업을 해야하는데.ㅠ\n",
    "    return a\n",
    "        "
   ]
  },
  {
   "cell_type": "code",
   "execution_count": 274,
   "metadata": {},
   "outputs": [],
   "source": [
    "# #함수를.. 만들 때... 변수명까지 같이 만들 수 있는가??!\n",
    "\n",
    "# #생성할 변수 개수\n",
    "# df_num=5\n",
    "\n",
    "# #자동 변수 선언\n",
    "# for i in range(1,df_num+1):\n",
    "# \tglobals()['df_{}'.format(i)]=\"hi~ df_{}\".format(i)\n",
    "\n",
    "# #선언 변수 출력\n",
    "# for i in range(1,df_num+1):\n",
    "# \tprint(globals()['df_{}'.format(i)])"
   ]
  },
  {
   "cell_type": "code",
   "execution_count": 275,
   "metadata": {},
   "outputs": [
    {
     "data": {
      "text/plain": [
       "[3, 1, 2, 1]"
      ]
     },
     "execution_count": 275,
     "metadata": {},
     "output_type": "execute_result"
    }
   ],
   "source": [
    "# i = 3\n",
    "# moves[3]-1 #4\n",
    "# a_trans[4] # array([0, 3, 1, 2, 1])\n",
    "np.trim_zeros(([0, 3, 1, 2, 1]), trim='f') #[3, 1, 2, 1]\n",
    "#원인을 찾았다.. 지워져야하는데.. 내 마음 속에서만 지웠구나.."
   ]
  },
  {
   "cell_type": "code",
   "execution_count": 276,
   "metadata": {},
   "outputs": [
    {
     "data": {
      "text/plain": [
       "[0, 1, 2, 3, 4, 5, 6, 7]"
      ]
     },
     "execution_count": 276,
     "metadata": {},
     "output_type": "execute_result"
    }
   ],
   "source": [
    "def ho():\n",
    "    b = []\n",
    "    for i in range(8):\n",
    "        b.append(i)\n",
    "    return b\n",
    "\n",
    "ho()\n",
    "\n",
    "# for i in range(10):\n",
    "    # print(i)"
   ]
  },
  {
   "cell_type": "code",
   "execution_count": 277,
   "metadata": {},
   "outputs": [
    {
     "data": {
      "text/plain": [
       "[4, 3, 1, 3, 4, 2, 4, 4]"
      ]
     },
     "execution_count": 277,
     "metadata": {},
     "output_type": "execute_result"
    }
   ],
   "source": [
    "상준(moves)"
   ]
  },
  {
   "cell_type": "code",
   "execution_count": 278,
   "metadata": {},
   "outputs": [
    {
     "data": {
      "text/plain": [
       "array([[0, 3, 1, 2, 1],\n",
       "       [0, 0, 0, 4, 3],\n",
       "       [0, 0, 2, 2, 5],\n",
       "       [0, 0, 0, 4, 3],\n",
       "       [0, 3, 1, 2, 1],\n",
       "       [0, 1, 5, 4, 1],\n",
       "       [0, 3, 1, 2, 1],\n",
       "       [0, 3, 1, 2, 1]])"
      ]
     },
     "execution_count": 278,
     "metadata": {},
     "output_type": "execute_result"
    }
   ],
   "source": [
    "a_trans[상준(moves)]"
   ]
  },
  {
   "cell_type": "code",
   "execution_count": 279,
   "metadata": {},
   "outputs": [],
   "source": [
    "# 배열의 13번째 값인 [70]을 삭제하기\n",
    "# arr = np.delete(arr, 13) # axis 값을 입력하지 않아도 된다.\n",
    "# arr"
   ]
  },
  {
   "cell_type": "code",
   "execution_count": 280,
   "metadata": {},
   "outputs": [],
   "source": [
    "#moves [1,5,3,5,1,2,1,4]"
   ]
  },
  {
   "cell_type": "code",
   "execution_count": 281,
   "metadata": {},
   "outputs": [],
   "source": [
    "a_trans_delete_0 = np.trim_zeros(a_trans[0], trim='f')\n",
    "a_trans_delete_1 = np.trim_zeros(a_trans[1], trim='f')\n",
    "a_trans_delete_2 = np.trim_zeros(a_trans[2], trim='f')\n",
    "a_trans_delete_3 = np.trim_zeros(a_trans[3], trim='f')\n",
    "a_trans_delete_4 = np.trim_zeros(a_trans[4], trim='f')"
   ]
  },
  {
   "cell_type": "code",
   "execution_count": 282,
   "metadata": {},
   "outputs": [
    {
     "name": "stdout",
     "output_type": "stream",
     "text": [
      "[4 3]\n",
      "[2 2 5]\n",
      "[1 5 4 1]\n",
      "[4 3]\n",
      "[3 1 2 1]\n"
     ]
    }
   ],
   "source": [
    "print(a_trans_delete_0)\n",
    "print(a_trans_delete_1)\n",
    "print(a_trans_delete_2)\n",
    "print(a_trans_delete_3)\n",
    "print(a_trans_delete_4) #결과값을 행렬로 다시 나타낼 수 있는가?"
   ]
  },
  {
   "cell_type": "code",
   "execution_count": 283,
   "metadata": {},
   "outputs": [],
   "source": [
    "# np.concatenate((a_trans_delete_0,a_trans_delete_1),axis=2)"
   ]
  },
  {
   "attachments": {},
   "cell_type": "markdown",
   "metadata": {},
   "source": [
    "### 2차 시도"
   ]
  },
  {
   "cell_type": "code",
   "execution_count": 284,
   "metadata": {},
   "outputs": [],
   "source": [
    "import numpy as np"
   ]
  },
  {
   "cell_type": "code",
   "execution_count": 285,
   "metadata": {},
   "outputs": [],
   "source": [
    "# board\n",
    "# [[0,0,0,0,0],[0,0,1,0,3],[0,2,5,0,1],[4,2,4,4,2],[3,5,1,3,1]]\n",
    "\n",
    "# moves = [1,5,3,5,1,2,1,4] #a_trans 의 index 0,4,2,4,0,1,0,3 을 찾는다 "
   ]
  },
  {
   "cell_type": "code",
   "execution_count": 286,
   "metadata": {},
   "outputs": [],
   "source": [
    "board =np.array([[0,0,0,0,0],[0,0,1,0,3],[0,2,5,0,1],[4,2,4,4,2],[3,5,1,3,1]])\n",
    "board_trans = board.T"
   ]
  },
  {
   "cell_type": "code",
   "execution_count": 287,
   "metadata": {},
   "outputs": [
    {
     "data": {
      "text/plain": [
       "array([[0, 0, 0, 4, 3],\n",
       "       [0, 0, 2, 2, 5],\n",
       "       [0, 1, 5, 4, 1],\n",
       "       [0, 0, 0, 4, 3],\n",
       "       [0, 3, 1, 2, 1]])"
      ]
     },
     "execution_count": 287,
     "metadata": {},
     "output_type": "execute_result"
    }
   ],
   "source": [
    "a_trans"
   ]
  },
  {
   "cell_type": "code",
   "execution_count": 288,
   "metadata": {},
   "outputs": [],
   "source": [
    "# doll_pull(a_trans[0])"
   ]
  },
  {
   "cell_type": "code",
   "execution_count": 289,
   "metadata": {},
   "outputs": [],
   "source": [
    "# #3일차 완성작\n",
    "\n",
    "# def 상준(move):\n",
    "#     a = []\n",
    "#     for i in range(len(move)):\n",
    "#         c = a_trans[move[i]-1]\n",
    "#         try:\n",
    "#             # print(np.trim_zeros(c, trim='f')[0])\n",
    "#             a.append(np.trim_zeros(c, trim='f')[0])\n",
    "#             # print(a)\n",
    "#         except IndexError:\n",
    "#             pass\n",
    "#         doll_pull(c)\n",
    "#     return a\n",
    "\n",
    "\n",
    "# 상준(moves)\n",
    "# #오........ ㅠㅠㅠㅠㅠㅠ 거의 나와버렸다. ㅠㅠㅠㅠㅠㅠㅠㅠ\n",
    "# #이제 중복만 제거하면 된다.. ㅠㅠ"
   ]
  },
  {
   "cell_type": "code",
   "execution_count": 290,
   "metadata": {},
   "outputs": [],
   "source": [
    "# def doll_pull(c):\n",
    "#     for i in range(len(c)):\n",
    "#         if c[i] != 0:\n",
    "#             answer = c[i]\n",
    "#             c[i] = 0\n",
    "#             # print(a_trans)\n",
    "#             return(answer)\n",
    "#         else:\n",
    "#             pass\n",
    "\n",
    "# #완벽하다.. 내가 원하는 함수를 만들었따.. ㅠㅠ"
   ]
  },
  {
   "cell_type": "code",
   "execution_count": 291,
   "metadata": {},
   "outputs": [],
   "source": [
    "import numpy as np\n",
    "\n",
    "def doll_pull(c): #뽑는 기계, c=기계가 뽑을 행\n",
    "    for i in range(len(c)): #c를 차례로 돌며 값이 있나 확인\n",
    "        if c[i] != 0: # c안의 값이 0이 아니라면,\n",
    "            answer = c[i]  #인형을 복사해서 정답에 넣고,\n",
    "            c[i] = 0 #복사된 인형은 삭제 (0으로 바꾸기)\n",
    "            print(answer) #(삭제없는) 정답함 확인\n",
    "            return(answer)\n",
    "        else:     #c안의 값이 전부 0이라면..?\n",
    "            pass  #그냥 넘어가\n",
    "\n",
    "\n",
    "def solution(board, moves):\n",
    "    board = np.array(board) #보드를 넘파이로\n",
    "    b = board.T  #보드 전치\n",
    "    a = []\n",
    "    answer = 0\n",
    "    for i in range(len(moves)): #moves 길이만큼 반복.. 뭘?\n",
    "        c = b[moves[i]-1]  #moves에서 말하는 board 행 찾기\n",
    "        try:\n",
    "            t = np.trim_zeros(c, trim='f')[0] #행에서 앞자리 0 지우고, 가장 앞에 있는 숫자를 t라 하자 \n",
    "            a.append(t)  # 리스트에 t값 추가\n",
    "            if len(a) == 1: #막 추가된 값 하나 뿐이라면,\n",
    "                pass #지나가\n",
    "            elif a[-2] == a[-1]: #추가된 인형이 연속으로 같다면,\n",
    "                del a[-1] \n",
    "                del a[-1]  #인형 두개 터뜨리고\n",
    "                answer += 2 #답에 2 추가\n",
    "            else: #막 시작한 것도 아니고, 인형이 연속으로 같지도 않으면\n",
    "                pass #그냥 지나가\n",
    "        except IndexError:  #np.trim_zero에서 빈행은 0으로 만들 수 없어 오류가 나면,\n",
    "            pass            #그냥 지나가\n",
    "        doll_pull(c) #인형뽑기\n",
    "    return answer"
   ]
  },
  {
   "cell_type": "code",
   "execution_count": 292,
   "metadata": {},
   "outputs": [],
   "source": [
    "# 상준(moves)\n",
    "\n",
    "# index 0 is out of bounds for axis 0 with size 0"
   ]
  },
  {
   "cell_type": "code",
   "execution_count": 293,
   "metadata": {},
   "outputs": [],
   "source": [
    "board = [[0,0,0,0,0],[0,0,1,0,3],[0,2,5,0,1],[4,2,4,4,2],[3,5,1,3,1]]\n",
    "\n",
    "moves = [1,5,3,5,1,2,1,4] #a_trans 의 index 0,4,2,4,0,1,0,3 을 찾는다 "
   ]
  },
  {
   "cell_type": "code",
   "execution_count": 294,
   "metadata": {},
   "outputs": [
    {
     "name": "stdout",
     "output_type": "stream",
     "text": [
      "4\n",
      "3\n",
      "1\n",
      "1\n",
      "3\n",
      "2\n",
      "4\n"
     ]
    },
    {
     "data": {
      "text/plain": [
       "4"
      ]
     },
     "execution_count": 294,
     "metadata": {},
     "output_type": "execute_result"
    }
   ],
   "source": [
    "solution(board, moves) #켈켈켈켈켘ㄹ켈"
   ]
  },
  {
   "attachments": {},
   "cell_type": "markdown",
   "metadata": {},
   "source": [
    "9 약수의 합"
   ]
  },
  {
   "cell_type": "code",
   "execution_count": 295,
   "metadata": {},
   "outputs": [],
   "source": [
    "# 23/01/11 pm 11:23 시작"
   ]
  },
  {
   "cell_type": "code",
   "execution_count": 296,
   "metadata": {},
   "outputs": [],
   "source": [
    "# #for문에 i 이해하기\n",
    "\n",
    "# n = 10\n",
    "# for i in range(n):\n",
    "#     print(i)"
   ]
  },
  {
   "cell_type": "code",
   "execution_count": 297,
   "metadata": {},
   "outputs": [],
   "source": [
    "#1번 실패작\n",
    "\n",
    "def solution(n):\n",
    "    answer = 0\n",
    "    for i in range(n):\n",
    "        if n%i==0:\n",
    "            answer += i\n",
    "            print(answer)\n",
    "    return answer\n",
    "\n",
    "\n",
    "\n",
    "# n = 12\n",
    "# solution(n)\n",
    "# ZeroDivisionError: integer division or modulo by zero"
   ]
  },
  {
   "cell_type": "code",
   "execution_count": 298,
   "metadata": {},
   "outputs": [],
   "source": [
    "#2번 실패작\n",
    "\n",
    "def solution(n):\n",
    "    answer = 0\n",
    "    for i in range(n):\n",
    "        if n%(i+1)==0:\n",
    "            answer += i\n",
    "            print(answer)\n",
    "    return answer\n",
    "\n",
    "\n",
    "\n",
    "# n = 12\n",
    "# solution(n)\n",
    "# 결과값 오류: answer에 i에 1 추가 안해줌"
   ]
  },
  {
   "cell_type": "code",
   "execution_count": 299,
   "metadata": {},
   "outputs": [],
   "source": [
    "#완성작\n",
    "\n",
    "def solution(n):\n",
    "    answer = 0\n",
    "    for i in range(n):\n",
    "        if n%(i+1)==0:\n",
    "            answer += (i+1)\n",
    "            print(answer)\n",
    "    return answer\n",
    "\n",
    "# n = 12\n",
    "# solution(n)"
   ]
  },
  {
   "attachments": {},
   "cell_type": "markdown",
   "metadata": {},
   "source": [
    "10 서울에서 김서방 찾기"
   ]
  },
  {
   "cell_type": "code",
   "execution_count": 300,
   "metadata": {},
   "outputs": [
    {
     "data": {
      "text/plain": [
       "1"
      ]
     },
     "execution_count": 300,
     "metadata": {},
     "output_type": "execute_result"
    }
   ],
   "source": [
    "seoul = [\"Jane\", \"Kim\"]\n",
    "# return = \"김서방은 1에 있다\"\n",
    "seoul.index('Kim')"
   ]
  },
  {
   "cell_type": "code",
   "execution_count": 301,
   "metadata": {},
   "outputs": [],
   "source": [
    "def solution(seoul):\n",
    "    김서방위치 = seoul.index('Kim')\n",
    "    answer = '김서방은 {}에 있다'.format(김서방위치)\n",
    "    return answer"
   ]
  },
  {
   "cell_type": "code",
   "execution_count": 302,
   "metadata": {},
   "outputs": [
    {
     "data": {
      "text/plain": [
       "'김서방은 1에 있다'"
      ]
     },
     "execution_count": 302,
     "metadata": {},
     "output_type": "execute_result"
    }
   ],
   "source": [
    "solution(seoul)"
   ]
  },
  {
   "attachments": {},
   "cell_type": "markdown",
   "metadata": {},
   "source": [
    "11 문자열 내 p와 y의 개수\n",
    "\n",
    ">대문자와 소문자가 섞여있는 문자열 s가 주어집니다. s에 'p'의 개수와 'y'의 개수를 비교해 같으면 True, 다르면 False를 return 하는 solution를 완성하세요. 'p', 'y' 모두 하나도 없는 경우는 항상 True를 리턴합니다. 단, 개수를 비교할 때 대문자와 소문자는 구별하지 않습니다.\n",
    "\n",
    "> 예를 들어 s가 \"pPoooyY\"면 true를 return하고 \"Pyy\"라면 false를 return합니다."
   ]
  },
  {
   "cell_type": "code",
   "execution_count": 303,
   "metadata": {},
   "outputs": [],
   "source": [
    "# s = \"pPoooyY\"\n",
    "# answer = true\n",
    "\n",
    "# s = \"Pyy\"\n",
    "# answer = false"
   ]
  },
  {
   "cell_type": "code",
   "execution_count": 304,
   "metadata": {},
   "outputs": [],
   "source": [
    "def solution(s):\n",
    "    if (s.count('p') + s.count('P')) == (s.count('y') + s.count('Y')):\n",
    "        answer = True\n",
    "    else:\n",
    "        answer = False\n",
    "    return answer"
   ]
  },
  {
   "cell_type": "code",
   "execution_count": 305,
   "metadata": {},
   "outputs": [
    {
     "data": {
      "text/plain": [
       "True"
      ]
     },
     "execution_count": 305,
     "metadata": {},
     "output_type": "execute_result"
    }
   ],
   "source": [
    "s = \"pPoooyY\"\n",
    "s.count('t') == s.count('c')\n"
   ]
  },
  {
   "cell_type": "code",
   "execution_count": 306,
   "metadata": {},
   "outputs": [
    {
     "data": {
      "text/plain": [
       "0"
      ]
     },
     "execution_count": 306,
     "metadata": {},
     "output_type": "execute_result"
    }
   ],
   "source": [
    "s = \"pPoooyY\"\n",
    "s.count('c')"
   ]
  },
  {
   "attachments": {},
   "cell_type": "markdown",
   "metadata": {},
   "source": [
    "### 12 체육복"
   ]
  },
  {
   "cell_type": "code",
   "execution_count": 307,
   "metadata": {},
   "outputs": [],
   "source": [
    "# s= [1,2,3]\n",
    "# s.index(4)\n",
    "\n",
    "# ValueError                                Traceback (most recent call last)"
   ]
  },
  {
   "cell_type": "code",
   "execution_count": 308,
   "metadata": {},
   "outputs": [],
   "source": [
    "# def solution(n, lost, reserve):\n",
    "\n",
    "    \n",
    "        \n",
    "\n",
    "    \n",
    "    \n",
    "#         체육복빌려주기(n, lost, reserve)\n",
    "        \n",
    "#     else:\n",
    "#         def 체육복빌려주기(n, lost, reserve):\n",
    "#             finally_lost = len(lost)\n",
    "#             for i in range(len(lost)):\n",
    "#                 try:\n",
    "#                     if (reserve.index((lost[i])-1)): #잃어버린 친구 앞번호에 여유친구가 여유복이 있다면,\n",
    "#                         reserve.remove(reserve.index((lost[i])-1)) #빌려준 여유복 없애고,\n",
    "#                         finally_lost = finally_lost -1\n",
    "#                 except ValueError:\n",
    "#                     try:\n",
    "#                         if (reserve.index((lost[i])+1)): #잃어버린 친구 뒷번호에 여유친구가 여유복이 있다면,\n",
    "#                             reserve.remove(reserve.index((lost[i])+1)) #빌려준 여유복 없애고,\n",
    "#                             finally_lost = finally_lost -1\n",
    "#                     except ValueError:\n",
    "#                         pass\n",
    "#         print('finally_lost:{}'.format(finally_lost))        \n",
    "#         return finally_lost\n",
    "\n",
    "#     return n - finally_lost +1"
   ]
  },
  {
   "cell_type": "code",
   "execution_count": 309,
   "metadata": {},
   "outputs": [],
   "source": [
    "#교집합 함수 만들기\n",
    "\n",
    "def 교집합함수(n, lost, reserve):\n",
    "    교집합 = list(set(lost).intersection(reserve))\n",
    "    if 교집합 != []: #두 리스트의 교집합이 있다면,\n",
    "        print('교집합:{}'.format(교집합))\n",
    "        print('교집합의 개수 :{}개'.format(len(교집합)))\n",
    "        for i in range(len(교집합)): #교집합의 수만큼 반복\n",
    "            print('교집합 값 {} 제거'.format(교집합[i]))\n",
    "            lost.remove(교집합[i])\n",
    "            reserve.remove(교집합[i])\n",
    "        print('lost:{}'.format(lost))\n",
    "        print('reserve:{}'.format(reserve))\n",
    "\n",
    "\n",
    "# n = 5\n",
    "# lost = [1,2,3,4,5]\n",
    "# reserve = [1,3,5]\n",
    "# # 정답: 5\n",
    "\n",
    "# print(lost)\n",
    "# 교집합함수(n, lost, reserve)\n",
    "# print(lost)\n"
   ]
  },
  {
   "cell_type": "code",
   "execution_count": 310,
   "metadata": {},
   "outputs": [],
   "source": [
    "# #체육복 빌려주는 함수\n",
    "# def 체육복빌려주기함수(n, lost, reserve):\n",
    "#     finally_lost = len(lost)\n",
    "#     print('finally_lost:{}'.format(finally_lost))\n",
    "#     for i in range(len(lost)):\n",
    "#         잃어버린친구번호 = lost[i]\n",
    "#         잃어버린친구앞번호 = lost[i]-1\n",
    "#         잃어버린친구뒷번호 = lost[i]+1\n",
    "#         try:\n",
    "#             print('잃어버린친구번호:{}'.format(잃어버린친구번호))\n",
    "#             if 잃어버린친구앞번호 in reserve: #잃어버린 친구 앞번호에 여유친구가 여유복이 있다면,\n",
    "#                 print('reserve:{}'.format(reserve))\n",
    "#                 reserve.remove(잃어버린친구앞번호) #빌려준 여유복 없애고,\n",
    "#                 print('reserve:{}'.format(reserve))\n",
    "#                 finally_lost = finally_lost -1\n",
    "#                 print('finally_lost:{}'.format(finally_lost))\n",
    "#         except ValueError:\n",
    "#             try:\n",
    "#                 print('잃어버린친구번호:{}'.format(잃어버린친구번호))\n",
    "#                 if 잃어버린친구뒷번호 in reserve: #잃어버린 친구 앞번호에 여유친구가 여유복이 있다면,\n",
    "#                     reserve.remove(잃어버린친구뒷번호) #빌려준 여유복 없애고,\n",
    "#                     finally_lost = finally_lost -1\n",
    "#                     print('finally_lost?:{}'.format(finally_lost))\n",
    "#             except ValueError:\n",
    "#                 pass     \n",
    "#     print('finally_lost!!:{}'.format(finally_lost))\n",
    "#     return n-finally_lost\n",
    "\n",
    "# n = 10\n",
    "# lost = [2,4]\n",
    "# reserve = [3,5]\n",
    "# 체육복빌려주기함수(n, lost, reserve)"
   ]
  },
  {
   "cell_type": "code",
   "execution_count": 311,
   "metadata": {},
   "outputs": [],
   "source": [
    "# n = 5\n",
    "# lost = [4]\n",
    "# reserve = [3]\n",
    "# 체육복빌려주기함수(n, lost, reserve)"
   ]
  },
  {
   "cell_type": "code",
   "execution_count": 312,
   "metadata": {},
   "outputs": [],
   "source": [
    "# #결합\n",
    "\n",
    "# def solution(n,lost,reserve):\n",
    "#     교집합함수(n, lost, reserve)\n",
    "#     print(n,lost,reserve)\n",
    "#     return 체육복빌려주기함수(n, lost, reserve)\n",
    "\n",
    "\n",
    "# n = 10\n",
    "# lost = [1,2,4]\n",
    "# reserve = [1,3,5]\n",
    "# solution(n,lost,reserve)\n"
   ]
  },
  {
   "cell_type": "code",
   "execution_count": 313,
   "metadata": {},
   "outputs": [],
   "source": [
    "# b1 = [1,2,3,4,5,9,11,15]\n",
    "# b2 = [3,4,6,7,8]\n",
    "# b3 = list(set(b1).intersection(b2))\n",
    "#교집합"
   ]
  },
  {
   "cell_type": "code",
   "execution_count": 314,
   "metadata": {},
   "outputs": [],
   "source": [
    "# # n\tlost\treserve\treturn\n",
    "# # 5\t[2, 4]\t[1, 3, 5]\t5\n",
    "# # 5\t[2, 4]\t[3]\t4\n",
    "# # 3\t[3]\t[1]\t2\n",
    "\n",
    "# n = 5\n",
    "# lost = [1,2,3,4,5]\n",
    "# reserve = [1,3,5]\n",
    "# # 정답: 5\n",
    "\n",
    "# solution(n,lost,reserve)"
   ]
  },
  {
   "cell_type": "code",
   "execution_count": 315,
   "metadata": {},
   "outputs": [],
   "source": [
    "# def 호호():\n",
    "#     return 'gkgk'\n",
    "# 호호()"
   ]
  },
  {
   "cell_type": "code",
   "execution_count": 316,
   "metadata": {},
   "outputs": [],
   "source": [
    "# #오류발생\n",
    "# a = [1]\n",
    "# a.remove[1]\n",
    "# # TypeError: 'builtin_function_or_method' object is not subscriptable\n",
    "\n",
    "# #괄호가 대괄호가 아니라 소괄호다"
   ]
  },
  {
   "cell_type": "code",
   "execution_count": 317,
   "metadata": {},
   "outputs": [],
   "source": [
    "# 리스트.remove(값)"
   ]
  },
  {
   "attachments": {},
   "cell_type": "markdown",
   "metadata": {},
   "source": [
    "체육복 2차 도전"
   ]
  },
  {
   "cell_type": "code",
   "execution_count": 318,
   "metadata": {},
   "outputs": [],
   "source": [
    "# #교집합 함수 만들기\n",
    "\n",
    "# def 교집합함수(n, lost, reserve):\n",
    "#     교집합 = list(set(lost).intersection(reserve))\n",
    "#     if 교집합 != []: #두 리스트의 교집합이 있다면,\n",
    "#         print('교집합:{}'.format(교집합))\n",
    "#         print('교집합의 개수 :{}개'.format(len(교집합)))\n",
    "#         for i in range(len(교집합)): #교집합의 수만큼 반복\n",
    "#             print('교집합 값 {} 제거'.format(교집합[i]))\n",
    "#             lost.remove(교집합[i])\n",
    "#             reserve.remove(교집합[i])\n",
    "#         print('lost:{}'.format(lost))\n",
    "#         print('reserve:{}'.format(reserve))\n",
    "#     else:\n",
    "#         print('교집함없음')\n"
   ]
  },
  {
   "cell_type": "code",
   "execution_count": 319,
   "metadata": {},
   "outputs": [],
   "source": [
    "# # n\tlost\treserve\treturn\n",
    "# # 5\t[2, 4]\t[1, 3, 5]\t5\n",
    "# # 5\t[2, 4]\t[3]\t4\n",
    "# # 3\t[3]\t[1]\t2\n",
    "\n",
    "# n = 5\n",
    "# lost = [1,2,3,4,5]\n",
    "# reserve = [1,3,5]\n",
    "# # 정답: 5\n",
    "\n",
    "# solution(n,lost,reserve)"
   ]
  },
  {
   "cell_type": "code",
   "execution_count": 320,
   "metadata": {},
   "outputs": [],
   "source": [
    "\n",
    "# n = 6\n",
    "# lost = [1,2,4]\n",
    "# reserve = [3,4,5]\n",
    "# # 정답: 5\n",
    "\n",
    "# # solution(n,lost,reserve)\n",
    "# 교집합함수(n, lost, reserve)\n"
   ]
  },
  {
   "cell_type": "code",
   "execution_count": 321,
   "metadata": {},
   "outputs": [],
   "source": [
    "def 여유치수줄이기(n,lost,reserve):\n",
    "    for i in range(len(reserve)):\n",
    "        reserve[i] = reserve[i]-1\n",
    "    print('치수줄인reserve:{}'.format(reserve)) #줄어든 여유분 체육복 치수"
   ]
  },
  {
   "cell_type": "code",
   "execution_count": 322,
   "metadata": {},
   "outputs": [],
   "source": [
    "def 여유치수늘리기(n,lost,reserve):\n",
    "    for i in range(len(reserve)):\n",
    "        reserve[i] = reserve[i]+2\n",
    "    print('원상복귀 후 치수늘린 reserve:{}'.format(reserve)) #치수늘린 여유분 체육복 치수"
   ]
  },
  {
   "cell_type": "code",
   "execution_count": 323,
   "metadata": {},
   "outputs": [],
   "source": [
    "n = 6\n",
    "lost = [1,2,4]\n",
    "reserve = [3,4,5]\n",
    "\n",
    "def solution(n, lost, reserve):\n",
    "    교집합함수(n, lost, reserve)\n",
    "    여유치수줄이기(n,lost,reserve)\n",
    "    교집합함수(n, lost, reserve)\n",
    "    여유치수늘리기(n,lost,reserve)\n",
    "    교집합함수(n, lost, reserve)\n",
    "    return n-len(lost)"
   ]
  },
  {
   "cell_type": "code",
   "execution_count": 324,
   "metadata": {},
   "outputs": [],
   "source": [
    "# solution(n, lost, reserve)"
   ]
  },
  {
   "cell_type": "code",
   "execution_count": 325,
   "metadata": {},
   "outputs": [],
   "source": [
    "# 정의\n",
    "\n",
    "def 교집합함수(n, lost, reserve):\n",
    "    교집합 = list(set(lost).intersection(reserve))\n",
    "    if 교집합 != []: #두 리스트의 교집합이 있다면,\n",
    "        print('교집합:{}'.format(교집합))\n",
    "        print('교집합의 개수 :{}개'.format(len(교집합)))\n",
    "        for i in range(len(교집합)): #교집합의 수만큼 반복\n",
    "            print('교집합 값 {} 제거'.format(교집합[i]))\n",
    "            lost.remove(교집합[i])\n",
    "            reserve.remove(교집합[i])\n",
    "        print('lost:{}'.format(lost))\n",
    "        print('reserve:{}'.format(reserve))\n",
    "    else:\n",
    "        print('교집함없음')\n",
    "\n",
    "\n",
    "def 여유치수줄이기(n,lost,reserve):\n",
    "    for i in range(len(reserve)):\n",
    "        reserve[i] = reserve[i]-1\n",
    "    print('치수줄인reserve:{}'.format(reserve)) #줄어든 여유분 체육복 치수\n",
    "\n",
    "\n",
    "def 여유치수늘리기(n,lost,reserve):\n",
    "    for i in range(len(reserve)):\n",
    "        reserve[i] = reserve[i]+2\n",
    "    print('원상복귀 후 치수늘린 reserve:{}'.format(reserve)) #치수늘린 여유분 체육복 치수\n",
    "\n",
    "\n",
    "def solution(n, lost, reserve):\n",
    "    교집합함수(n, lost, reserve)\n",
    "    여유치수줄이기(n,lost,reserve)\n",
    "    교집합함수(n, lost, reserve)\n",
    "    여유치수늘리기(n,lost,reserve)\n",
    "    교집합함수(n, lost, reserve)\n",
    "    return n-len(lost)\n"
   ]
  },
  {
   "cell_type": "code",
   "execution_count": 326,
   "metadata": {},
   "outputs": [],
   "source": [
    "# 정의\n",
    "\n",
    "def 교집합함수(n, lost, reserve):\n",
    "    교집합 = list(set(lost).intersection(reserve))\n",
    "    if 교집합 != []:\n",
    "        for i in range(len(교집합)):\n",
    "            lost.remove(교집합[i])\n",
    "            reserve.remove(교집합[i])\n",
    "\n",
    "\n",
    "\n",
    "def 여유치수1줄이기(n,lost,reserve):\n",
    "    for i in range(len(reserve)):\n",
    "        reserve[i] = reserve[i]-1\n",
    "\n",
    "\n",
    "\n",
    "\n",
    "def 여유치수1늘리기(n,lost,reserve):\n",
    "    for i in range(len(reserve)):\n",
    "        reserve[i] = reserve[i]+1\n",
    "\n",
    "\n",
    "\n",
    "def 여유치수2줄이기(n,lost,reserve):\n",
    "    for i in range(len(reserve)):\n",
    "        reserve[i] = reserve[i]-2\n",
    "\n",
    "\n",
    "\n",
    "\n",
    "def 여유치수2늘리기(n,lost,reserve):\n",
    "    for i in range(len(reserve)):\n",
    "        reserve[i] = reserve[i]+2\n",
    "\n",
    "\n",
    "def 늘리기먼저(a,b, c):\n",
    "    교집합함수(a, b, c)\n",
    "    여유치수1늘리기(a,b,c)\n",
    "    교집합함수(a, b, c)\n",
    "    여유치수2줄이기(a,b,c)\n",
    "    교집합함수(a, b, c)\n",
    "    return a-len(b)\n",
    "\n",
    "def 줄이기먼저(d, e, f):\n",
    "    교집합함수(d, e, f)\n",
    "    여유치수1줄이기(d,e,f)\n",
    "    교집합함수(d, e, f)\n",
    "    여유치수2늘리기(d,e,f)\n",
    "    교집합함수(d, e, f)\n",
    "    return d-len(e)\n",
    "\n",
    "\n",
    "def solution(n, lost, reserve):\n",
    "    lost.sort()\n",
    "    reserve.sort()\n",
    "    try:\n",
    "        if(1 in reserve):\n",
    "            return 늘리기먼저(n, lost, reserve)\n",
    "    except ValueError:\n",
    "        pass\n",
    "    return 줄이기먼저(n, lost, reserve)"
   ]
  },
  {
   "cell_type": "code",
   "execution_count": 327,
   "metadata": {},
   "outputs": [],
   "source": [
    "# #테스트 17,18,19,20, 25 틀림\n",
    "\n",
    "# n = 10\n",
    "# lost = [2,4  ,   7,9]\n",
    "# reserve = [1,3  ,  8,10]\n",
    "\n",
    "# solution(n, lost, reserve)\n",
    "\n",
    "# #현재 상황에서 체육복을 줄여버리면 0,2가 되고, 2를 먼저 빌려줘버리면, \n",
    "# # 나중에 늘려도 2만남아서.. 4번에게 빌려줄 수가 없음.\n",
    "# # 물론 치수 늘린거 먼저해도 같은 문제가 충분히 발생할듯\n",
    "\n",
    "# # 여유치수늘리기(n, lost, reserve)"
   ]
  },
  {
   "cell_type": "code",
   "execution_count": 328,
   "metadata": {},
   "outputs": [],
   "source": [
    "# n = 10\n",
    "# lost = [2,4]\n",
    "# reserve = [3,5]\n",
    "\n",
    "# solution(n, lost, reserve)"
   ]
  },
  {
   "attachments": {},
   "cell_type": "markdown",
   "metadata": {},
   "source": [
    "3차"
   ]
  },
  {
   "cell_type": "code",
   "execution_count": 329,
   "metadata": {},
   "outputs": [],
   "source": [
    "# n = 10\n",
    "# lost = [2,4  , 6,  7,9]\n",
    "# reserve = [1,3  ,  8,10]\n",
    "\n",
    "# # solution(n, lost, reserve)"
   ]
  },
  {
   "cell_type": "code",
   "execution_count": 330,
   "metadata": {},
   "outputs": [],
   "source": [
    "def 교집합함수(n, lost, reserve):\n",
    "    교집합 = list(set(lost).intersection(reserve))\n",
    "    if 교집합 != []:\n",
    "        for i in range(len(교집합)):\n",
    "            lost.remove(교집합[i])\n",
    "            reserve.remove(교집합[i])"
   ]
  },
  {
   "cell_type": "code",
   "execution_count": 331,
   "metadata": {},
   "outputs": [],
   "source": [
    "# 교집합함수(n,lost,reserve)\n",
    "# print(n,lost,reserve)\n",
    "\n",
    "# # lost[0] = 2\n",
    "# ori = 0\n",
    "# for i in range(len(lost)):\n",
    "#     if (lost[i]-1) in reserve:\n",
    "#         print('yes') \n",
    "#         reserve.remove(lost[i]-1)\n",
    "#         print(reserve)\n",
    "#         ori += 1\n",
    "#     elif (lost[i]+1) in reserve:\n",
    "#         print('sure')\n",
    "#         reserve.remove(lost[i]+1)\n",
    "#         ori += 1\n",
    "#     else:\n",
    "#         print('not here')\n",
    "\n",
    "# print(n,lost,reserve)\n",
    "# print(ori)"
   ]
  },
  {
   "cell_type": "code",
   "execution_count": 332,
   "metadata": {},
   "outputs": [],
   "source": [
    "# def 교집합함수(n, lost, reserve):\n",
    "#     교집합 = list(set(lost).intersection(reserve))\n",
    "#     if 교집합 != []:\n",
    "#         for i in range(len(교집합)):\n",
    "#             lost.remove(교집합[i])\n",
    "#             reserve.remove(교집합[i])\n",
    "\n",
    "# def solution(n,lost,reserve):\n",
    "#     교집합함수(n,lost,reserve)\n",
    "#     Salvation = 0\n",
    "#     for i in range(len(lost)):\n",
    "#         if (lost[i]-1) in reserve:\n",
    "#             reserve.remove(lost[i]-1)\n",
    "#             Salvation += 1\n",
    "#         elif (lost[i]+1) in reserve:\n",
    "#             reserve.remove(lost[i]+1)\n",
    "#             Salvation += 1\n",
    "#         else:\n",
    "#             pass\n",
    "#     return n-len(lost)+Salvation"
   ]
  },
  {
   "cell_type": "code",
   "execution_count": 333,
   "metadata": {},
   "outputs": [],
   "source": [
    "#해결!!!!!!!!!!!!!!!!!!!!!!!!!!!!!!!!!!!!!\n",
    "\n",
    "def 교집합함수(n, lost, reserve):\n",
    "    교집합 = list(set(lost).intersection(reserve))\n",
    "    if 교집합 != []:\n",
    "        for i in range(len(교집합)):\n",
    "            lost.remove(교집합[i])\n",
    "            reserve.remove(교집합[i])\n",
    "\n",
    "def solution(n,lost,reserve):\n",
    "    lost.sort()\n",
    "    reserve.sort()\n",
    "    교집합함수(n,lost,reserve)\n",
    "    Salvation = 0\n",
    "    for i in range(len(lost)):\n",
    "        if (lost[i]-1) in reserve:\n",
    "            reserve.remove(lost[i]-1)\n",
    "            Salvation += 1\n",
    "        elif (lost[i]+1) in reserve:\n",
    "            reserve.remove(lost[i]+1)\n",
    "            Salvation += 1\n",
    "        else:\n",
    "            pass\n",
    "    return n-len(lost)+Salvation"
   ]
  },
  {
   "cell_type": "code",
   "execution_count": 334,
   "metadata": {},
   "outputs": [
    {
     "data": {
      "text/plain": [
       "10"
      ]
     },
     "execution_count": 334,
     "metadata": {},
     "output_type": "execute_result"
    }
   ],
   "source": [
    "n = 10\n",
    "lost = [2,4  ,  7,9]\n",
    "reserve = [1,3  ,  8,10]\n",
    "\n",
    "solution(n,lost,reserve)"
   ]
  },
  {
   "cell_type": "code",
   "execution_count": null,
   "metadata": {},
   "outputs": [],
   "source": []
  },
  {
   "attachments": {},
   "cell_type": "markdown",
   "metadata": {},
   "source": [
    "### 13 두 정수 사이의 합"
   ]
  },
  {
   "cell_type": "code",
   "execution_count": null,
   "metadata": {},
   "outputs": [],
   "source": [
    "# 두 정수 a, b가 주어졌을 때 a와 b 사이에 속한 모든 정수의 합을 리턴하는 함수, solution을 완성하세요.\n",
    "# 예를 들어 a = 3, b = 5인 경우, 3 + 4 + 5 = 12이므로 12를 리턴합니다."
   ]
  },
  {
   "cell_type": "code",
   "execution_count": 335,
   "metadata": {},
   "outputs": [],
   "source": [
    "#내 코드\n",
    "def solution(a, b):\n",
    "    if a<b:\n",
    "        answer = (a+b)*(b-a+1)/2\n",
    "    elif a>b:\n",
    "        answer = (a+b)*(a-b+1)/2\n",
    "    else:\n",
    "        answer = a\n",
    "    return answer"
   ]
  },
  {
   "cell_type": "code",
   "execution_count": 336,
   "metadata": {},
   "outputs": [],
   "source": [
    "#다른사람 코드\n",
    "def adder(a, b):\n",
    "    if a > b: a, b = b, a\n",
    "    return sum(range(a,b+1))"
   ]
  },
  {
   "attachments": {},
   "cell_type": "markdown",
   "metadata": {},
   "source": [
    "14 문자열 다루기 기본"
   ]
  },
  {
   "cell_type": "code",
   "execution_count": null,
   "metadata": {},
   "outputs": [],
   "source": [
    "# 문자열 s의 길이가 4 혹은 6이고, 숫자로만 구성돼있는지 확인해주는 함수, solution을 완성하세요. 예를 들어 s가 \"a234\"이면 False를 리턴하고 \"1234\"라면 True를 리턴하면 됩니다."
   ]
  },
  {
   "cell_type": "code",
   "execution_count": 3,
   "metadata": {},
   "outputs": [],
   "source": [
    "# def solution(s):\n",
    "#     if (len(s)==4 or len(s)==6):\n",
    "#         try:\n",
    "#             if int(s) ==0:\n",
    "#                 answer = True\n",
    "#             else: \n",
    "#                 anwer = False\n",
    "#         except:\n",
    "#             anwer = False\n",
    "#     try:\n",
    "#         if int(s):\n",
    "#             if (len(s)==4 or len(s)==6):\n",
    "#                 answer = True\n",
    "#             else:\n",
    "#                 answer = False\n",
    "#         else:\n",
    "#             answer = False\n",
    "#     except:\n",
    "#         answer = False\n",
    "#     return answer"
   ]
  },
  {
   "cell_type": "code",
   "execution_count": 16,
   "metadata": {},
   "outputs": [],
   "source": [
    "#문자열의 길이가 4 or 6인가요?\n",
    "#문자가 숫자로만 되어있나요?\n",
    "#그러면 합격!!!!\n",
    "\n",
    "\n",
    "def solution(s):\n",
    "    if len(s)==4 or len(s)==6:\n",
    "        try:\n",
    "            if type(int(s)) == int:\n",
    "                answer = True\n",
    "        except:\n",
    "            answer = False\n",
    "    else:\n",
    "        answer = False\n",
    "    return answer"
   ]
  },
  {
   "cell_type": "code",
   "execution_count": 21,
   "metadata": {},
   "outputs": [
    {
     "data": {
      "text/plain": [
       "True"
      ]
     },
     "execution_count": 21,
     "metadata": {},
     "output_type": "execute_result"
    }
   ],
   "source": [
    "s='0000'\n",
    "solution(s)"
   ]
  },
  {
   "cell_type": "code",
   "execution_count": 20,
   "metadata": {},
   "outputs": [],
   "source": [
    "#다른사람의 코드\n",
    "\n",
    "def alpha_string46(s):\n",
    "    try:\n",
    "        int(s)\n",
    "    except:\n",
    "        return False\n",
    "    return len(s) == 4 or len(s) == 6 "
   ]
  }
 ],
 "metadata": {
  "kernelspec": {
   "display_name": "base",
   "language": "python",
   "name": "python3"
  },
  "language_info": {
   "codemirror_mode": {
    "name": "ipython",
    "version": 3
   },
   "file_extension": ".py",
   "mimetype": "text/x-python",
   "name": "python",
   "nbconvert_exporter": "python",
   "pygments_lexer": "ipython3",
   "version": "3.9.13"
  },
  "orig_nbformat": 4,
  "vscode": {
   "interpreter": {
    "hash": "e4cce46d6be9934fbd27f9ca0432556941ea5bdf741d4f4d64c6cd7f8dfa8fba"
   }
  }
 },
 "nbformat": 4,
 "nbformat_minor": 2
}
