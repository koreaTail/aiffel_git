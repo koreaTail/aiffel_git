{
 "cells": [
  {
   "attachments": {},
   "cell_type": "markdown",
   "metadata": {},
   "source": [
    "2 행렬의 덧셈"
   ]
  },
  {
   "cell_type": "code",
   "execution_count": null,
   "metadata": {},
   "outputs": [],
   "source": [
    "import numpy as np\n",
    "\n",
    "def solution(arr1,arr2):\n",
    "    return (np.array(arr1) + np.array(arr2)).tolist()"
   ]
  },
  {
   "cell_type": "code",
   "execution_count": null,
   "metadata": {},
   "outputs": [],
   "source": [
    "# 첫 실수\n",
    "# 함수 정의할 때 : 안씀.\n",
    "\n",
    "\n",
    "# 두번째 실수\n",
    "# np.array(리스트) 기억이 안남.. (np변환만 10번 넘게 검색한듯.. 이제는 기억할 때가 되지 않았는가)\n",
    "\n",
    "\n",
    "# 세번째 실수\n",
    "# 타입오류남. 오류코드는.....\n",
    "# TypeError: Object of type ndarray is not JSON serializable\n",
    "# 그대로 검색해보니 어레이.tolist() 붙이면 리스트로 변환 됨."
   ]
  },
  {
   "attachments": {},
   "cell_type": "markdown",
   "metadata": {},
   "source": [
    "3 수박수박수박수박수박수?"
   ]
  },
  {
   "cell_type": "code",
   "execution_count": 10,
   "metadata": {},
   "outputs": [],
   "source": [
    "def solution(n):\n",
    "    몫 = n//2\n",
    "    나머지 = n%2\n",
    "    answer = ('수박')*몫 + ('수')*나머지\n",
    "    return answer"
   ]
  },
  {
   "attachments": {},
   "cell_type": "markdown",
   "metadata": {},
   "source": [
    "4 완주하지 못한 선수"
   ]
  },
  {
   "cell_type": "code",
   "execution_count": null,
   "metadata": {},
   "outputs": [],
   "source": [
    "# def solution(participant, completion):\n",
    "#     participant.sort()\n",
    "#     completion.sort()\n",
    "#     for i in range(len(completion)):\n",
    "#         if participant[i] == completion[i]:\n",
    "#             continue\n",
    "#         else:\n",
    "#             return participant[i]\n",
    "#     return participant[-1]"
   ]
  },
  {
   "attachments": {},
   "cell_type": "markdown",
   "metadata": {},
   "source": [
    "7 핸드폰 번호 가리기"
   ]
  },
  {
   "cell_type": "code",
   "execution_count": 3,
   "metadata": {},
   "outputs": [],
   "source": [
    "#나의 코드\n",
    "\n",
    "def solution(phone_number):\n",
    "    return phone_number.replace(phone_number[:-4],'*'*(len(phone_number)-4))\n",
    "    # 핸드폰번호를 대채하는데, 다른부분은 놔두고, 처음부터 -4번째 전까지만 바꾼다. 바꿀부분은 별로 바꿀껀데, 그 갯수는 원래 핸드폰 길이에서 4개 적은 개수로 한다."
   ]
  },
  {
   "cell_type": "code",
   "execution_count": null,
   "metadata": {},
   "outputs": [],
   "source": [
    "#다른 사람 코드\n",
    "\n",
    "def hide_numbers(s):\n",
    "    return \"*\"*(len(s)-4) + s[-4:]"
   ]
  },
  {
   "attachments": {},
   "cell_type": "markdown",
   "metadata": {},
   "source": [
    "8 "
   ]
  }
 ],
 "metadata": {
  "kernelspec": {
   "display_name": "py39_tf",
   "language": "python",
   "name": "python3"
  },
  "language_info": {
   "codemirror_mode": {
    "name": "ipython",
    "version": 3
   },
   "file_extension": ".py",
   "mimetype": "text/x-python",
   "name": "python",
   "nbconvert_exporter": "python",
   "pygments_lexer": "ipython3",
   "version": "3.9.15 (main, Nov 24 2022, 14:39:17) [MSC v.1916 64 bit (AMD64)]"
  },
  "orig_nbformat": 4,
  "vscode": {
   "interpreter": {
    "hash": "45ee2c370c0e963e4e49358b10a59290a6be7f92ec5c669b0190648af6bbe07d"
   }
  }
 },
 "nbformat": 4,
 "nbformat_minor": 2
}
