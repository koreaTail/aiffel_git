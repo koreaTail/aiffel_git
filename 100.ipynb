{
 "cells": [
  {
   "attachments": {},
   "cell_type": "markdown",
   "metadata": {},
   "source": [
    "# 1주차"
   ]
  },
  {
   "attachments": {},
   "cell_type": "markdown",
   "metadata": {},
   "source": [
    "### 2 행렬의 덧셈"
   ]
  },
  {
   "cell_type": "code",
   "execution_count": 1,
   "metadata": {},
   "outputs": [],
   "source": [
    "import numpy as np\n",
    "\n",
    "def solution(arr1,arr2):\n",
    "    return (np.array(arr1) + np.array(arr2)).tolist()\n",
    "\n"
   ]
  },
  {
   "cell_type": "code",
   "execution_count": 2,
   "metadata": {},
   "outputs": [
    {
     "data": {
      "text/plain": [
       "list"
      ]
     },
     "execution_count": 2,
     "metadata": {},
     "output_type": "execute_result"
    }
   ],
   "source": [
    "arr1 = [[1,2],[2,3]]\n",
    "type(arr1)"
   ]
  },
  {
   "cell_type": "code",
   "execution_count": 3,
   "metadata": {},
   "outputs": [],
   "source": [
    "# 첫 실수\n",
    "# 함수 정의할 때 : 안씀.\n",
    "\n",
    "\n",
    "# 두번째 실수\n",
    "# np.array(리스트) 기억이 안남.. (np변환만 10번 넘게 검색한듯.. 이제는 기억할 때가 되지 않았는가)\n",
    "\n",
    "\n",
    "# 세번째 실수\n",
    "# 타입오류남. 오류코드는.....\n",
    "# TypeError: Object of type ndarray is not JSON serializable\n",
    "# 그대로 검색해보니 어레이.tolist() 붙이면 리스트로 변환 됨."
   ]
  },
  {
   "attachments": {},
   "cell_type": "markdown",
   "metadata": {},
   "source": [
    "3 수박수박수박수박수박수?"
   ]
  },
  {
   "cell_type": "code",
   "execution_count": 4,
   "metadata": {},
   "outputs": [],
   "source": [
    "def solution(n):\n",
    "    몫 = n//2\n",
    "    나머지 = n%2\n",
    "    answer = ('수박')*몫 + ('수')*나머지\n",
    "    return answer"
   ]
  },
  {
   "cell_type": "code",
   "execution_count": 5,
   "metadata": {},
   "outputs": [
    {
     "data": {
      "text/plain": [
       "'수박수박수박수박수박수박수박수박수박수박수박수박수박수박수박수박수박수박수박수박수박수박수박수박수박수박수박수박수박수박수박수박수박수박수박수박수박수박수박수박수박수박수박수박수박수박수박수박수박수박수박수박수박수박수박수박수박수박수박수박수박수박수박수박수박수박수박수박수박수박수박수박수박수박수박수박수박수박수박수박수박수박수박수박수박수박수박수박수박수박수박수박수박수박수박수박수박수박수박수박수박수박수박수박수박수박수박수박수박수박수박수박수박수박수박수박수박수박수박수박수박수박수박수박수박수박수박수박수박수박수박수박수박수박수박수박수박수박수박수박수박수박수박수박수박수박수박수박수박수박수박수박수박수박수박수박수박수박수박수박수박수박수박수박수박수박수박수박수박수박수박수박수박수박수박수박수박수박수박수박수박수박수박수박수박수박수박수박수박수박수박수박수박수박수박수박수박수박수박수박수박수박수박수박수박수박수박수박수박수박수박수박수박수박수박수박수박수박수박수박수박수박수박수박수박수박수박수박수박수박수박수박수박수박수박수박수박수박수박수박수박수박수박수박수박수박수박수박수박수박수박수박수박수박수박수박수박수박수박수박수박수박수박수박수박수박수박수박수박수박수박수박수박수박수박수박수박수박수박수박수박수박수박수박수박수박수박수박수박수박수박수박수박수박수박수박수박수박수박수박수박수박수박수박수박수박수박수박수박수박수박수박수박수박수박수박수박수박수박수박수박수박수박수박수박수박수박수박수박수박수박수박수박수박수박수박수박수박수박수박수박수박수박수박수박수박수박수박수박수박수박수박수박수박수박수박수박수박수박수박수박수박수박수박수박수박수박수박수박수박수박수박수박수박수박수박수박수박수박수박수박수박수박수박수박수박수박수박수박수박수박수박수박수박수박수박수박수박수박수박수박수박수박수박수박수박수박수박수박수박수박수박수박수박수박수박수박수박수박수박수박수박수박수박수박수박수박수박수박수박수박수박수박수박수박수박수박수박수박수박수박수박수박수박수박수박수박수박수박수박수박수박수박수박수박수박수박수박수박수박수박수박수박수박수박수박수박수박수박수박수박수박수박수박수박수박수박수박수박수박수박수박수박수박수박수박수박수박수박수박수박수박수박수박수박수박수박수박수박수박수박수박수박수박수박수박수박수박수박수박수박수박수박수박수박수박수박수박수박수박수박수박수박수박수박수박수박수박수박수박수박수박수박수박수박수박수박수박수박수박수박수박수박수박수박수박수박수박수박수박수박수박수박수박수박수박수박수박수박수박수박수박수박수박수박수박수박수박수박수박수박수박수박수박수박수박수박수박수박수박수박수박수박수박수박수박수박수박수박수박수박수박수박수박수박수박수박수박수박수박수박수박수박수박수박수박수박수박수박수박수박수박수박수박수박수박수박수박수박수박수박수박수박수박수박수박수박수박수박수박수박수박수박수박수박수박수박수박수박수박수박수박수박수박수박수박수박수박수박수박수박수박수박수박수박수박수박수박수박수박수박수박수박수박수박수박수박수박수박수박수박수박수박수박수박수박수박수박수박수박수박수박수박수박수박수박수박수박수박수박수박수박수박수박수박수박수박수박수박수박수박수박수박수박수박수박수박수박수박수박수박수박수박수박수박수박수박수박수박수박수박수박수박수박수박수박수박수박수박수박수박수박수박수박수박수박수박수박수박수박수박수박수박수박수박수박수박수박수박수박수박수박수박수박수박수박수박수박수박수박수박수박수박수박수박수박수박수박수박수박수박수박수박수박수박수박수박수박수박수박수박수박수박수박수박수박수박수박수박수박수박수박수박수박수박수박수박수박수박수박수박수박수박수박수박수박수박수박수박수박수박수박수박수박수박수박수박수박수박수박수박수박수박수박수박수박수박수박수박수박수박수박수박수박수박수박수박수박수박수박수박수박수박수박수박수박수박수박수박수박수박수박수박수박수박수박수박수박수박수박수박수박수박수박수박수박수박수박수박수박수박수박수박수박수박수박수박수박수박수박수박수박수박수박수박수박수박수박수박수박수박수박수박수박수박수박수박수박수박수박수박수박수박수박수박수박수박수박수박수박수박수박수박수박수박수박수박수박수박수박수박수박수박수박수박수박수박수박수박수박수박수박수박수박수박수박수박수박수박수박수박수박수박수박수박수박수박수박수박수박수박수박수박수박수박수박수박수박수박수박수박수박수박수박수박수박수박수박수박수박수박수박수박수박수박수박수박수박수박수박수박수박수박수박수박수박수박수박수박수박수박수박수박수박수박수박수박수박수박수박'"
      ]
     },
     "execution_count": 5,
     "metadata": {},
     "output_type": "execute_result"
    }
   ],
   "source": [
    "solution(2000)"
   ]
  },
  {
   "attachments": {},
   "cell_type": "markdown",
   "metadata": {},
   "source": [
    "4 완주하지 못한 선수"
   ]
  },
  {
   "cell_type": "code",
   "execution_count": 6,
   "metadata": {},
   "outputs": [],
   "source": [
    "def solution(participant, completion):\n",
    "    participant.sort()\n",
    "    completion.sort()\n",
    "    for i in range(len(completion)):\n",
    "        if participant[i] == completion[i]:\n",
    "            continue\n",
    "        else:\n",
    "            return participant[i]\n",
    "    return participant[-1]"
   ]
  },
  {
   "cell_type": "code",
   "execution_count": null,
   "metadata": {},
   "outputs": [],
   "source": []
  },
  {
   "attachments": {},
   "cell_type": "markdown",
   "metadata": {},
   "source": [
    "7 핸드폰 번호 가리기"
   ]
  },
  {
   "cell_type": "code",
   "execution_count": 7,
   "metadata": {},
   "outputs": [],
   "source": [
    "#나의 코드\n",
    "\n",
    "def solution(phone_number):\n",
    "    return phone_number.replace(phone_number[:-4],'*'*(len(phone_number)-4))\n",
    "    # 핸드폰번호를 대채하는데, 다른부분은 놔두고, 처음부터 -4번째 전까지만 바꾼다. 바꿀부분은 별로 바꿀껀데, 그 갯수는 원래 핸드폰 길이에서 4개 적은 개수로 한다."
   ]
  },
  {
   "cell_type": "code",
   "execution_count": 8,
   "metadata": {},
   "outputs": [],
   "source": [
    "#다른 사람 코드\n",
    "\n",
    "def hide_numbers(s):\n",
    "    return \"*\"*(len(s)-4) + s[-4:]"
   ]
  },
  {
   "attachments": {},
   "cell_type": "markdown",
   "metadata": {},
   "source": [
    "# 2주차"
   ]
  },
  {
   "attachments": {},
   "cell_type": "markdown",
   "metadata": {},
   "source": [
    "### 8 크레인 인형뽑기 게임"
   ]
  },
  {
   "attachments": {},
   "cell_type": "markdown",
   "metadata": {},
   "source": [
    "#### 1차시도 - 실패"
   ]
  },
  {
   "cell_type": "code",
   "execution_count": 9,
   "metadata": {},
   "outputs": [],
   "source": [
    "import numpy as np"
   ]
  },
  {
   "cell_type": "code",
   "execution_count": 10,
   "metadata": {},
   "outputs": [],
   "source": [
    "# board\n",
    "# [[0,0,0,0,0],[0,0,1,0,3],[0,2,5,0,1],[4,2,4,4,2],[3,5,1,3,1]]"
   ]
  },
  {
   "cell_type": "code",
   "execution_count": 11,
   "metadata": {},
   "outputs": [
    {
     "data": {
      "text/plain": [
       "array([[0, 0, 0, 0, 0],\n",
       "       [0, 0, 1, 0, 3],\n",
       "       [0, 2, 5, 0, 1],\n",
       "       [4, 2, 4, 4, 2],\n",
       "       [3, 5, 1, 3, 1]])"
      ]
     },
     "execution_count": 11,
     "metadata": {},
     "output_type": "execute_result"
    }
   ],
   "source": [
    "a=np.array([[0,0,0,0,0],[0,0,1,0,3],[0,2,5,0,1],[4,2,4,4,2],[3,5,1,3,1]])\n",
    "a_trans = a.T\n",
    "\n",
    "a"
   ]
  },
  {
   "cell_type": "code",
   "execution_count": 12,
   "metadata": {},
   "outputs": [
    {
     "data": {
      "text/plain": [
       "array([[0, 0, 0, 4, 3],\n",
       "       [0, 0, 2, 2, 5],\n",
       "       [0, 1, 5, 4, 1],\n",
       "       [0, 0, 0, 4, 3],\n",
       "       [0, 3, 1, 2, 1]])"
      ]
     },
     "execution_count": 12,
     "metadata": {},
     "output_type": "execute_result"
    }
   ],
   "source": [
    "a_trans #전치행렬"
   ]
  },
  {
   "cell_type": "code",
   "execution_count": 13,
   "metadata": {},
   "outputs": [
    {
     "data": {
      "text/plain": [
       "array([0, 0, 0, 4, 3])"
      ]
     },
     "execution_count": 13,
     "metadata": {},
     "output_type": "execute_result"
    }
   ],
   "source": [
    "a_trans[0]"
   ]
  },
  {
   "cell_type": "code",
   "execution_count": 14,
   "metadata": {},
   "outputs": [
    {
     "data": {
      "text/plain": [
       "array([0, 3, 1, 2, 1])"
      ]
     },
     "execution_count": 14,
     "metadata": {},
     "output_type": "execute_result"
    }
   ],
   "source": [
    "a_trans[4]"
   ]
  },
  {
   "cell_type": "code",
   "execution_count": 15,
   "metadata": {},
   "outputs": [],
   "source": [
    "# def enter(moves):\n",
    "#     for i in range(len(moves)):\n",
    "#         h = k[i][0]\n",
    "#         print(k[i])\n",
    "#         print(h)\n",
    "#     return"
   ]
  },
  {
   "cell_type": "code",
   "execution_count": 16,
   "metadata": {},
   "outputs": [],
   "source": [
    "moves = [1,5,3,5,1,2,1,4] #a_trans 의 index 0,4,2,4,0,1,0,3 을 찾는다 "
   ]
  },
  {
   "cell_type": "code",
   "execution_count": 17,
   "metadata": {},
   "outputs": [],
   "source": [
    "def 상준(move):\n",
    "    a = []\n",
    "    for i in range(len(move)):\n",
    "        a.append(np.trim_zeros(a_trans[move[i]-1], trim='f')[0])\n",
    "        # arr = np.delete(arr, 13) #사용한 변수를 지우는 작업을 해야하는데.ㅠ\n",
    "    return a\n",
    "        "
   ]
  },
  {
   "cell_type": "code",
   "execution_count": 18,
   "metadata": {},
   "outputs": [],
   "source": [
    "# #함수를.. 만들 때... 변수명까지 같이 만들 수 있는가??!\n",
    "\n",
    "# #생성할 변수 개수\n",
    "# df_num=5\n",
    "\n",
    "# #자동 변수 선언\n",
    "# for i in range(1,df_num+1):\n",
    "# \tglobals()['df_{}'.format(i)]=\"hi~ df_{}\".format(i)\n",
    "\n",
    "# #선언 변수 출력\n",
    "# for i in range(1,df_num+1):\n",
    "# \tprint(globals()['df_{}'.format(i)])"
   ]
  },
  {
   "cell_type": "code",
   "execution_count": 19,
   "metadata": {},
   "outputs": [
    {
     "data": {
      "text/plain": [
       "[3, 1, 2, 1]"
      ]
     },
     "execution_count": 19,
     "metadata": {},
     "output_type": "execute_result"
    }
   ],
   "source": [
    "# i = 3\n",
    "# moves[3]-1 #4\n",
    "# a_trans[4] # array([0, 3, 1, 2, 1])\n",
    "np.trim_zeros(([0, 3, 1, 2, 1]), trim='f') #[3, 1, 2, 1]\n",
    "#원인을 찾았다.. 지워져야하는데.. 내 마음 속에서만 지웠구나.."
   ]
  },
  {
   "cell_type": "code",
   "execution_count": 20,
   "metadata": {},
   "outputs": [
    {
     "data": {
      "text/plain": [
       "[0, 1, 2, 3, 4, 5, 6, 7]"
      ]
     },
     "execution_count": 20,
     "metadata": {},
     "output_type": "execute_result"
    }
   ],
   "source": [
    "def ho():\n",
    "    b = []\n",
    "    for i in range(8):\n",
    "        b.append(i)\n",
    "    return b\n",
    "\n",
    "ho()\n",
    "\n",
    "# for i in range(10):\n",
    "    # print(i)"
   ]
  },
  {
   "cell_type": "code",
   "execution_count": 21,
   "metadata": {},
   "outputs": [
    {
     "data": {
      "text/plain": [
       "[4, 3, 1, 3, 4, 2, 4, 4]"
      ]
     },
     "execution_count": 21,
     "metadata": {},
     "output_type": "execute_result"
    }
   ],
   "source": [
    "상준(moves)"
   ]
  },
  {
   "cell_type": "code",
   "execution_count": 22,
   "metadata": {},
   "outputs": [
    {
     "data": {
      "text/plain": [
       "array([[0, 3, 1, 2, 1],\n",
       "       [0, 0, 0, 4, 3],\n",
       "       [0, 0, 2, 2, 5],\n",
       "       [0, 0, 0, 4, 3],\n",
       "       [0, 3, 1, 2, 1],\n",
       "       [0, 1, 5, 4, 1],\n",
       "       [0, 3, 1, 2, 1],\n",
       "       [0, 3, 1, 2, 1]])"
      ]
     },
     "execution_count": 22,
     "metadata": {},
     "output_type": "execute_result"
    }
   ],
   "source": [
    "a_trans[상준(moves)]"
   ]
  },
  {
   "cell_type": "code",
   "execution_count": 23,
   "metadata": {},
   "outputs": [],
   "source": [
    "# 배열의 13번째 값인 [70]을 삭제하기\n",
    "# arr = np.delete(arr, 13) # axis 값을 입력하지 않아도 된다.\n",
    "# arr"
   ]
  },
  {
   "cell_type": "code",
   "execution_count": 24,
   "metadata": {},
   "outputs": [],
   "source": [
    "#moves [1,5,3,5,1,2,1,4]"
   ]
  },
  {
   "cell_type": "code",
   "execution_count": 25,
   "metadata": {},
   "outputs": [],
   "source": [
    "a_trans_delete_0 = np.trim_zeros(a_trans[0], trim='f')\n",
    "a_trans_delete_1 = np.trim_zeros(a_trans[1], trim='f')\n",
    "a_trans_delete_2 = np.trim_zeros(a_trans[2], trim='f')\n",
    "a_trans_delete_3 = np.trim_zeros(a_trans[3], trim='f')\n",
    "a_trans_delete_4 = np.trim_zeros(a_trans[4], trim='f')"
   ]
  },
  {
   "cell_type": "code",
   "execution_count": 26,
   "metadata": {},
   "outputs": [
    {
     "name": "stdout",
     "output_type": "stream",
     "text": [
      "[4 3]\n",
      "[2 2 5]\n",
      "[1 5 4 1]\n",
      "[4 3]\n",
      "[3 1 2 1]\n"
     ]
    }
   ],
   "source": [
    "print(a_trans_delete_0)\n",
    "print(a_trans_delete_1)\n",
    "print(a_trans_delete_2)\n",
    "print(a_trans_delete_3)\n",
    "print(a_trans_delete_4) #결과값을 행렬로 다시 나타낼 수 있는가?"
   ]
  },
  {
   "cell_type": "code",
   "execution_count": 27,
   "metadata": {},
   "outputs": [],
   "source": [
    "# np.concatenate((a_trans_delete_0,a_trans_delete_1),axis=2)"
   ]
  },
  {
   "attachments": {},
   "cell_type": "markdown",
   "metadata": {},
   "source": [
    "#### 2차 시도"
   ]
  },
  {
   "cell_type": "code",
   "execution_count": 28,
   "metadata": {},
   "outputs": [],
   "source": [
    "import numpy as np"
   ]
  },
  {
   "cell_type": "code",
   "execution_count": 29,
   "metadata": {},
   "outputs": [],
   "source": [
    "# board\n",
    "# [[0,0,0,0,0],[0,0,1,0,3],[0,2,5,0,1],[4,2,4,4,2],[3,5,1,3,1]]\n",
    "\n",
    "# moves = [1,5,3,5,1,2,1,4] #a_trans 의 index 0,4,2,4,0,1,0,3 을 찾는다 "
   ]
  },
  {
   "cell_type": "code",
   "execution_count": 30,
   "metadata": {},
   "outputs": [],
   "source": [
    "board =np.array([[0,0,0,0,0],[0,0,1,0,3],[0,2,5,0,1],[4,2,4,4,2],[3,5,1,3,1]])\n",
    "board_trans = board.T"
   ]
  },
  {
   "cell_type": "code",
   "execution_count": 31,
   "metadata": {},
   "outputs": [
    {
     "data": {
      "text/plain": [
       "array([[0, 0, 0, 4, 3],\n",
       "       [0, 0, 2, 2, 5],\n",
       "       [0, 1, 5, 4, 1],\n",
       "       [0, 0, 0, 4, 3],\n",
       "       [0, 3, 1, 2, 1]])"
      ]
     },
     "execution_count": 31,
     "metadata": {},
     "output_type": "execute_result"
    }
   ],
   "source": [
    "a_trans"
   ]
  },
  {
   "cell_type": "code",
   "execution_count": 32,
   "metadata": {},
   "outputs": [],
   "source": [
    "# doll_pull(a_trans[0])"
   ]
  },
  {
   "cell_type": "code",
   "execution_count": 33,
   "metadata": {},
   "outputs": [],
   "source": [
    "# #3일차 완성작\n",
    "\n",
    "# def 상준(move):\n",
    "#     a = []\n",
    "#     for i in range(len(move)):\n",
    "#         c = a_trans[move[i]-1]\n",
    "#         try:\n",
    "#             # print(np.trim_zeros(c, trim='f')[0])\n",
    "#             a.append(np.trim_zeros(c, trim='f')[0])\n",
    "#             # print(a)\n",
    "#         except IndexError:\n",
    "#             pass\n",
    "#         doll_pull(c)\n",
    "#     return a\n",
    "\n",
    "\n",
    "# 상준(moves)\n",
    "# #오........ ㅠㅠㅠㅠㅠㅠ 거의 나와버렸다. ㅠㅠㅠㅠㅠㅠㅠㅠ\n",
    "# #이제 중복만 제거하면 된다.. ㅠㅠ"
   ]
  },
  {
   "cell_type": "code",
   "execution_count": 34,
   "metadata": {},
   "outputs": [],
   "source": [
    "# def doll_pull(c):\n",
    "#     for i in range(len(c)):\n",
    "#         if c[i] != 0:\n",
    "#             answer = c[i]\n",
    "#             c[i] = 0\n",
    "#             # print(a_trans)\n",
    "#             return(answer)\n",
    "#         else:\n",
    "#             pass\n",
    "\n",
    "# #완벽하다.. 내가 원하는 함수를 만들었따.. ㅠㅠ"
   ]
  },
  {
   "cell_type": "code",
   "execution_count": 35,
   "metadata": {},
   "outputs": [],
   "source": [
    "import numpy as np\n",
    "\n",
    "def doll_pull(c): #뽑는 기계, c=기계가 뽑을 행\n",
    "    for i in range(len(c)): #c를 차례로 돌며 값이 있나 확인\n",
    "        if c[i] != 0: # c안의 값이 0이 아니라면,\n",
    "            answer = c[i]  #인형을 복사해서 정답에 넣고,\n",
    "            c[i] = 0 #복사된 인형은 삭제 (0으로 바꾸기)\n",
    "            print(answer) #(삭제없는) 정답함 확인\n",
    "            return(answer)\n",
    "        else:     #c안의 값이 0이라면..?\n",
    "            pass  #그냥 넘어가\n",
    "\n",
    "\n",
    "def solution(board, moves):\n",
    "    board = np.array(board) #보드를 넘파이로\n",
    "    b = board.T  #보드 전치\n",
    "    a = []\n",
    "    answer = 0\n",
    "    for i in range(len(moves)): #moves 길이만큼 반복.. 뭘?\n",
    "        c = b[moves[i]-1]  #moves에서 말하는 board 행 찾기\n",
    "        try:\n",
    "            t = np.trim_zeros(c, trim='f')[0] #행에서 앞자리 0 지우고, 가장 앞에 있는 숫자를 t라 하자 \n",
    "            a.append(t)  # 리스트에 t값 추가\n",
    "            if len(a) == 1: #막 추가된 값 하나 뿐이라면,\n",
    "                pass #지나가\n",
    "            elif a[-2] == a[-1]: #추가된 인형이 연속으로 같다면,\n",
    "                del a[-1] \n",
    "                del a[-1]  #인형 두개 터뜨리고\n",
    "                answer += 2 #답에 2 추가\n",
    "            else: #막 시작한 것도 아니고, 인형이 연속으로 같지도 않으면\n",
    "                pass #그냥 지나가\n",
    "        except IndexError:  #np.trim_zero에서 빈행은 0으로 만들 수 없어 오류가 나면,\n",
    "            pass            #그냥 지나가\n",
    "        doll_pull(c) #인형뽑기\n",
    "    return answer"
   ]
  },
  {
   "cell_type": "code",
   "execution_count": 36,
   "metadata": {},
   "outputs": [],
   "source": [
    "# 상준(moves)\n",
    "\n",
    "# index 0 is out of bounds for axis 0 with size 0"
   ]
  },
  {
   "cell_type": "code",
   "execution_count": 37,
   "metadata": {},
   "outputs": [],
   "source": [
    "board = [[0,0,0,0,0],[0,0,1,0,3],[0,2,5,0,1],[4,2,4,4,2],[3,5,1,3,1]]\n",
    "\n",
    "moves = [1,5,3,5,1,2,1,4] #a_trans 의 index 0,4,2,4,0,1,0,3 을 찾는다 "
   ]
  },
  {
   "cell_type": "code",
   "execution_count": 38,
   "metadata": {},
   "outputs": [
    {
     "name": "stdout",
     "output_type": "stream",
     "text": [
      "4\n",
      "3\n",
      "1\n",
      "1\n",
      "3\n",
      "2\n",
      "4\n"
     ]
    },
    {
     "data": {
      "text/plain": [
       "4"
      ]
     },
     "execution_count": 38,
     "metadata": {},
     "output_type": "execute_result"
    }
   ],
   "source": [
    "solution(board, moves) #켈켈켈켈켘ㄹ켈"
   ]
  },
  {
   "attachments": {},
   "cell_type": "markdown",
   "metadata": {},
   "source": [
    "### 9 약수의 합"
   ]
  },
  {
   "cell_type": "code",
   "execution_count": 39,
   "metadata": {},
   "outputs": [],
   "source": [
    "# 23/01/11 pm 11:23 시작"
   ]
  },
  {
   "cell_type": "code",
   "execution_count": 40,
   "metadata": {},
   "outputs": [
    {
     "name": "stdout",
     "output_type": "stream",
     "text": [
      "0\n",
      "1\n",
      "2\n",
      "3\n",
      "4\n",
      "5\n",
      "6\n",
      "7\n",
      "8\n",
      "9\n"
     ]
    }
   ],
   "source": [
    "# #for문에 i 이해하기\n",
    "\n",
    "n = 10\n",
    "for i in range(n):\n",
    "    print(i)"
   ]
  },
  {
   "cell_type": "code",
   "execution_count": 41,
   "metadata": {},
   "outputs": [],
   "source": [
    "#1번 실패작\n",
    "\n",
    "def solution(n):\n",
    "    answer = 0\n",
    "    for i in range(n):\n",
    "        if n%i==0:\n",
    "            answer += i\n",
    "            print(answer)\n",
    "    return answer\n",
    "\n",
    "\n",
    "\n",
    "# n = 12\n",
    "# solution(n)\n",
    "# ZeroDivisionError: integer division or modulo by zero"
   ]
  },
  {
   "cell_type": "code",
   "execution_count": 42,
   "metadata": {},
   "outputs": [],
   "source": [
    "#2번 실패작\n",
    "\n",
    "def solution(n):\n",
    "    answer = 0\n",
    "    for i in range(n):\n",
    "        if n%(i+1)==0:\n",
    "            answer += i\n",
    "            print(answer)\n",
    "    return answer\n",
    "\n",
    "\n",
    "\n",
    "# n = 12\n",
    "# solution(n)\n",
    "# 결과값 오류: answer에 i에 1 추가 안해줌"
   ]
  },
  {
   "cell_type": "code",
   "execution_count": 43,
   "metadata": {},
   "outputs": [],
   "source": [
    "#완성작\n",
    "\n",
    "def solution(n):\n",
    "    answer = 0\n",
    "    for i in range(n):\n",
    "        if n%(i+1)==0:\n",
    "            answer += (i+1)\n",
    "            print(answer)\n",
    "    return answer\n",
    "\n",
    "# n = 12\n",
    "# solution(n)"
   ]
  },
  {
   "cell_type": "code",
   "execution_count": 44,
   "metadata": {},
   "outputs": [
    {
     "name": "stdout",
     "output_type": "stream",
     "text": [
      "1\n",
      "3\n",
      "7\n",
      "12\n",
      "22\n",
      "42\n"
     ]
    },
    {
     "data": {
      "text/plain": [
       "42"
      ]
     },
     "execution_count": 44,
     "metadata": {},
     "output_type": "execute_result"
    }
   ],
   "source": [
    "solution(20)"
   ]
  },
  {
   "attachments": {},
   "cell_type": "markdown",
   "metadata": {},
   "source": [
    "### 10 서울에서 김서방 찾기"
   ]
  },
  {
   "cell_type": "code",
   "execution_count": 45,
   "metadata": {},
   "outputs": [
    {
     "data": {
      "text/plain": [
       "1"
      ]
     },
     "execution_count": 45,
     "metadata": {},
     "output_type": "execute_result"
    }
   ],
   "source": [
    "seoul = [\"Jane\", \"Kim\"]\n",
    "# return = \"김서방은 1에 있다\"\n",
    "seoul.index('Kim')"
   ]
  },
  {
   "cell_type": "code",
   "execution_count": 46,
   "metadata": {},
   "outputs": [],
   "source": [
    "def solution(seoul):\n",
    "    김서방위치 = seoul.index('Kim')\n",
    "    answer = '김서방은 {}에 있다'.format(김서방위치)\n",
    "    return answer"
   ]
  },
  {
   "cell_type": "code",
   "execution_count": 47,
   "metadata": {},
   "outputs": [
    {
     "data": {
      "text/plain": [
       "'김서방은 1에 있다'"
      ]
     },
     "execution_count": 47,
     "metadata": {},
     "output_type": "execute_result"
    }
   ],
   "source": [
    "solution(seoul)"
   ]
  },
  {
   "attachments": {},
   "cell_type": "markdown",
   "metadata": {},
   "source": [
    "### 11 문자열 내 p와 y의 개수\n",
    "\n",
    ">대문자와 소문자가 섞여있는 문자열 s가 주어집니다. s에 'p'의 개수와 'y'의 개수를 비교해 같으면 True, 다르면 False를 return 하는 solution를 완성하세요. 'p', 'y' 모두 하나도 없는 경우는 항상 True를 리턴합니다. 단, 개수를 비교할 때 대문자와 소문자는 구별하지 않습니다.\n",
    "\n",
    "> 예를 들어 s가 \"pPoooyY\"면 true를 return하고 \"Pyy\"라면 false를 return합니다."
   ]
  },
  {
   "cell_type": "code",
   "execution_count": 48,
   "metadata": {},
   "outputs": [],
   "source": [
    "# s = \"pPoooyY\"\n",
    "# answer = true\n",
    "\n",
    "# s = \"Pyy\"\n",
    "# answer = false"
   ]
  },
  {
   "cell_type": "code",
   "execution_count": 49,
   "metadata": {},
   "outputs": [],
   "source": [
    "def solution(s):\n",
    "    if (s.count('p') + s.count('P')) == (s.count('y') + s.count('Y')):\n",
    "        answer = True\n",
    "    else:\n",
    "        answer = False\n",
    "    return answer"
   ]
  },
  {
   "cell_type": "code",
   "execution_count": 50,
   "metadata": {},
   "outputs": [
    {
     "data": {
      "text/plain": [
       "True"
      ]
     },
     "execution_count": 50,
     "metadata": {},
     "output_type": "execute_result"
    }
   ],
   "source": [
    "s = \"pPoooyY\"\n",
    "s.count('t') == s.count('c')\n"
   ]
  },
  {
   "cell_type": "code",
   "execution_count": 51,
   "metadata": {},
   "outputs": [
    {
     "data": {
      "text/plain": [
       "0"
      ]
     },
     "execution_count": 51,
     "metadata": {},
     "output_type": "execute_result"
    }
   ],
   "source": [
    "s = \"pPoooyY\"\n",
    "s.count('c')"
   ]
  },
  {
   "attachments": {},
   "cell_type": "markdown",
   "metadata": {},
   "source": [
    "### 12 체육복"
   ]
  },
  {
   "cell_type": "code",
   "execution_count": 52,
   "metadata": {},
   "outputs": [],
   "source": [
    "# s= [1,2,3]\n",
    "# s.index(4)\n",
    "\n",
    "# ValueError                                Traceback (most recent call last)"
   ]
  },
  {
   "cell_type": "code",
   "execution_count": 53,
   "metadata": {},
   "outputs": [],
   "source": [
    "# def solution(n, lost, reserve):\n",
    "\n",
    "    \n",
    "        \n",
    "\n",
    "    \n",
    "    \n",
    "#         체육복빌려주기(n, lost, reserve)\n",
    "        \n",
    "#     else:\n",
    "#         def 체육복빌려주기(n, lost, reserve):\n",
    "#             finally_lost = len(lost)\n",
    "#             for i in range(len(lost)):\n",
    "#                 try:\n",
    "#                     if (reserve.index((lost[i])-1)): #잃어버린 친구 앞번호에 여유친구가 여유복이 있다면,\n",
    "#                         reserve.remove(reserve.index((lost[i])-1)) #빌려준 여유복 없애고,\n",
    "#                         finally_lost = finally_lost -1\n",
    "#                 except ValueError:\n",
    "#                     try:\n",
    "#                         if (reserve.index((lost[i])+1)): #잃어버린 친구 뒷번호에 여유친구가 여유복이 있다면,\n",
    "#                             reserve.remove(reserve.index((lost[i])+1)) #빌려준 여유복 없애고,\n",
    "#                             finally_lost = finally_lost -1\n",
    "#                     except ValueError:\n",
    "#                         pass\n",
    "#         print('finally_lost:{}'.format(finally_lost))        \n",
    "#         return finally_lost\n",
    "\n",
    "#     return n - finally_lost +1"
   ]
  },
  {
   "cell_type": "code",
   "execution_count": 54,
   "metadata": {},
   "outputs": [],
   "source": [
    "#교집합 함수 만들기\n",
    "\n",
    "def 교집합함수(n, lost, reserve):\n",
    "    교집합 = list(set(lost).intersection(reserve))\n",
    "    if 교집합 != []: #두 리스트의 교집합이 있다면,\n",
    "        print('교집합:{}'.format(교집합))\n",
    "        print('교집합의 개수 :{}개'.format(len(교집합)))\n",
    "        for i in range(len(교집합)): #교집합의 수만큼 반복\n",
    "            print('교집합 값 {} 제거'.format(교집합[i]))\n",
    "            lost.remove(교집합[i])\n",
    "            reserve.remove(교집합[i])\n",
    "        print('lost:{}'.format(lost))\n",
    "        print('reserve:{}'.format(reserve))\n",
    "\n",
    "\n",
    "# n = 5\n",
    "# lost = [1,2,3,4,5]\n",
    "# reserve = [1,3,5]\n",
    "# # 정답: 5\n",
    "\n",
    "# print(lost)\n",
    "# 교집합함수(n, lost, reserve)\n",
    "# print(lost)\n"
   ]
  },
  {
   "cell_type": "code",
   "execution_count": 55,
   "metadata": {},
   "outputs": [],
   "source": [
    "# #체육복 빌려주는 함수\n",
    "# def 체육복빌려주기함수(n, lost, reserve):\n",
    "#     finally_lost = len(lost)\n",
    "#     print('finally_lost:{}'.format(finally_lost))\n",
    "#     for i in range(len(lost)):\n",
    "#         잃어버린친구번호 = lost[i]\n",
    "#         잃어버린친구앞번호 = lost[i]-1\n",
    "#         잃어버린친구뒷번호 = lost[i]+1\n",
    "#         try:\n",
    "#             print('잃어버린친구번호:{}'.format(잃어버린친구번호))\n",
    "#             if 잃어버린친구앞번호 in reserve: #잃어버린 친구 앞번호에 여유친구가 여유복이 있다면,\n",
    "#                 print('reserve:{}'.format(reserve))\n",
    "#                 reserve.remove(잃어버린친구앞번호) #빌려준 여유복 없애고,\n",
    "#                 print('reserve:{}'.format(reserve))\n",
    "#                 finally_lost = finally_lost -1\n",
    "#                 print('finally_lost:{}'.format(finally_lost))\n",
    "#         except ValueError:\n",
    "#             try:\n",
    "#                 print('잃어버린친구번호:{}'.format(잃어버린친구번호))\n",
    "#                 if 잃어버린친구뒷번호 in reserve: #잃어버린 친구 앞번호에 여유친구가 여유복이 있다면,\n",
    "#                     reserve.remove(잃어버린친구뒷번호) #빌려준 여유복 없애고,\n",
    "#                     finally_lost = finally_lost -1\n",
    "#                     print('finally_lost?:{}'.format(finally_lost))\n",
    "#             except ValueError:\n",
    "#                 pass     \n",
    "#     print('finally_lost!!:{}'.format(finally_lost))\n",
    "#     return n-finally_lost\n",
    "\n",
    "# n = 10\n",
    "# lost = [2,4]\n",
    "# reserve = [3,5]\n",
    "# 체육복빌려주기함수(n, lost, reserve)"
   ]
  },
  {
   "cell_type": "code",
   "execution_count": 56,
   "metadata": {},
   "outputs": [],
   "source": [
    "# n = 5\n",
    "# lost = [4]\n",
    "# reserve = [3]\n",
    "# 체육복빌려주기함수(n, lost, reserve)"
   ]
  },
  {
   "cell_type": "code",
   "execution_count": 57,
   "metadata": {},
   "outputs": [],
   "source": [
    "# #결합\n",
    "\n",
    "# def solution(n,lost,reserve):\n",
    "#     교집합함수(n, lost, reserve)\n",
    "#     print(n,lost,reserve)\n",
    "#     return 체육복빌려주기함수(n, lost, reserve)\n",
    "\n",
    "\n",
    "# n = 10\n",
    "# lost = [1,2,4]\n",
    "# reserve = [1,3,5]\n",
    "# solution(n,lost,reserve)\n"
   ]
  },
  {
   "cell_type": "code",
   "execution_count": 58,
   "metadata": {},
   "outputs": [],
   "source": [
    "# b1 = [1,2,3,4,5,9,11,15]\n",
    "# b2 = [3,4,6,7,8]\n",
    "# b3 = list(set(b1).intersection(b2))\n",
    "#교집합"
   ]
  },
  {
   "cell_type": "code",
   "execution_count": 59,
   "metadata": {},
   "outputs": [],
   "source": [
    "# # n\tlost\treserve\treturn\n",
    "# # 5\t[2, 4]\t[1, 3, 5]\t5\n",
    "# # 5\t[2, 4]\t[3]\t4\n",
    "# # 3\t[3]\t[1]\t2\n",
    "\n",
    "# n = 5\n",
    "# lost = [1,2,3,4,5]\n",
    "# reserve = [1,3,5]\n",
    "# # 정답: 5\n",
    "\n",
    "# solution(n,lost,reserve)"
   ]
  },
  {
   "cell_type": "code",
   "execution_count": 60,
   "metadata": {},
   "outputs": [],
   "source": [
    "# def 호호():\n",
    "#     return 'gkgk'\n",
    "# 호호()"
   ]
  },
  {
   "cell_type": "code",
   "execution_count": 61,
   "metadata": {},
   "outputs": [],
   "source": [
    "# #오류발생\n",
    "# a = [1]\n",
    "# a.remove[1]\n",
    "# # TypeError: 'builtin_function_or_method' object is not subscriptable\n",
    "\n",
    "# #괄호가 대괄호가 아니라 소괄호다"
   ]
  },
  {
   "cell_type": "code",
   "execution_count": 62,
   "metadata": {},
   "outputs": [],
   "source": [
    "# 리스트.remove(값)"
   ]
  },
  {
   "attachments": {},
   "cell_type": "markdown",
   "metadata": {},
   "source": [
    "체육복 2차 도전"
   ]
  },
  {
   "cell_type": "code",
   "execution_count": 63,
   "metadata": {},
   "outputs": [],
   "source": [
    "# #교집합 함수 만들기\n",
    "\n",
    "# def 교집합함수(n, lost, reserve):\n",
    "#     교집합 = list(set(lost).intersection(reserve))\n",
    "#     if 교집합 != []: #두 리스트의 교집합이 있다면,\n",
    "#         print('교집합:{}'.format(교집합))\n",
    "#         print('교집합의 개수 :{}개'.format(len(교집합)))\n",
    "#         for i in range(len(교집합)): #교집합의 수만큼 반복\n",
    "#             print('교집합 값 {} 제거'.format(교집합[i]))\n",
    "#             lost.remove(교집합[i])\n",
    "#             reserve.remove(교집합[i])\n",
    "#         print('lost:{}'.format(lost))\n",
    "#         print('reserve:{}'.format(reserve))\n",
    "#     else:\n",
    "#         print('교집함없음')\n"
   ]
  },
  {
   "cell_type": "code",
   "execution_count": 64,
   "metadata": {},
   "outputs": [],
   "source": [
    "# # n\tlost\treserve\treturn\n",
    "# # 5\t[2, 4]\t[1, 3, 5]\t5\n",
    "# # 5\t[2, 4]\t[3]\t4\n",
    "# # 3\t[3]\t[1]\t2\n",
    "\n",
    "# n = 5\n",
    "# lost = [1,2,3,4,5]\n",
    "# reserve = [1,3,5]\n",
    "# # 정답: 5\n",
    "\n",
    "# solution(n,lost,reserve)"
   ]
  },
  {
   "cell_type": "code",
   "execution_count": 65,
   "metadata": {},
   "outputs": [],
   "source": [
    "\n",
    "# n = 6\n",
    "# lost = [1,2,4]\n",
    "# reserve = [3,4,5]\n",
    "# # 정답: 5\n",
    "\n",
    "# # solution(n,lost,reserve)\n",
    "# 교집합함수(n, lost, reserve)\n"
   ]
  },
  {
   "cell_type": "code",
   "execution_count": 66,
   "metadata": {},
   "outputs": [],
   "source": [
    "def 여유치수줄이기(n,lost,reserve):\n",
    "    for i in range(len(reserve)):\n",
    "        reserve[i] = reserve[i]-1\n",
    "    print('치수줄인reserve:{}'.format(reserve)) #줄어든 여유분 체육복 치수"
   ]
  },
  {
   "cell_type": "code",
   "execution_count": 67,
   "metadata": {},
   "outputs": [],
   "source": [
    "def 여유치수늘리기(n,lost,reserve):\n",
    "    for i in range(len(reserve)):\n",
    "        reserve[i] = reserve[i]+2\n",
    "    print('원상복귀 후 치수늘린 reserve:{}'.format(reserve)) #치수늘린 여유분 체육복 치수"
   ]
  },
  {
   "cell_type": "code",
   "execution_count": 68,
   "metadata": {},
   "outputs": [],
   "source": [
    "n = 6\n",
    "lost = [1,2,4]\n",
    "reserve = [3,4,5]\n",
    "\n",
    "def solution(n, lost, reserve):\n",
    "    교집합함수(n, lost, reserve)\n",
    "    여유치수줄이기(n,lost,reserve)\n",
    "    교집합함수(n, lost, reserve)\n",
    "    여유치수늘리기(n,lost,reserve)\n",
    "    교집합함수(n, lost, reserve)\n",
    "    return n-len(lost)"
   ]
  },
  {
   "cell_type": "code",
   "execution_count": 69,
   "metadata": {},
   "outputs": [],
   "source": [
    "# solution(n, lost, reserve)"
   ]
  },
  {
   "cell_type": "code",
   "execution_count": 70,
   "metadata": {},
   "outputs": [],
   "source": [
    "# 정의\n",
    "\n",
    "def 교집합함수(n, lost, reserve):\n",
    "    교집합 = list(set(lost).intersection(reserve))\n",
    "    if 교집합 != []: #두 리스트의 교집합이 있다면,\n",
    "        print('교집합:{}'.format(교집합))\n",
    "        print('교집합의 개수 :{}개'.format(len(교집합)))\n",
    "        for i in range(len(교집합)): #교집합의 수만큼 반복\n",
    "            print('교집합 값 {} 제거'.format(교집합[i]))\n",
    "            lost.remove(교집합[i])\n",
    "            reserve.remove(교집합[i])\n",
    "        print('lost:{}'.format(lost))\n",
    "        print('reserve:{}'.format(reserve))\n",
    "    else:\n",
    "        print('교집함없음')\n",
    "\n",
    "\n",
    "def 여유치수줄이기(n,lost,reserve):\n",
    "    for i in range(len(reserve)):\n",
    "        reserve[i] = reserve[i]-1\n",
    "    print('치수줄인reserve:{}'.format(reserve)) #줄어든 여유분 체육복 치수\n",
    "\n",
    "\n",
    "def 여유치수늘리기(n,lost,reserve):\n",
    "    for i in range(len(reserve)):\n",
    "        reserve[i] = reserve[i]+2\n",
    "    print('원상복귀 후 치수늘린 reserve:{}'.format(reserve)) #치수늘린 여유분 체육복 치수\n",
    "\n",
    "\n",
    "def solution(n, lost, reserve):\n",
    "    교집합함수(n, lost, reserve)\n",
    "    여유치수줄이기(n,lost,reserve)\n",
    "    교집합함수(n, lost, reserve)\n",
    "    여유치수늘리기(n,lost,reserve)\n",
    "    교집합함수(n, lost, reserve)\n",
    "    return n-len(lost)\n"
   ]
  },
  {
   "cell_type": "code",
   "execution_count": 71,
   "metadata": {},
   "outputs": [],
   "source": [
    "# 정의\n",
    "\n",
    "def 교집합함수(n, lost, reserve):\n",
    "    교집합 = list(set(lost).intersection(reserve))\n",
    "    if 교집합 != []:\n",
    "        for i in range(len(교집합)):\n",
    "            lost.remove(교집합[i])\n",
    "            reserve.remove(교집합[i])\n",
    "\n",
    "\n",
    "\n",
    "def 여유치수1줄이기(n,lost,reserve):\n",
    "    for i in range(len(reserve)):\n",
    "        reserve[i] = reserve[i]-1\n",
    "\n",
    "\n",
    "\n",
    "\n",
    "def 여유치수1늘리기(n,lost,reserve):\n",
    "    for i in range(len(reserve)):\n",
    "        reserve[i] = reserve[i]+1\n",
    "\n",
    "\n",
    "\n",
    "def 여유치수2줄이기(n,lost,reserve):\n",
    "    for i in range(len(reserve)):\n",
    "        reserve[i] = reserve[i]-2\n",
    "\n",
    "\n",
    "\n",
    "\n",
    "def 여유치수2늘리기(n,lost,reserve):\n",
    "    for i in range(len(reserve)):\n",
    "        reserve[i] = reserve[i]+2\n",
    "\n",
    "\n",
    "def 늘리기먼저(a,b, c):\n",
    "    교집합함수(a, b, c)\n",
    "    여유치수1늘리기(a,b,c)\n",
    "    교집합함수(a, b, c)\n",
    "    여유치수2줄이기(a,b,c)\n",
    "    교집합함수(a, b, c)\n",
    "    return a-len(b)\n",
    "\n",
    "def 줄이기먼저(d, e, f):\n",
    "    교집합함수(d, e, f)\n",
    "    여유치수1줄이기(d,e,f)\n",
    "    교집합함수(d, e, f)\n",
    "    여유치수2늘리기(d,e,f)\n",
    "    교집합함수(d, e, f)\n",
    "    return d-len(e)\n",
    "\n",
    "\n",
    "def solution(n, lost, reserve):\n",
    "    lost.sort()\n",
    "    reserve.sort()\n",
    "    try:\n",
    "        if(1 in reserve):\n",
    "            return 늘리기먼저(n, lost, reserve)\n",
    "    except ValueError:\n",
    "        pass\n",
    "    return 줄이기먼저(n, lost, reserve)"
   ]
  },
  {
   "cell_type": "code",
   "execution_count": 72,
   "metadata": {},
   "outputs": [],
   "source": [
    "# #테스트 17,18,19,20, 25 틀림\n",
    "\n",
    "# n = 10\n",
    "# lost = [2,4  ,   7,9]\n",
    "# reserve = [1,3  ,  8,10]\n",
    "\n",
    "# solution(n, lost, reserve)\n",
    "\n",
    "# #현재 상황에서 체육복을 줄여버리면 0,2가 되고, 2를 먼저 빌려줘버리면, \n",
    "# # 나중에 늘려도 2만남아서.. 4번에게 빌려줄 수가 없음.\n",
    "# # 물론 치수 늘린거 먼저해도 같은 문제가 충분히 발생할듯\n",
    "\n",
    "# # 여유치수늘리기(n, lost, reserve)"
   ]
  },
  {
   "cell_type": "code",
   "execution_count": 73,
   "metadata": {},
   "outputs": [],
   "source": [
    "# n = 10\n",
    "# lost = [2,4]\n",
    "# reserve = [3,5]\n",
    "\n",
    "# solution(n, lost, reserve)"
   ]
  },
  {
   "attachments": {},
   "cell_type": "markdown",
   "metadata": {},
   "source": [
    "3차"
   ]
  },
  {
   "cell_type": "code",
   "execution_count": 74,
   "metadata": {},
   "outputs": [],
   "source": [
    "# n = 10\n",
    "# lost = [2,4  , 6,  7,9]\n",
    "# reserve = [1,3  ,  8,10]\n",
    "\n",
    "# # solution(n, lost, reserve)"
   ]
  },
  {
   "cell_type": "code",
   "execution_count": 75,
   "metadata": {},
   "outputs": [],
   "source": [
    "def 교집합함수(n, lost, reserve):\n",
    "    교집합 = list(set(lost).intersection(reserve))\n",
    "    if 교집합 != []:\n",
    "        for i in range(len(교집합)):\n",
    "            lost.remove(교집합[i])\n",
    "            reserve.remove(교집합[i])"
   ]
  },
  {
   "cell_type": "code",
   "execution_count": 76,
   "metadata": {},
   "outputs": [],
   "source": [
    "# 교집합함수(n,lost,reserve)\n",
    "# print(n,lost,reserve)\n",
    "\n",
    "# # lost[0] = 2\n",
    "# ori = 0\n",
    "# for i in range(len(lost)):\n",
    "#     if (lost[i]-1) in reserve:\n",
    "#         print('yes') \n",
    "#         reserve.remove(lost[i]-1)\n",
    "#         print(reserve)\n",
    "#         ori += 1\n",
    "#     elif (lost[i]+1) in reserve:\n",
    "#         print('sure')\n",
    "#         reserve.remove(lost[i]+1)\n",
    "#         ori += 1\n",
    "#     else:\n",
    "#         print('not here')\n",
    "\n",
    "# print(n,lost,reserve)\n",
    "# print(ori)"
   ]
  },
  {
   "cell_type": "code",
   "execution_count": 77,
   "metadata": {},
   "outputs": [],
   "source": [
    "# def 교집합함수(n, lost, reserve):\n",
    "#     교집합 = list(set(lost).intersection(reserve))\n",
    "#     if 교집합 != []:\n",
    "#         for i in range(len(교집합)):\n",
    "#             lost.remove(교집합[i])\n",
    "#             reserve.remove(교집합[i])\n",
    "\n",
    "# def solution(n,lost,reserve):\n",
    "#     교집합함수(n,lost,reserve)\n",
    "#     Salvation = 0\n",
    "#     for i in range(len(lost)):\n",
    "#         if (lost[i]-1) in reserve:\n",
    "#             reserve.remove(lost[i]-1)\n",
    "#             Salvation += 1\n",
    "#         elif (lost[i]+1) in reserve:\n",
    "#             reserve.remove(lost[i]+1)\n",
    "#             Salvation += 1\n",
    "#         else:\n",
    "#             pass\n",
    "#     return n-len(lost)+Salvation"
   ]
  },
  {
   "cell_type": "code",
   "execution_count": 78,
   "metadata": {},
   "outputs": [],
   "source": [
    "#해결!!!!!!!!!!!!!!!!!!!!!!!!!!!!!!!!!!!!!\n",
    "\n",
    "def 교집합함수(n, lost, reserve):\n",
    "    교집합 = list(set(lost).intersection(reserve))\n",
    "    if 교집합 != []:\n",
    "        for i in range(len(교집합)):\n",
    "            lost.remove(교집합[i])\n",
    "            reserve.remove(교집합[i])\n",
    "\n",
    "def solution(n,lost,reserve):\n",
    "    lost.sort()\n",
    "    reserve.sort()\n",
    "    교집합함수(n,lost,reserve)\n",
    "    Salvation = 0\n",
    "    for i in range(len(lost)):\n",
    "        if (lost[i]-1) in reserve:\n",
    "            reserve.remove(lost[i]-1)\n",
    "            Salvation += 1\n",
    "        elif (lost[i]+1) in reserve:\n",
    "            reserve.remove(lost[i]+1)\n",
    "            Salvation += 1\n",
    "        else:\n",
    "            pass\n",
    "    return n-len(lost)+Salvation"
   ]
  },
  {
   "cell_type": "code",
   "execution_count": 79,
   "metadata": {},
   "outputs": [
    {
     "data": {
      "text/plain": [
       "10"
      ]
     },
     "execution_count": 79,
     "metadata": {},
     "output_type": "execute_result"
    }
   ],
   "source": [
    "n = 10\n",
    "lost = [2,4  ,  7,9]\n",
    "reserve = [1,3  ,  8,10]\n",
    "\n",
    "solution(n,lost,reserve)"
   ]
  },
  {
   "cell_type": "code",
   "execution_count": null,
   "metadata": {},
   "outputs": [],
   "source": []
  },
  {
   "attachments": {},
   "cell_type": "markdown",
   "metadata": {},
   "source": [
    "### 13 두 정수 사이의 합"
   ]
  },
  {
   "cell_type": "code",
   "execution_count": 80,
   "metadata": {},
   "outputs": [],
   "source": [
    "# 두 정수 a, b가 주어졌을 때 a와 b 사이에 속한 모든 정수의 합을 리턴하는 함수, solution을 완성하세요.\n",
    "# 예를 들어 a = 3, b = 5인 경우, 3 + 4 + 5 = 12이므로 12를 리턴합니다."
   ]
  },
  {
   "cell_type": "code",
   "execution_count": 81,
   "metadata": {},
   "outputs": [],
   "source": [
    "#내 코드\n",
    "def solution(a, b):\n",
    "    if a<b:\n",
    "        answer = (a+b)*(b-a+1)/2\n",
    "    elif a>b:\n",
    "        answer = (a+b)*(a-b+1)/2\n",
    "    else:\n",
    "        answer = a\n",
    "    return answer"
   ]
  },
  {
   "cell_type": "code",
   "execution_count": 82,
   "metadata": {},
   "outputs": [],
   "source": [
    "#다른사람 코드\n",
    "def adder(a, b):\n",
    "    if a > b: a, b = b, a\n",
    "    return sum(range(a,b+1))"
   ]
  },
  {
   "attachments": {},
   "cell_type": "markdown",
   "metadata": {},
   "source": [
    "14 문자열 다루기 기본"
   ]
  },
  {
   "cell_type": "code",
   "execution_count": 83,
   "metadata": {},
   "outputs": [],
   "source": [
    "# 문자열 s의 길이가 4 혹은 6이고, 숫자로만 구성돼있는지 확인해주는 함수, solution을 완성하세요. 예를 들어 s가 \"a234\"이면 False를 리턴하고 \"1234\"라면 True를 리턴하면 됩니다."
   ]
  },
  {
   "cell_type": "code",
   "execution_count": 84,
   "metadata": {},
   "outputs": [],
   "source": [
    "# def solution(s):\n",
    "#     if (len(s)==4 or len(s)==6):\n",
    "#         try:\n",
    "#             if int(s) ==0:\n",
    "#                 answer = True\n",
    "#             else: \n",
    "#                 anwer = False\n",
    "#         except:\n",
    "#             anwer = False\n",
    "#     try:\n",
    "#         if int(s):\n",
    "#             if (len(s)==4 or len(s)==6):\n",
    "#                 answer = True\n",
    "#             else:\n",
    "#                 answer = False\n",
    "#         else:\n",
    "#             answer = False\n",
    "#     except:\n",
    "#         answer = False\n",
    "#     return answer"
   ]
  },
  {
   "cell_type": "code",
   "execution_count": 85,
   "metadata": {},
   "outputs": [],
   "source": [
    "#문자열의 길이가 4 or 6인가요?\n",
    "#문자가 숫자로만 되어있나요?\n",
    "#그러면 합격!!!!\n",
    "\n",
    "\n",
    "def solution(s):\n",
    "    if len(s)==4 or len(s)==6:\n",
    "        try:\n",
    "            if type(int(s)) == int:\n",
    "                answer = True\n",
    "        except:\n",
    "            answer = False\n",
    "    else:\n",
    "        answer = False\n",
    "    return answer"
   ]
  },
  {
   "cell_type": "code",
   "execution_count": 86,
   "metadata": {},
   "outputs": [
    {
     "data": {
      "text/plain": [
       "True"
      ]
     },
     "execution_count": 86,
     "metadata": {},
     "output_type": "execute_result"
    }
   ],
   "source": [
    "s='0000'\n",
    "solution(s)"
   ]
  },
  {
   "cell_type": "code",
   "execution_count": 87,
   "metadata": {},
   "outputs": [],
   "source": [
    "#다른사람의 코드\n",
    "\n",
    "def alpha_string46(s):\n",
    "    try:\n",
    "        int(s)\n",
    "    except:\n",
    "        return False\n",
    "    return len(s) == 4 or len(s) == 6 "
   ]
  },
  {
   "attachments": {},
   "cell_type": "markdown",
   "metadata": {},
   "source": [
    "### 16 나누어 떨어지는 숫자 배열"
   ]
  },
  {
   "cell_type": "code",
   "execution_count": 88,
   "metadata": {},
   "outputs": [],
   "source": [
    "# array의 각 element 중 divisor로 나누어 떨어지는 값을 오름차순으로 정렬한 배열을 반환하는 함수, solution을 작성해주세요.\n",
    "# divisor로 나누어 떨어지는 element가 하나도 없다면 배열에 -1을 담아 반환하세요."
   ]
  },
  {
   "cell_type": "code",
   "execution_count": 89,
   "metadata": {},
   "outputs": [],
   "source": [
    "arr = [5, 9, 7, 10]\n",
    "divisor = 5\n",
    "# return = [5, 10]"
   ]
  },
  {
   "cell_type": "code",
   "execution_count": 90,
   "metadata": {},
   "outputs": [],
   "source": [
    "# 내 스타일!\n",
    "def solution(arr, divisor):\n",
    "    answer = []\n",
    "    for i in range(len(arr)):\n",
    "        if arr[i]%divisor == 0:\n",
    "            answer.append(arr[i])\n",
    "    if answer == []:\n",
    "        answer = [-1]\n",
    "    answer.sort()\n",
    "    return answer"
   ]
  },
  {
   "cell_type": "code",
   "execution_count": 91,
   "metadata": {},
   "outputs": [
    {
     "data": {
      "text/plain": [
       "[5, 10]"
      ]
     },
     "execution_count": 91,
     "metadata": {},
     "output_type": "execute_result"
    }
   ],
   "source": [
    "solution(arr, divisor)"
   ]
  },
  {
   "cell_type": "code",
   "execution_count": 92,
   "metadata": {},
   "outputs": [],
   "source": [
    "# # 예원님 스타일!\n",
    "\n",
    "# def solution(arr, divisor):\n",
    "#     for i in range(len(arr)):\n",
    "#         # print(i)\n",
    "#         if arr[i]%divisor != 0:\n",
    "#             print(arr[i])\n",
    "#             arr.remove(arr[i])\n",
    "#         else :\n",
    "#             pass\n",
    "#     return arr"
   ]
  },
  {
   "cell_type": "code",
   "execution_count": 93,
   "metadata": {},
   "outputs": [],
   "source": [
    "# # 변경\n",
    "\n",
    "# def solution(arr, divisor):\n",
    "#     for i in range(-1,-len(arr)-1,-1):\n",
    "#         print(arr[i])\n",
    "#         if arr[i]%divisor != 0:\n",
    "#             print(arr)\n",
    "#             pass\n",
    "#         else:\n",
    "#             print(arr)\n",
    "#             arr.pop(10)\n",
    "#             print(arr)\n",
    "#     return arr\n",
    "\n",
    "#     #실패"
   ]
  },
  {
   "cell_type": "code",
   "execution_count": 94,
   "metadata": {},
   "outputs": [
    {
     "name": "stdout",
     "output_type": "stream",
     "text": [
      "5\n",
      "4\n",
      "3\n",
      "2\n",
      "1\n"
     ]
    }
   ],
   "source": [
    "a = [1,2,3,4,5]\n",
    "for i in range(-1,-len(a)-1,-1):\n",
    "    print(a[i])\n",
    "\n",
    "# -1부터 a길이까지, 역순으로 a값 뽑기"
   ]
  },
  {
   "cell_type": "code",
   "execution_count": 95,
   "metadata": {},
   "outputs": [],
   "source": [
    "arr = [5, 9, 7, 10]\n",
    "divisor = 5\n",
    "# return = [5, 10]"
   ]
  },
  {
   "cell_type": "code",
   "execution_count": 96,
   "metadata": {},
   "outputs": [
    {
     "data": {
      "text/plain": [
       "[5, 10]"
      ]
     },
     "execution_count": 96,
     "metadata": {},
     "output_type": "execute_result"
    }
   ],
   "source": [
    "solution(arr, divisor)"
   ]
  },
  {
   "attachments": {},
   "cell_type": "markdown",
   "metadata": {},
   "source": [
    "#### 짝수 홀수 개수"
   ]
  },
  {
   "cell_type": "code",
   "execution_count": 36,
   "metadata": {},
   "outputs": [],
   "source": [
    "def solution(num_list):\n",
    "    answer = [0,0]\n",
    "    if 0 in num_list:\n",
    "        answer = [1,0]\n",
    "        num_list.remove(0)\n",
    "    for i in num_list:\n",
    "        if i%2 == 0:\n",
    "            answer[0] += 1\n",
    "        else:\n",
    "            answer[1] += 1\n",
    "    return answer"
   ]
  },
  {
   "cell_type": "code",
   "execution_count": 37,
   "metadata": {},
   "outputs": [
    {
     "data": {
      "text/plain": [
       "[3, 5]"
      ]
     },
     "execution_count": 37,
     "metadata": {},
     "output_type": "execute_result"
    }
   ],
   "source": [
    "num_list = [ 0, 1, 2, 3, 4, 5, 7,15]\n",
    "solution(num_list)"
   ]
  },
  {
   "attachments": {},
   "cell_type": "markdown",
   "metadata": {},
   "source": [
    "#### 아이스 아메리카노"
   ]
  },
  {
   "cell_type": "code",
   "execution_count": 46,
   "metadata": {},
   "outputs": [],
   "source": [
    "def solution(money):\n",
    "    answer = []\n",
    "    아메리카노 = 5500\n",
    "    answer.append(money//아메리카노)\n",
    "    answer.append(money%아메리카노)\n",
    "    return answer"
   ]
  },
  {
   "cell_type": "code",
   "execution_count": 47,
   "metadata": {},
   "outputs": [
    {
     "data": {
      "text/plain": [
       "[0, 0]"
      ]
     },
     "execution_count": 47,
     "metadata": {},
     "output_type": "execute_result"
    }
   ],
   "source": [
    "money = 0\n",
    "solution(money)"
   ]
  },
  {
   "attachments": {},
   "cell_type": "markdown",
   "metadata": {},
   "source": [
    "#### 삼각형의 완성조건 (1)"
   ]
  },
  {
   "cell_type": "code",
   "execution_count": 55,
   "metadata": {},
   "outputs": [],
   "source": [
    "def solution(sides):\n",
    "    sides.sort()\n",
    "    print(sides)\n",
    "    if sides[0]+sides[1] > sides[2]:\n",
    "        answer = 1\n",
    "    else:\n",
    "        answer = 2\n",
    "    return answer"
   ]
  },
  {
   "cell_type": "code",
   "execution_count": 56,
   "metadata": {},
   "outputs": [
    {
     "name": "stdout",
     "output_type": "stream",
     "text": [
      "[2, 3, 6]\n"
     ]
    },
    {
     "data": {
      "text/plain": [
       "2"
      ]
     },
     "execution_count": 56,
     "metadata": {},
     "output_type": "execute_result"
    }
   ],
   "source": [
    "sides = [3, 6, 2] #[1,2,3]\n",
    "solution(sides)"
   ]
  },
  {
   "cell_type": "code",
   "execution_count": 57,
   "metadata": {},
   "outputs": [],
   "source": [
    "#다른사람 코드\n",
    "def solution(sides):\n",
    "    sides.sort()\n",
    "    return 1 if sides[0]+sides[1]>sides[2] else 2"
   ]
  },
  {
   "cell_type": "code",
   "execution_count": 58,
   "metadata": {},
   "outputs": [],
   "source": [
    "#다른사람코드2\n",
    "\n",
    "def solution(sides):\n",
    "    return 1 if max(sides) < (sum(sides) - max(sides)) else 2"
   ]
  },
  {
   "attachments": {},
   "cell_type": "markdown",
   "metadata": {},
   "source": [
    "# 3주차"
   ]
  },
  {
   "attachments": {},
   "cell_type": "markdown",
   "metadata": {},
   "source": [
    "### 17 예산"
   ]
  },
  {
   "cell_type": "code",
   "execution_count": 97,
   "metadata": {},
   "outputs": [],
   "source": [
    "# S사에서는 각 부서에 필요한 물품을 지원해 주기 위해 부서별로 물품을 구매하는데 필요한 금액을 조사했습니다. 그러나, 전체 예산이 정해져 있기 때문에 모든 부서의 물품을 구매해 줄 수는 없습니다. 그래서 최대한 많은 부서의 물품을 구매해 줄 수 있도록 하려고 합니다.\n",
    "\n",
    "# 물품을 구매해 줄 때는 각 부서가 신청한 금액만큼을 모두 지원해 줘야 합니다. 예를 들어 1,000원을 신청한 부서에는 정확히 1,000원을 지원해야 하며, 1,000원보다 적은 금액을 지원해 줄 수는 없습니다.\n",
    "\n",
    "# 부서별로 신청한 금액이 들어있는 배열 d와 예산 budget이 매개변수로 주어질 때, 최대 몇 개의 부서에 물품을 지원할 수 있는지 return 하도록 solution 함수를 완성해주세요.\n",
    "\n",
    "#오후 7시 20분"
   ]
  },
  {
   "cell_type": "code",
   "execution_count": 98,
   "metadata": {},
   "outputs": [],
   "source": [
    "d = [1,3,2,5,4]\n",
    "budget = 9\n",
    "# return 3"
   ]
  },
  {
   "cell_type": "code",
   "execution_count": 99,
   "metadata": {},
   "outputs": [],
   "source": [
    "#내 풀이:20분 소요\n",
    "def solution(d,budget):\n",
    "    d.sort()\n",
    "    print(d)\n",
    "    d_sum = 0\n",
    "    answer = 0\n",
    "    for i in range(len(d)):\n",
    "        d_sum += d[i]\n",
    "        if d_sum <= budget:\n",
    "            print(d_sum)\n",
    "            answer += 1\n",
    "        else:\n",
    "            return answer\n",
    "    return answer"
   ]
  },
  {
   "cell_type": "code",
   "execution_count": 100,
   "metadata": {},
   "outputs": [
    {
     "name": "stdout",
     "output_type": "stream",
     "text": [
      "[2, 2, 3, 3]\n",
      "2\n",
      "4\n",
      "7\n",
      "10\n"
     ]
    },
    {
     "data": {
      "text/plain": [
       "4"
      ]
     },
     "execution_count": 100,
     "metadata": {},
     "output_type": "execute_result"
    }
   ],
   "source": [
    "d = [2,2,3,3]\n",
    "budget = 10\n",
    "\n",
    "solution(d,budget)\n",
    "\n",
    "# 7시 50분!! "
   ]
  },
  {
   "cell_type": "code",
   "execution_count": 101,
   "metadata": {},
   "outputs": [],
   "source": [
    "# 다른 사람 코드\n",
    "\n",
    "def solution(d, budget):\n",
    "    d.sort()\n",
    "    while budget < sum(d):\n",
    "        d.pop()\n",
    "    return len(d)"
   ]
  },
  {
   "cell_type": "code",
   "execution_count": 102,
   "metadata": {},
   "outputs": [],
   "source": [
    "# 다른 사람 코드\n",
    "\n",
    "def solution(d, budget):\n",
    "    d.sort()\n",
    "    cnt = 0\n",
    "    # if sum(d) == budget :\n",
    "    #     answer = len(d)\n",
    "    # elif sum(d) < budget :\n",
    "    #     for i in d :\n",
    "    #         budget -= i\n",
    "    #         cnt += 1\n",
    "    #         answer = cnt\n",
    "    # else :\n",
    "    for i in d :\n",
    "        budget -= i\n",
    "        if budget < 0 :\n",
    "               break\n",
    "        cnt += 1\n",
    "    answer = cnt\n",
    "    return answer"
   ]
  },
  {
   "attachments": {},
   "cell_type": "markdown",
   "metadata": {},
   "source": [
    "### 18 2016년"
   ]
  },
  {
   "cell_type": "code",
   "execution_count": 103,
   "metadata": {},
   "outputs": [],
   "source": [
    "# 2016년 1월 1일은 금요일입니다. 2016년 a월 b일은 무슨 요일일까요? 두 수 a ,b를 입력받아 2016년 a월 b일이 무슨 요일인지 리턴하는 함수, solution을 완성하세요. 요일의 이름은 일요일부터 토요일까지 각각 SUN,MON,TUE,WED,THU,FRI,SAT\n",
    "\n",
    "# 입니다. 예를 들어 a=5, b=24라면 5월 24일은 화요일이므로 문자열 \"TUE\"를 반환하세요."
   ]
  },
  {
   "cell_type": "code",
   "execution_count": 104,
   "metadata": {},
   "outputs": [],
   "source": [
    "a = 5\n",
    "b = 24\n",
    "# result = \"TUE\""
   ]
  },
  {
   "cell_type": "code",
   "execution_count": 105,
   "metadata": {},
   "outputs": [],
   "source": [
    "import datetime"
   ]
  },
  {
   "cell_type": "code",
   "execution_count": 106,
   "metadata": {},
   "outputs": [],
   "source": [
    "days = [\"MON\",\"TUE\",\"WED\",\"THU\",\"FRI\",\"SAT\",\"SUN\"]\n",
    "\n",
    "def solution(a,b):\n",
    "    return days[datetime.date(2016,a,b).weekday()]"
   ]
  },
  {
   "cell_type": "code",
   "execution_count": 107,
   "metadata": {},
   "outputs": [
    {
     "data": {
      "text/plain": [
       "'FRI'"
      ]
     },
     "execution_count": 107,
     "metadata": {},
     "output_type": "execute_result"
    }
   ],
   "source": [
    "solution(1,1)\n",
    "\n",
    "# weekday 에서 괄호를 빼먹어서 에러발생\n",
    "# TypeError: list indices must be integers or slices, not builtin_function_or_method"
   ]
  },
  {
   "cell_type": "code",
   "execution_count": 108,
   "metadata": {},
   "outputs": [],
   "source": [
    "# 금요일이 아닌 목요일로 출력되는 결과가 있었는데.. 이유는\n",
    "# datetime 순서는 월요일부터 매핑되기 때문이다.\n",
    "# 맨 처음 sun으로 시작되어 매핑이 안맞았다."
   ]
  },
  {
   "attachments": {},
   "cell_type": "markdown",
   "metadata": {},
   "source": [
    "### 19 자릿수 더하기"
   ]
  },
  {
   "cell_type": "code",
   "execution_count": 109,
   "metadata": {},
   "outputs": [],
   "source": [
    "# 자연수 N이 주어지면, N의 각 자릿수의 합을 구해서 return 하는 solution 함수를 만들어 주세요.\n",
    "# 예를들어 N = 123이면 1 + 2 + 3 = 6을 return 하면 됩니다."
   ]
  },
  {
   "cell_type": "code",
   "execution_count": 110,
   "metadata": {},
   "outputs": [],
   "source": [
    "# 오 나 이거 좀 잘푼듯\n",
    "def solution(n):\n",
    "    answer = 0\n",
    "    for i in str(n):\n",
    "        answer += int(i)\n",
    "    return answer"
   ]
  },
  {
   "cell_type": "code",
   "execution_count": 111,
   "metadata": {},
   "outputs": [
    {
     "data": {
      "text/plain": [
       "6"
      ]
     },
     "execution_count": 111,
     "metadata": {},
     "output_type": "execute_result"
    }
   ],
   "source": [
    "N = 123\n",
    "solution(N)"
   ]
  },
  {
   "attachments": {},
   "cell_type": "markdown",
   "metadata": {},
   "source": [
    "### 20 최대공약수와 최소공배수"
   ]
  },
  {
   "cell_type": "code",
   "execution_count": 112,
   "metadata": {},
   "outputs": [],
   "source": [
    "# 두 수를 입력받아 두 수의 최대공약수와 최소공배수를 반환하는 함수, solution을 완성해 보세요. 배열의 맨 앞에 최대공약수, 그다음 최소공배수를 넣어 반환하면 됩니다. 예를 들어 두 수 3, 12의 최대공약수는 3, 최소공배수는 12이므로 solution(3, 12)는 [3, 12]를 반환해야 합니다."
   ]
  },
  {
   "cell_type": "code",
   "execution_count": 113,
   "metadata": {},
   "outputs": [],
   "source": [
    "import math\n",
    "\n",
    "\n",
    "\n",
    "def solution(n, m):\n",
    "    answer = []\n",
    "    answer.append(math.gcd(n,m))\n",
    "    answer.append(math.lcm(n,m))\n",
    "    return answer"
   ]
  },
  {
   "cell_type": "code",
   "execution_count": 114,
   "metadata": {},
   "outputs": [
    {
     "data": {
      "text/plain": [
       "[1, 10]"
      ]
     },
     "execution_count": 114,
     "metadata": {},
     "output_type": "execute_result"
    }
   ],
   "source": [
    "n = 2\n",
    "m = 5\n",
    "\n",
    "solution(n,m)"
   ]
  },
  {
   "cell_type": "code",
   "execution_count": 115,
   "metadata": {},
   "outputs": [],
   "source": [
    "# AttributeError: module 'math' has no attribute 'lcm'\n",
    "\n",
    "# def lcm(a,b):\n",
    "#   return (a * b) // math.gcd(a,b)\n",
    "# 파이썬 3.9버전부터 가능ㅡ 그래서 그 전 버전은 없애야함."
   ]
  },
  {
   "cell_type": "code",
   "execution_count": 116,
   "metadata": {},
   "outputs": [],
   "source": [
    "import math\n",
    "\n",
    "def lcm(a,b):\n",
    "    return (a * b) // math.gcd(a,b)\n",
    "\n",
    "def solution(n, m):\n",
    "    answer = []\n",
    "    answer.append(math.gcd(n,m))\n",
    "    answer.append(lcm(n,m))\n",
    "    return answer"
   ]
  },
  {
   "attachments": {},
   "cell_type": "markdown",
   "metadata": {},
   "source": [
    "### 21 하샤드 수"
   ]
  },
  {
   "cell_type": "code",
   "execution_count": 117,
   "metadata": {},
   "outputs": [],
   "source": [
    "# 자리수 더하기\n",
    "def 자리수더하기(n):\n",
    "    자리수합 = 0\n",
    "    for i in str(n):\n",
    "        자리수합 += int(i)\n",
    "    return 자리수합\n",
    "\n",
    "def solution(x):\n",
    "    if x%자리수더하기(x) == 0:\n",
    "        return True\n",
    "    else:\n",
    "        return False   "
   ]
  },
  {
   "cell_type": "code",
   "execution_count": 118,
   "metadata": {},
   "outputs": [
    {
     "data": {
      "text/plain": [
       "False"
      ]
     },
     "execution_count": 118,
     "metadata": {},
     "output_type": "execute_result"
    }
   ],
   "source": [
    "solution(13)"
   ]
  },
  {
   "attachments": {},
   "cell_type": "markdown",
   "metadata": {},
   "source": [
    "### 22 문자열 내 마음대로 정렬하기"
   ]
  },
  {
   "attachments": {},
   "cell_type": "markdown",
   "metadata": {},
   "source": [
    "#### 1차시도 실패"
   ]
  },
  {
   "cell_type": "code",
   "execution_count": 2,
   "metadata": {},
   "outputs": [],
   "source": [
    "def solution(strings,n):\n",
    "    new_index = []\n",
    "    for i in range(len(strings)):\n",
    "        new_index.append(strings[i][n])\n",
    "        print(new_index)"
   ]
  },
  {
   "cell_type": "code",
   "execution_count": 3,
   "metadata": {},
   "outputs": [
    {
     "name": "stdout",
     "output_type": "stream",
     "text": [
      "['u']\n",
      "['u', 'e']\n",
      "['u', 'e', 'a']\n"
     ]
    }
   ],
   "source": [
    "# strings = [\"sun\", \"bed\", \"car\"]\n",
    "# n = 1\n",
    "# solution(strings,n)\n",
    "\n",
    "# # 값을 줘서 순서를 매겨? ㅋㅋㅋ\n",
    "# # [3,2,1 순서임]"
   ]
  },
  {
   "cell_type": "code",
   "execution_count": 33,
   "metadata": {},
   "outputs": [
    {
     "name": "stdout",
     "output_type": "stream",
     "text": [
      "['e']\n",
      "['e', 'a']\n",
      "['e', 'a', 'u']\n"
     ]
    },
    {
     "ename": "TypeError",
     "evalue": "'NoneType' object is not callable",
     "output_type": "error",
     "traceback": [
      "\u001b[1;31m---------------------------------------------------------------------------\u001b[0m",
      "\u001b[1;31mTypeError\u001b[0m                                 Traceback (most recent call last)",
      "\u001b[1;32m~\\AppData\\Local\\Temp\\ipykernel_26256\\257245323.py\u001b[0m in \u001b[0;36m<module>\u001b[1;34m\u001b[0m\n\u001b[0;32m      1\u001b[0m \u001b[0mstrings\u001b[0m\u001b[1;33m.\u001b[0m\u001b[0msort\u001b[0m\u001b[1;33m(\u001b[0m\u001b[1;33m)\u001b[0m\u001b[1;33m\u001b[0m\u001b[1;33m\u001b[0m\u001b[0m\n\u001b[1;32m----> 2\u001b[1;33m \u001b[0msolution\u001b[0m\u001b[1;33m(\u001b[0m\u001b[0mstrings\u001b[0m\u001b[1;33m,\u001b[0m\u001b[0mn\u001b[0m\u001b[1;33m)\u001b[0m\u001b[1;33m(\u001b[0m\u001b[1;36m0\u001b[0m\u001b[1;33m)\u001b[0m\u001b[1;33m\u001b[0m\u001b[1;33m\u001b[0m\u001b[0m\n\u001b[0m",
      "\u001b[1;31mTypeError\u001b[0m: 'NoneType' object is not callable"
     ]
    }
   ],
   "source": [
    "# strings.sort()\n",
    "# solution(strings,n)"
   ]
  },
  {
   "cell_type": "code",
   "execution_count": 31,
   "metadata": {},
   "outputs": [
    {
     "name": "stdout",
     "output_type": "stream",
     "text": [
      "{'a': 1, 'b': 2, 'c': 3, 'd': 4, 'e': 5, 'f': 6, 'g': 7, 'h': 8, 'i': 9, 'j': 10, 'k': 11, 'l': 12, 'm': 13, 'n': 14, 'o': 15, 'p': 16, 'q': 17, 'r': 18, 's': 19, 't': 20, 'u': 21, 'v': 22, 'w': 23, 'x': 24, 'y': 25, 'z': 26}\n"
     ]
    }
   ],
   "source": [
    "# from string import ascii_lowercase\n",
    "\n",
    "# alphabet_dict = {}\n",
    "# for i in ascii_lowercase:\n",
    "#     alphabet_dict[i] = ascii_lowercase.index(i)+1\n",
    "\n",
    "# print(alphabet_dict)\n"
   ]
  },
  {
   "cell_type": "code",
   "execution_count": 44,
   "metadata": {},
   "outputs": [],
   "source": [
    "# from string import ascii_lowercase\n",
    "\n",
    "# def solution(strings,n):\n",
    "#     alphabet_dict = {}\n",
    "#     for i in ascii_lowercase:\n",
    "#         alphabet_dict[i] = ascii_lowercase.index(i)+1\n",
    "#     reverse_index = {v:k for k,v in alphabet_dict.items()}\n",
    "\n",
    "#     strings.sort()\n",
    "\n",
    "#     new_index = []\n",
    "#     for i in range(len(strings)):\n",
    "#         new_index.append(strings[i][n])\n",
    "\n",
    "#     new_int_index = []\n",
    "#     for i in range(len(strings)):\n",
    "#         new_int_index.append(alphabet_dict[new_index[i]])\n",
    "#     new_int_index.sort()\n",
    "\n",
    "#     answer_index = []\n",
    "#     for i in range(len(strings)):\n",
    "#         answer_index.append(reverse_index.get(new_int_index[i]))\n",
    "#     print(answer_index)\n",
    "#     return new_int_index\n",
    "\n",
    "# # 너무 못생겼다....... 이건 아닌듯......."
   ]
  },
  {
   "attachments": {},
   "cell_type": "markdown",
   "metadata": {},
   "source": [
    "#### 2차시도"
   ]
  },
  {
   "cell_type": "code",
   "execution_count": 46,
   "metadata": {},
   "outputs": [],
   "source": [
    "strings = [\"sun\", \"bed\", \"car\"]\n",
    "n = 1"
   ]
  },
  {
   "cell_type": "code",
   "execution_count": 82,
   "metadata": {},
   "outputs": [],
   "source": [
    "def solution(strings,n):\n",
    "    new_index = []\n",
    "    for i in range(len(strings)):\n",
    "        new_index.append(strings[i][n] + strings[i])\n",
    "    new_index.sort()\n",
    "    # print(new_index) ['acar', 'ebed', 'usun']\n",
    "\n",
    "    cut_new_index = [] \n",
    "    for i in range(len(strings)):\n",
    "        cut_new_index.append(new_index[i][1:])\n",
    "    return cut_new_index"
   ]
  },
  {
   "cell_type": "code",
   "execution_count": 83,
   "metadata": {},
   "outputs": [
    {
     "name": "stdout",
     "output_type": "stream",
     "text": [
      "['acar', 'ebed', 'usun']\n"
     ]
    },
    {
     "data": {
      "text/plain": [
       "['car', 'bed', 'sun']"
      ]
     },
     "execution_count": 83,
     "metadata": {},
     "output_type": "execute_result"
    }
   ],
   "source": [
    "solution(strings,n)"
   ]
  },
  {
   "cell_type": "code",
   "execution_count": null,
   "metadata": {},
   "outputs": [],
   "source": [
    "# # 다른 이의 코드\n",
    "\n",
    "def strange_sort(strings, n):\n",
    "    '''strings의 문자열들을 n번째 글자를 기준으로 정렬해서 return하세요'''\n",
    "    return sorted(strings, key=lambda x: x[n])\n",
    "\n",
    "    #람다에 대해 알아봐야할듯..."
   ]
  },
  {
   "attachments": {},
   "cell_type": "markdown",
   "metadata": {},
   "source": [
    "### 23 모의고사"
   ]
  },
  {
   "cell_type": "code",
   "execution_count": 1,
   "metadata": {},
   "outputs": [],
   "source": [
    "# 1번 수포자가 찍는 방식: 1, 2, 3, 4, 5, 1, 2, 3, 4, 5, ... (5개 반복)\n",
    "# 2번 수포자가 찍는 방식: 2, 1, 2, 3, 2, 4, 2, 5, 2, 1, 2, 3, 2, 4, 2, 5, ...(8개 반복)\n",
    "# 3번 수포자가 찍는 방식: 3, 3, 1, 1, 2, 2, 4, 4, 5, 5, 3, 3, 1, 1, 2, 2, 4, 4, 5, 5, ...(10개 반복)"
   ]
  },
  {
   "cell_type": "code",
   "execution_count": null,
   "metadata": {},
   "outputs": [],
   "source": [
    "answers = [1,2,3,4,5] # [1]\n",
    "answers = [1,3,2,4,2] # [1,2,3]"
   ]
  },
  {
   "cell_type": "code",
   "execution_count": 7,
   "metadata": {},
   "outputs": [
    {
     "data": {
      "text/plain": [
       "400"
      ]
     },
     "execution_count": 7,
     "metadata": {},
     "output_type": "execute_result"
    }
   ],
   "source": [
    "import math\n",
    "\n",
    "def lcm(a,b,c):\n",
    "    return (a * b * c) // math.gcd(a,b,c)\n",
    "\n",
    "lcm(5,8,10)"
   ]
  },
  {
   "cell_type": "code",
   "execution_count": 6,
   "metadata": {},
   "outputs": [],
   "source": [
    "#처음에는 answer 배열, 1,2,3번의 최소공배수를 따져서 반복되는만큼 중, 얼마나 많이 맞추는지로 계산하려고했는데..answer가 1만개까지 된다고 한다.. answer가 커질수록 의미가 없어질듯.. ㅠ"
   ]
  },
  {
   "cell_type": "code",
   "execution_count": 8,
   "metadata": {},
   "outputs": [],
   "source": [
    "#무식한? 방법으로는 \n",
    "# 1) answer개수확인\n",
    "# 2) 수포자배열을 answer 개수만큼씩 늘리거나 줄이기\n",
    "# 3) 같은게 몇개인지 체크\n",
    "# 4) 가장 많은것으로 return"
   ]
  },
  {
   "cell_type": "code",
   "execution_count": 51,
   "metadata": {},
   "outputs": [],
   "source": [
    "answers = [1,2,3,4,5,4,2,1,5,4,2,1,3,3,5,1,2,4]\n",
    "# answers = [1,2,3,4,5]\n",
    "# 수포자1 = [1,2,3,4,5]\n",
    "# 수포자2 = [2, 1, 2, 3, 2, 4, 2, 5]\n",
    "\n",
    "\n",
    "\n",
    "def 수포자의배열(수포자이름):\n",
    "    if len(answers)>len(수포자이름):\n",
    "        수포자_배열_늘리기 = len(answers)//len(수포자이름) + 1\n",
    "        새로운_수포자_배열 = 수포자이름*수포자_배열_늘리기\n",
    "    else:\n",
    "        새로운_수포자_배열 = 수포자이름\n",
    "\n",
    "    찍어맞춘_수포자_배열 = 0\n",
    "    for i in range(len(answers)):\n",
    "        if answers[i] == 새로운_수포자_배열[0:len(answers)][i]:\n",
    "            찍어맞춘_수포자_배열 +=1\n",
    "        else:\n",
    "            pass\n",
    "    return 찍어맞춘_수포자_배열\n",
    "\n",
    "\n",
    "\n",
    "# 수포자2 = [2, 1, 2, 3, 2, 4, 2, 5]\n",
    "# print(수포자2[0:len(answers)])\n",
    "# 수포자3 = [3, 3, 1, 1, 2, 2, 4, 4, 5, 5]\n",
    "# print(수포자3[0:len(answers)])"
   ]
  },
  {
   "cell_type": "code",
   "execution_count": 52,
   "metadata": {},
   "outputs": [],
   "source": [
    "def 가장높은점수체크함수(answers):\n",
    "    수포자1 = [1, 2, 3, 4, 5]\n",
    "    수포자2 = [2, 1, 2, 3, 2, 4, 2, 5]\n",
    "    수포자3 = [3, 3, 1, 1, 2, 2, 4, 4, 5, 5]\n",
    "\n",
    "    a = 수포자의배열(수포자1)\n",
    "    b = 수포자의배열(수포자2)\n",
    "    c = 수포자의배열(수포자3)\n",
    "    \n",
    "    if a>b and a>c:\n",
    "        return [1]\n",
    "    elif a==b and a>c:\n",
    "        return [1,2]\n",
    "    elif a>b and a==c:\n",
    "        return [1,3]\n",
    "    elif a==b==c:\n",
    "        return [1,2,3]\n",
    "    elif a==b and a<c:\n",
    "        return [3]\n",
    "    elif a<b and a==c:\n",
    "        return [2]\n",
    "    elif a<b and b==c:\n",
    "        return [2,3]\n",
    "    elif a<c and b<c:\n",
    "        return [3]\n",
    "    elif a<b and c<b:\n",
    "        return [2]\n"
   ]
  },
  {
   "cell_type": "code",
   "execution_count": 53,
   "metadata": {},
   "outputs": [
    {
     "data": {
      "text/plain": [
       "[1]"
      ]
     },
     "execution_count": 53,
     "metadata": {},
     "output_type": "execute_result"
    }
   ],
   "source": [
    "# answers = [1,2,3,4,5]\n",
    "# answers = [1,3,2,4,2]\n",
    "\n",
    "가장높은점수체크함수(answers)"
   ]
  },
  {
   "cell_type": "code",
   "execution_count": 54,
   "metadata": {},
   "outputs": [],
   "source": [
    "# 상준 제출용\n",
    "\n",
    "def solution(answers):\n",
    "    수포자1 = [1, 2, 3, 4, 5]\n",
    "    수포자2 = [2, 1, 2, 3, 2, 4, 2, 5]\n",
    "    수포자3 = [3, 3, 1, 1, 2, 2, 4, 4, 5, 5]\n",
    "\n",
    "    def 수포자의배열(수포자이름):\n",
    "        if len(answers)>len(수포자이름):\n",
    "            수포자_배열_늘리기 = len(answers)//len(수포자이름) + 1\n",
    "            새로운_수포자_배열 = 수포자이름*수포자_배열_늘리기\n",
    "        else:\n",
    "            새로운_수포자_배열 = 수포자이름\n",
    "\n",
    "        찍어맞춘_수포자_배열 = 0\n",
    "        for i in range(len(answers)):\n",
    "            if answers[i] == 새로운_수포자_배열[0:len(answers)][i]:\n",
    "                찍어맞춘_수포자_배열 +=1\n",
    "            else:\n",
    "                pass\n",
    "        return 찍어맞춘_수포자_배열\n",
    "    \n",
    "    a = 수포자의배열(수포자1)\n",
    "    b = 수포자의배열(수포자2)\n",
    "    c = 수포자의배열(수포자3)\n",
    "    \n",
    "    if a>b and a>c:\n",
    "        return [1]\n",
    "    elif a==b and a>c:\n",
    "        return [1,2]\n",
    "    elif a>b and a==c:\n",
    "        return [1,3]\n",
    "    elif a==b==c:\n",
    "        return [1,2,3]\n",
    "    elif a==b and a<c:\n",
    "        return [3]\n",
    "    elif a<b and a==c:\n",
    "        return [2]\n",
    "    elif a<b and b==c:\n",
    "        return [2,3]\n",
    "    elif a<c and b<c:\n",
    "        return [3]\n",
    "    elif a<b and c<b:\n",
    "        return [2]"
   ]
  },
  {
   "cell_type": "code",
   "execution_count": 56,
   "metadata": {},
   "outputs": [
    {
     "name": "stdout",
     "output_type": "stream",
     "text": [
      "10\n"
     ]
    }
   ],
   "source": [
    "solution(answers)\n"
   ]
  },
  {
   "cell_type": "code",
   "execution_count": null,
   "metadata": {},
   "outputs": [],
   "source": [
    "#다른사람 반복에는 싸이클!\n",
    "from itertools import cycle\n",
    "\n",
    "def solution(answers):\n",
    "    giveups = [\n",
    "        cycle([1,2,3,4,5]),\n",
    "        cycle([2,1,2,3,2,4,2,5]),\n",
    "        cycle([3,3,1,1,2,2,4,4,5,5]),\n",
    "    ]\n",
    "    scores = [0, 0, 0]\n",
    "    for num in answers:\n",
    "        for i in range(3):\n",
    "            if next(giveups[i]) == num:\n",
    "                scores[i] += 1\n",
    "    highest = max(scores)\n",
    "\n",
    "    return [i + 1 for i, v in enumerate(scores) if v == highest]"
   ]
  },
  {
   "cell_type": "markdown",
   "metadata": {},
   "source": []
  },
  {
   "attachments": {},
   "cell_type": "markdown",
   "metadata": {},
   "source": [
    "### 24 두 개 뽑아서 더하기"
   ]
  },
  {
   "cell_type": "code",
   "execution_count": 16,
   "metadata": {},
   "outputs": [
    {
     "data": {
      "text/plain": [
       "[1, 2, 3, 4, 5, 6, 7]"
      ]
     },
     "execution_count": 16,
     "metadata": {},
     "output_type": "execute_result"
    }
   ],
   "source": [
    "from itertools import combinations\n",
    "\n",
    "\n",
    "def solution(numbers):\n",
    "    answer = []\n",
    "    for i in range(len(list(combinations(numbers, 2)))):\n",
    "        answer.append(list(combinations(numbers, 2))[i][0]+list(combinations(numbers, 2))[i][1])\n",
    "    answer = list(set(answer))\n",
    "    answer.sort() #오류나서 위치 변경\n",
    "    return answer\n",
    "\n",
    "# numbers = [2,1,3,4,1,0,0,0,3,3,5,36,100,6,44,66,66]\n",
    "numbers = [2,1,3,4,1,0]\n",
    "\n",
    "solution(numbers)"
   ]
  },
  {
   "attachments": {},
   "cell_type": "markdown",
   "metadata": {},
   "source": [
    "### 25 시저 암호"
   ]
  },
  {
   "cell_type": "code",
   "execution_count": 53,
   "metadata": {},
   "outputs": [],
   "source": [
    "# from string import ascii_lowercase\n",
    "\n",
    "\n",
    "# sl = ascii_lowercase*2\n",
    "# ll = ascii_lowercase.upper()*2\n",
    "\n",
    "# s = \"A  B\"\n",
    "# print(len(s))\n",
    "# s[3].isspace() \n",
    "\n",
    "# print(sl)\n",
    "\n"
   ]
  },
  {
   "cell_type": "code",
   "execution_count": null,
   "metadata": {},
   "outputs": [],
   "source": [
    "# from string import ascii_lowercase\n",
    "\n",
    "\n",
    "\n",
    "# def solution(s,n):\n",
    "#     sl = ascii_lowercase*2\n",
    "#     ll = ascii_lowercase.upper()*2\n",
    "#     answer = []\n",
    "#     for i in range(len(s)):\n",
    "#         print(s[i])\n",
    "#         if s[i].isspace(): #빈칸일때\n",
    "#             answer.append(\" \")\n",
    "#         else: #빈칸 아닐때\n",
    "#             if s[i].isupper(): #대문자면\n",
    "#                 index_s = ll.find(s[i]) #인덱스번호\n",
    "#                 new_index_s = index_s + n #몇칸옮길지 결정\n",
    "#                 answer.append(ll[new_index_s])\n",
    "#             else: #소문자면\n",
    "#                 index_s = sl.find(s[i]) #인덱스번호\n",
    "#                 new_index_s = index_s + n #몇칸옮길지 결정\n",
    "#                 answer.append(sl[new_index_s])\n",
    "#     answer = ''.join(answer)\n",
    "#     return answer\n",
    "\n",
    "\n",
    "# solution(s,n)\n"
   ]
  },
  {
   "cell_type": "code",
   "execution_count": 70,
   "metadata": {},
   "outputs": [
    {
     "data": {
      "text/plain": [
       "True"
      ]
     },
     "execution_count": 70,
     "metadata": {},
     "output_type": "execute_result"
    }
   ],
   "source": [
    "'a'<'b'\n",
    "#문자도 부등호가 가능하다 ㄷㄷㄷ"
   ]
  },
  {
   "cell_type": "code",
   "execution_count": null,
   "metadata": {},
   "outputs": [],
   "source": [
    "# # 다른 사람 풀이\n",
    "# def solution(s, n):\n",
    "#     answer = ''\n",
    "#     for i in s:\n",
    "#         if i:\n",
    "#             if i >= 'A' and i <= 'Z':\n",
    "#                 answer += chr((ord(i) - ord('A') + n) % 26 + ord('A'))\n",
    "#             elif i >= 'a' and i <= 'z':\n",
    "#                 answer += chr((ord(i) - ord('a') + n) % 26 + ord('a'))\n",
    "#             else : answer += ' '\n",
    "#     return answer"
   ]
  },
  {
   "attachments": {},
   "cell_type": "markdown",
   "metadata": {},
   "source": [
    "### 26 이상한 문자 만들기"
   ]
  },
  {
   "cell_type": "code",
   "execution_count": 25,
   "metadata": {},
   "outputs": [
    {
     "name": "stdout",
     "output_type": "stream",
     "text": [
      "['try', 'hello', 'world']\n"
     ]
    }
   ],
   "source": [
    "s = \"try hello world\"\n",
    "my_list = s.split(' ')\n",
    "\n",
    "print(my_list)\n"
   ]
  },
  {
   "cell_type": "code",
   "execution_count": 19,
   "metadata": {},
   "outputs": [
    {
     "name": "stdout",
     "output_type": "stream",
     "text": [
      "['TrY', 'HeLlOk', 'WoRlD']\n"
     ]
    }
   ],
   "source": [
    "answer = []\n",
    "for k in range(len(my_list)):\n",
    "    small_answer = []\n",
    "    for s in range(len(my_list[k])):\n",
    "        if s%2 == 0:\n",
    "            small_answer.append(my_list[k][s].upper())\n",
    "        else:\n",
    "            small_answer.append(my_list[k][s].lower())\n",
    "    answer.append(\"\".join(small_answer))\n",
    "print(answer)"
   ]
  },
  {
   "cell_type": "code",
   "execution_count": 35,
   "metadata": {},
   "outputs": [],
   "source": [
    "def solution(s):\n",
    "    my_list = s.split(' ')\n",
    "    answer = []\n",
    "    for k in range(len(my_list)):\n",
    "        small_answer = []\n",
    "        for s in range(len(my_list[k])):\n",
    "            if s%2 == 0:\n",
    "                small_answer.append(my_list[k][s].upper())\n",
    "            else:\n",
    "                small_answer.append(my_list[k][s].lower())\n",
    "        answer.append(\"\".join(small_answer))\n",
    "    return \" \".join(answer)"
   ]
  },
  {
   "cell_type": "code",
   "execution_count": 36,
   "metadata": {},
   "outputs": [
    {
     "data": {
      "text/plain": [
       "'TrY HeLlOk WoRlD'"
      ]
     },
     "execution_count": 36,
     "metadata": {},
     "output_type": "execute_result"
    }
   ],
   "source": [
    "s = \"try hellok world\"\n",
    "solution(s)"
   ]
  },
  {
   "attachments": {},
   "cell_type": "markdown",
   "metadata": {},
   "source": [
    "# 4주차"
   ]
  },
  {
   "attachments": {},
   "cell_type": "markdown",
   "metadata": {},
   "source": [
    "### 27 나머지가 1이 되는 수 찾기"
   ]
  },
  {
   "cell_type": "code",
   "execution_count": 22,
   "metadata": {},
   "outputs": [],
   "source": [
    "n = 10\n",
    "result = 3"
   ]
  },
  {
   "cell_type": "code",
   "execution_count": null,
   "metadata": {},
   "outputs": [],
   "source": [
    "# 자연수 n이 매개변수로 주어집니다. n을 x로 나눈 나머지가 1이 되도록 하는 가장 작은 자연수 x를 return 하도록 solution 함수를 완성해주세요. 답이 항상 존재함은 증명될 수 있습니다."
   ]
  },
  {
   "cell_type": "code",
   "execution_count": 23,
   "metadata": {},
   "outputs": [],
   "source": [
    "# n값에서 1을 빼고, 그 값의 약수 중 가장 작은 값을 구하자."
   ]
  },
  {
   "cell_type": "code",
   "execution_count": 33,
   "metadata": {},
   "outputs": [],
   "source": [
    "def solution(n):\n",
    "    k = n-1 #나머지가 1이니까, 1을 빼줘서 딱 떨어지는 값 만들기\n",
    "    for i in range(2,k+1): #2부터 k+1 까지 돌리자\n",
    "        if k%i == 0: #나누어 떨어지면 끝!\n",
    "            return i\n"
   ]
  },
  {
   "attachments": {},
   "cell_type": "markdown",
   "metadata": {},
   "source": [
    "### 28 약수 구하기"
   ]
  },
  {
   "cell_type": "code",
   "execution_count": 34,
   "metadata": {},
   "outputs": [],
   "source": [
    "# 정수 n이 매개변수로 주어질 때, n의 약수를 오름차순으로 담은 배열을 return하도록 solution 함수를 완성해주세요."
   ]
  },
  {
   "cell_type": "code",
   "execution_count": 35,
   "metadata": {},
   "outputs": [],
   "source": [
    "n = 24\n",
    "result = [1, 2, 3, 4, 6, 8, 12, 24]"
   ]
  },
  {
   "cell_type": "code",
   "execution_count": 36,
   "metadata": {},
   "outputs": [],
   "source": [
    "def solution(n):\n",
    "    answer = []\n",
    "    for i in range(1,n+1): #2부터 k+1 까지 돌리자\n",
    "        if n%i == 0: #나누어 떨어지면 끝!\n",
    "            answer.append(i)\n",
    "    return answer"
   ]
  },
  {
   "attachments": {},
   "cell_type": "markdown",
   "metadata": {},
   "source": [
    "### 29 배열 회전시키기"
   ]
  },
  {
   "cell_type": "code",
   "execution_count": 38,
   "metadata": {},
   "outputs": [],
   "source": [
    "# 정수가 담긴 배열 numbers와 문자열 direction가 매개변수로 주어집니다. 배열 numbers의 원소를 direction방향으로 한 칸씩 회전시킨 배열을 return하도록 solution 함수를 완성해주세요."
   ]
  },
  {
   "cell_type": "code",
   "execution_count": 82,
   "metadata": {},
   "outputs": [],
   "source": [
    "direction = 'right'\n",
    "result = [3,1,2]"
   ]
  },
  {
   "cell_type": "code",
   "execution_count": null,
   "metadata": {},
   "outputs": [],
   "source": [
    "# from collections import deque\n",
    "\n",
    "\n",
    "# numbers = [1,2,3]\n",
    "\n",
    "# def solution(numbers):\n",
    "#     deq = deque(numbers)\n",
    "#     deq.rotate(1)\n",
    "#     print(deq)\n",
    "#     print(deq.rotate(1))\n",
    "#     print(list(deq.rotate(1)))\n",
    "\n",
    "#     # if direction == \"right\":\n",
    "#     #     return list(deq.rotate(1))\n",
    "#     # else:\n",
    "#     #     return list(deq.rotate(-1))\n",
    "\n",
    "# solution(numbers)"
   ]
  },
  {
   "cell_type": "code",
   "execution_count": 90,
   "metadata": {},
   "outputs": [
    {
     "data": {
      "text/plain": [
       "[3, 1, 2]"
      ]
     },
     "execution_count": 90,
     "metadata": {},
     "output_type": "execute_result"
    }
   ],
   "source": [
    "from collections import deque\n",
    "\n",
    "def solution(numbers, direction):\n",
    "    deq = deque(numbers)\n",
    "    if direction == \"right\":\n",
    "        deq.rotate(1)\n",
    "        new_numbers = list(deq)\n",
    "        return new_numbers\n",
    "    else:\n",
    "        deq.rotate(-1)\n",
    "        new_numbers = list(deq)\n",
    "        return new_numbers"
   ]
  },
  {
   "cell_type": "code",
   "execution_count": null,
   "metadata": {},
   "outputs": [],
   "source": [
    "# deq.rotate(1) 값은 출력되지 않는다. 돌리는 함수고 결과물을 보여주지 않는다.\n",
    "# 결과물은 deq를 찍어봐야한다."
   ]
  },
  {
   "cell_type": "code",
   "execution_count": 68,
   "metadata": {},
   "outputs": [
    {
     "name": "stdout",
     "output_type": "stream",
     "text": [
      "deque([3, 1, 2])\n"
     ]
    }
   ],
   "source": [
    "# list_x = [1,2,3]\n",
    "# t = deque(list_x)\n",
    "# t.rotate(1)\n",
    "# print(t)"
   ]
  },
  {
   "attachments": {},
   "cell_type": "markdown",
   "metadata": {},
   "source": [
    "### 30 최댓값 만들기 (2)"
   ]
  },
  {
   "cell_type": "code",
   "execution_count": 1,
   "metadata": {},
   "outputs": [],
   "source": [
    "# 정수 배열 numbers가 매개변수로 주어집니다. numbers의 원소 중 두 개를 곱해 만들 수 있는 최댓값을 return하도록 solution 함수를 완성해주세요."
   ]
  },
  {
   "cell_type": "code",
   "execution_count": 30,
   "metadata": {},
   "outputs": [],
   "source": [
    "numbers = [-1, -2,3,4,5,6]\n",
    "result = 15"
   ]
  },
  {
   "cell_type": "code",
   "execution_count": 32,
   "metadata": {},
   "outputs": [],
   "source": [
    "# #가장 짝수중 가장 큰 수 두개 찾고\n",
    "# # 홀수중 가장 큰 수 두개 찾고\n",
    "# # 곱한 값 중에 큰 값을 리턴\n",
    "\n",
    "\n",
    "# def solution(numbers):\n",
    "#     # if len(numbers)<4:\n",
    "\n",
    "#     가장큰수 = max(numbers)\n",
    "#     numbers.remove(가장큰수)\n",
    "#     print(numbers)\n",
    "#     두번째큰수 = max(numbers)\n",
    "#     큰수들의곱 = 가장큰수*두번째큰수\n",
    "#     print(큰수들의곱)\n",
    "\n",
    "#     가장작은수 = min(numbers)\n",
    "#     print(numbers)\n",
    "#     numbers.remove(min(numbers))\n",
    "#     print(numbers)\n",
    "#     두번째작은수 = min(numbers)\n",
    "#     작은수들의곱 = 가장작은수*두번째작은수\n",
    "#     print(작은수들의곱)\n",
    "\n",
    "\n",
    "#     if 큰수들의곱 < 작은수들의곱:\n",
    "#         return 작은수들의곱\n",
    "#     else:\n",
    "#         return 큰수들의곱\n",
    "\n",
    "# solution(numbers)\n",
    "\n",
    "# #이거는 문제가.. 넘버스가 4개 미만이면 오류발생함.. \n",
    "# #빼는건 함부로 하면 안되는듯.."
   ]
  },
  {
   "cell_type": "code",
   "execution_count": null,
   "metadata": {},
   "outputs": [],
   "source": [
    "#순서 재배열 위에서 앞에서 두개, 뒤에서 두개 빼서 비교\n",
    "\n",
    "def solution(numbers):\n",
    "    numbers.sort()\n",
    "    if numbers[-1]*numbers[-2] > numbers[0]*numbers[1]:\n",
    "        return numbers[-1]*numbers[-2]\n",
    "    else:\n",
    "        return numbers[0]*numbers[1]"
   ]
  },
  {
   "cell_type": "code",
   "execution_count": null,
   "metadata": {},
   "outputs": [],
   "source": [
    "# #다른사람 풀이... 좋다..\n",
    "# def solution(numbers):\n",
    "#     numbers.sort()\n",
    "#     return max(numbers[0] * numbers[1], numbers[-1] * numbers[-2])"
   ]
  },
  {
   "attachments": {},
   "cell_type": "markdown",
   "metadata": {},
   "source": [
    "### 31 피자 나눠 먹기 (2)"
   ]
  },
  {
   "cell_type": "code",
   "execution_count": null,
   "metadata": {},
   "outputs": [],
   "source": [
    "# 머쓱이네 피자가게는 피자를 여섯 조각으로 잘라 줍니다. 피자를 나눠먹을 사람의 수 n이 매개변수로 주어질 때, n명이 주문한 피자를 남기지 않고 모두 같은 수의 피자 조각을 먹어야 한다면 최소 몇 판을 시켜야 하는지를 return 하도록 solution 함수를 완성해보세요."
   ]
  },
  {
   "cell_type": "code",
   "execution_count": 33,
   "metadata": {},
   "outputs": [],
   "source": [
    "n =10"
   ]
  },
  {
   "cell_type": "code",
   "execution_count": 49,
   "metadata": {},
   "outputs": [],
   "source": [
    "import math\n",
    "\n",
    "def solution(n):\n",
    "    gcd = math.gcd(n, 6)\n",
    "    lcm = (gcd)*(n/gcd)*(6/gcd)\n",
    "    return int(lcm/6)"
   ]
  },
  {
   "attachments": {},
   "cell_type": "markdown",
   "metadata": {},
   "source": [
    "### 32 외계행성의 나이"
   ]
  },
  {
   "cell_type": "code",
   "execution_count": 50,
   "metadata": {},
   "outputs": [],
   "source": [
    "# 우주여행을 하던 머쓱이는 엔진 고장으로 PROGRAMMERS-962 행성에 불시착하게 됐습니다. 입국심사에서 나이를 말해야 하는데, PROGRAMMERS-962 행성에서는 나이를 알파벳으로 말하고 있습니다. a는 0, b는 1, c는 2, ..., j는 9입니다. 예를 들어 23살은 cd, 51살은 fb로 표현합니다. 나이 age가 매개변수로 주어질 때 PROGRAMMER-962식 나이를 return하도록 solution 함수를 완성해주세요."
   ]
  },
  {
   "cell_type": "code",
   "execution_count": 74,
   "metadata": {},
   "outputs": [
    {
     "data": {
      "text/plain": [
       "'cd'"
      ]
     },
     "execution_count": 74,
     "metadata": {},
     "output_type": "execute_result"
    }
   ],
   "source": [
    "# age = 23\n",
    "\n",
    "def solution(age):\n",
    "    a = 'abcdefghij'\n",
    "    answer = []\n",
    "    for i in range(len(str(age))):\n",
    "        answer.append(a[int(str(age)[i])])\n",
    "    return ''.join(answer)\n",
    "\n",
    "# solution(age)\n",
    "#더럽게 풀었네.. ㅋㅋ; ㅠ"
   ]
  },
  {
   "cell_type": "code",
   "execution_count": 71,
   "metadata": {},
   "outputs": [
    {
     "ename": "TypeError",
     "evalue": "list indices must be integers or slices, not str",
     "output_type": "error",
     "traceback": [
      "\u001b[1;31m---------------------------------------------------------------------------\u001b[0m",
      "\u001b[1;31mTypeError\u001b[0m                                 Traceback (most recent call last)",
      "\u001b[1;32m~\\AppData\\Local\\Temp\\ipykernel_16468\\3519037979.py\u001b[0m in \u001b[0;36m<module>\u001b[1;34m\u001b[0m\n\u001b[0;32m      1\u001b[0m \u001b[0mage\u001b[0m \u001b[1;33m=\u001b[0m \u001b[1;33m[\u001b[0m\u001b[1;36m1\u001b[0m\u001b[1;33m,\u001b[0m\u001b[1;36m2\u001b[0m\u001b[1;33m,\u001b[0m\u001b[1;36m3\u001b[0m\u001b[1;33m]\u001b[0m\u001b[1;33m\u001b[0m\u001b[1;33m\u001b[0m\u001b[0m\n\u001b[1;32m----> 2\u001b[1;33m \u001b[0mage\u001b[0m\u001b[1;33m[\u001b[0m\u001b[0mstr\u001b[0m\u001b[1;33m(\u001b[0m\u001b[1;36m2\u001b[0m\u001b[1;33m)\u001b[0m\u001b[1;33m]\u001b[0m\u001b[1;33m\u001b[0m\u001b[1;33m\u001b[0m\u001b[0m\n\u001b[0m",
      "\u001b[1;31mTypeError\u001b[0m: list indices must be integers or slices, not str"
     ]
    }
   ],
   "source": [
    "# age = [1,2,3]\n",
    "# age[str(2)]\n",
    "# 문자2로는 인덱스를 매길 수 없다.."
   ]
  },
  {
   "attachments": {},
   "cell_type": "markdown",
   "metadata": {},
   "source": [
    "### 33 369게임"
   ]
  },
  {
   "cell_type": "code",
   "execution_count": 75,
   "metadata": {},
   "outputs": [],
   "source": [
    "# 머쓱이는 친구들과 369게임을 하고 있습니다. 369게임은 1부터 숫자를 하나씩 대며 3, 6, 9가 들어가는 숫자는 숫자 대신 3, 6, 9의 개수만큼 박수를 치는 게임입니다. 머쓱이가 말해야하는 숫자 order가 매개변수로 주어질 때, 머쓱이가 쳐야할 박수 횟수를 return 하도록 solution 함수를 완성해보세요."
   ]
  },
  {
   "cell_type": "code",
   "execution_count": 95,
   "metadata": {},
   "outputs": [
    {
     "data": {
      "text/plain": [
       "2"
      ]
     },
     "execution_count": 95,
     "metadata": {},
     "output_type": "execute_result"
    }
   ],
   "source": [
    "order = 29423\n",
    "\n",
    "def solution(order):\n",
    "    count = 0\n",
    "    for i in range(len(str(order))):\n",
    "        if str(order)[i] == str(3):\n",
    "            count += 1\n",
    "        elif str(order)[i] == str(6):\n",
    "            count += 1\n",
    "        elif str(order)[i] == str(9):\n",
    "            count += 1\n",
    "        else: \n",
    "            pass\n",
    "    return count\n",
    "\n",
    "solution(order)"
   ]
  },
  {
   "cell_type": "code",
   "execution_count": 87,
   "metadata": {},
   "outputs": [
    {
     "data": {
      "text/plain": [
       "True"
      ]
     },
     "execution_count": 87,
     "metadata": {},
     "output_type": "execute_result"
    }
   ],
   "source": [
    "str(2) == str(2)"
   ]
  },
  {
   "cell_type": "code",
   "execution_count": null,
   "metadata": {},
   "outputs": [],
   "source": [
    "# # 이거다 내가 만들고 싶었던 것... ㅋㅋ ㅠ 다른사람코드.\n",
    "\n",
    "# def solution(order):\n",
    "#     answer = 0\n",
    "#     order = str(order)\n",
    "#     return order.count('3') + order.count('6') + order.count('9')"
   ]
  },
  {
   "attachments": {},
   "cell_type": "markdown",
   "metadata": {},
   "source": [
    "### 34 인덱스 바꾸기"
   ]
  },
  {
   "cell_type": "code",
   "execution_count": 1,
   "metadata": {},
   "outputs": [],
   "source": [
    "# 문자열 my_string과 정수 num1, num2가 매개변수로 주어질 때, my_string에서 인덱스 num1과 인덱스 num2에 해당하는 문자를 바꾼 문자열을 return 하도록 solution 함수를 완성해보세요."
   ]
  },
  {
   "cell_type": "code",
   "execution_count": 2,
   "metadata": {},
   "outputs": [],
   "source": [
    "my_string = 'hello'\n",
    "num1 = 1\n",
    "num2 = 2\n",
    "\n",
    "result = 'hlelo'"
   ]
  },
  {
   "cell_type": "code",
   "execution_count": 12,
   "metadata": {},
   "outputs": [
    {
     "data": {
      "text/plain": [
       "'heeeo'"
      ]
     },
     "execution_count": 12,
     "metadata": {},
     "output_type": "execute_result"
    }
   ],
   "source": [
    "# my_string.replace(my_string[num1], my_string[num2])\n",
    "# my_string.replace(my_string[num2], my_string[num1])\n",
    "\n",
    "# # 실패.."
   ]
  },
  {
   "cell_type": "code",
   "execution_count": 35,
   "metadata": {},
   "outputs": [
    {
     "data": {
      "text/plain": [
       "'hlelo'"
      ]
     },
     "execution_count": 35,
     "metadata": {},
     "output_type": "execute_result"
    }
   ],
   "source": [
    "new_string = list(my_string)\n",
    "new_string[num1] = list(my_string)[num2]\n",
    "new_string[num2] = list(my_string)[num1]\n",
    "\"\".join(new_string)\n"
   ]
  },
  {
   "attachments": {},
   "cell_type": "markdown",
   "metadata": {},
   "source": [
    "### 35 숫자찾기"
   ]
  },
  {
   "cell_type": "code",
   "execution_count": 36,
   "metadata": {},
   "outputs": [],
   "source": [
    "# 정수 num과 k가 매개변수로 주어질 때, num을 이루는 숫자 중에 k가 있으면 num의 그 숫자가 있는 자리 수를 return하고 없으면 -1을 return 하도록 solution 함수를 완성해보세요."
   ]
  },
  {
   "cell_type": "code",
   "execution_count": 48,
   "metadata": {},
   "outputs": [
    {
     "name": "stdout",
     "output_type": "stream",
     "text": [
      "2\n"
     ]
    },
    {
     "data": {
      "text/plain": [
       "3"
      ]
     },
     "execution_count": 48,
     "metadata": {},
     "output_type": "execute_result"
    }
   ],
   "source": [
    "num = 29183\n",
    "k = 1\n",
    "\n",
    "def solution(num,k):\n",
    "    if str(k) in list(str(num)):\n",
    "        return list(str(num)).index(str(k))+1\n",
    "    else:\n",
    "        return -1\n",
    "\n",
    "solution(num,k)"
   ]
  },
  {
   "attachments": {},
   "cell_type": "markdown",
   "metadata": {},
   "source": [
    "### 36 콜라츠 추측"
   ]
  },
  {
   "cell_type": "code",
   "execution_count": 56,
   "metadata": {},
   "outputs": [
    {
     "data": {
      "text/plain": [
       "0"
      ]
     },
     "execution_count": 56,
     "metadata": {},
     "output_type": "execute_result"
    }
   ],
   "source": [
    "n = 1\n",
    "\n",
    "def solution(n):\n",
    "    answer = 0\n",
    "    while n != 1:\n",
    "        if n%2 == 0:\n",
    "            n = n/2\n",
    "            answer += 1\n",
    "            if answer > 500:\n",
    "                return -1\n",
    "        else:\n",
    "            n = n*3 +1\n",
    "            answer += 1\n",
    "            if answer > 500:\n",
    "                return -1\n",
    "    return answer\n",
    "\n",
    "solution(n)\n",
    "\n"
   ]
  },
  {
   "attachments": {},
   "cell_type": "markdown",
   "metadata": {},
   "source": [
    "### 37 문자열 정렬하기 (2)"
   ]
  },
  {
   "cell_type": "code",
   "execution_count": 18,
   "metadata": {},
   "outputs": [],
   "source": [
    "my_string = \"Bcad\"\n",
    "\n",
    "def solution(my_string):\n",
    "    a = list(my_string.lower())\n",
    "    a.sort()\n",
    "    return ''.join(a)\n"
   ]
  },
  {
   "attachments": {},
   "cell_type": "markdown",
   "metadata": {},
   "source": [
    "### 38 제일 작은 수 제거하기"
   ]
  },
  {
   "cell_type": "code",
   "execution_count": 31,
   "metadata": {},
   "outputs": [],
   "source": [
    "arr = [4,3,2,1]\n",
    "\n",
    "def solution(arr):\n",
    "    if len(arr) <= 1:\n",
    "        arr = [-1]\n",
    "    else:\n",
    "        arr.remove(min(arr))\n",
    "    return arr"
   ]
  },
  {
   "attachments": {},
   "cell_type": "markdown",
   "metadata": {},
   "source": [
    "### 39 중복된 문자 제거\n"
   ]
  },
  {
   "cell_type": "code",
   "execution_count": 1,
   "metadata": {},
   "outputs": [
    {
     "data": {
      "text/plain": [
       "{'e', 'l', 'o', 'p'}"
      ]
     },
     "execution_count": 1,
     "metadata": {},
     "output_type": "execute_result"
    }
   ],
   "source": [
    "my_string = \"people\"\n",
    "\n",
    "set(list(my_string))\n",
    "\n",
    "# 셋으로 도전하였으나 순서가 망가져서 실패.\n",
    "# 셋은 순서가 없다. 고로 만들 수 없다.\n",
    "# 1차 실패"
   ]
  },
  {
   "cell_type": "code",
   "execution_count": 14,
   "metadata": {},
   "outputs": [],
   "source": [
    "# 내 코드\n",
    "\n",
    "def solution(my_string):\n",
    "    answer = []\n",
    "    for i in list(my_string):\n",
    "        if i in answer: \n",
    "            pass \n",
    "        else: \n",
    "            answer.append(i)\n",
    "    return \"\".join(answer)\n",
    "    "
   ]
  },
  {
   "cell_type": "code",
   "execution_count": null,
   "metadata": {},
   "outputs": [],
   "source": [
    "# not in 가능\n",
    "# if i not in answer: 요런식\n",
    "\n",
    "\n",
    "# 다른사람 코드\n",
    "\n",
    "def solution(my_string):\n",
    "    answer = ''\n",
    "    for i in my_string:\n",
    "        if i not in answer: #멋지다\n",
    "            answer+=i\n",
    "    return answer"
   ]
  },
  {
   "attachments": {},
   "cell_type": "markdown",
   "metadata": {},
   "source": [
    "### 40 합성수 찾기"
   ]
  },
  {
   "cell_type": "code",
   "execution_count": 34,
   "metadata": {},
   "outputs": [
    {
     "name": "stdout",
     "output_type": "stream",
     "text": [
      "8\n"
     ]
    }
   ],
   "source": [
    "n = 15\n",
    "\n",
    "answer = 0\n",
    "for i in range(1,n+1):\n",
    "    a = 0\n",
    "    for j in range(2, i):\n",
    "        if i%j == 0:\n",
    "            a+= 1\n",
    "            break\n",
    "    if a != 0:\n",
    "        answer += 1\n",
    "print(answer)"
   ]
  },
  {
   "attachments": {},
   "cell_type": "markdown",
   "metadata": {},
   "source": [
    "# 23년 2월 둘째주"
   ]
  },
  {
   "attachments": {},
   "cell_type": "markdown",
   "metadata": {},
   "source": [
    "### 41 기사단원의 무기"
   ]
  },
  {
   "cell_type": "code",
   "execution_count": 25,
   "metadata": {},
   "outputs": [],
   "source": [
    "def y(n):\n",
    "\n",
    "    a = []\n",
    "    for i in range(1, int(n**(1/2)) + 1):\n",
    "        if (n % i == 0):\n",
    "            a.append(i) \n",
    "            if ( (i**2) != n) : \n",
    "                a.append(n // i)\n",
    "    return len(a)\n",
    "\n",
    "    \n",
    "def solution(n,l,p):\n",
    "    a=0\n",
    "    for i in range(1,n+1):\n",
    "        if y(i)>l:\n",
    "            a+=p\n",
    "        else:\n",
    "            a+=y(i)\n",
    "    return a"
   ]
  },
  {
   "cell_type": "code",
   "execution_count": 20,
   "metadata": {},
   "outputs": [],
   "source": [
    "def getMyDivisor(n):\n",
    "\n",
    "    divisorsList = []\n",
    "\n",
    "    for i in range(1, int(n**(1/2)) + 1):\n",
    "        if (n % i == 0):\n",
    "            divisorsList.append(i) \n",
    "            if ( (i**2) != n) : \n",
    "                divisorsList.append(n // i)\n",
    "    \n",
    "    return len(divisorsList)"
   ]
  },
  {
   "cell_type": "code",
   "execution_count": 24,
   "metadata": {},
   "outputs": [
    {
     "data": {
      "text/plain": [
       "3"
      ]
     },
     "execution_count": 24,
     "metadata": {},
     "output_type": "execute_result"
    }
   ],
   "source": [
    "getMyDivisor(4)"
   ]
  },
  {
   "attachments": {},
   "cell_type": "markdown",
   "metadata": {},
   "source": [
    "### 42 음양 더하기"
   ]
  },
  {
   "cell_type": "code",
   "execution_count": 49,
   "metadata": {},
   "outputs": [],
   "source": [
    "import numpy as np\n",
    "\n",
    "def solution(absolutes, signs):\n",
    "    for i in range(len(signs)):\n",
    "        if signs[i] == True:\n",
    "            signs[i] = 1\n",
    "        else:\n",
    "            signs[i] = -1\n",
    "        \n",
    "    absolutes = np.array(absolutes)\n",
    "    signs = np.array(signs)\n",
    "    answer = np.sum(absolutes*signs)\n",
    "\n",
    "    return answer.tolist()\n",
    "\n"
   ]
  },
  {
   "cell_type": "code",
   "execution_count": 48,
   "metadata": {},
   "outputs": [
    {
     "data": {
      "text/plain": [
       "9"
      ]
     },
     "execution_count": 48,
     "metadata": {},
     "output_type": "execute_result"
    }
   ],
   "source": [
    "absolutes = [4,7,12]\n",
    "signs = [True,False,True]\n",
    "\n",
    "\n",
    "solution(absolutes, signs)"
   ]
  },
  {
   "attachments": {},
   "cell_type": "markdown",
   "metadata": {},
   "source": [
    "### 43 없는 숫자 더하기"
   ]
  },
  {
   "cell_type": "code",
   "execution_count": 51,
   "metadata": {},
   "outputs": [],
   "source": [
    "import numpy as np\n",
    "\n",
    "numbers = [1,2,3,4,6,7,8,0]\n",
    "\n",
    "def solution(numbers):\n",
    "    a = 1+2+3+4+5+6+7+8+9\n",
    "    np_numbers = np.array(numbers)\n",
    "    np_answer = a - np.sum(np_numbers)\n",
    "    answer = np_answer.tolist()\n",
    "    return answer\n"
   ]
  },
  {
   "cell_type": "code",
   "execution_count": null,
   "metadata": {},
   "outputs": [],
   "source": [
    "def solution(numbers):\n",
    "    a = 1+2+3+4+5+6+7+8+9\n",
    "    answer = a - sum(numbers)\n",
    "    return answer"
   ]
  },
  {
   "attachments": {},
   "cell_type": "markdown",
   "metadata": {},
   "source": [
    "### 44 모스부호 (1)"
   ]
  },
  {
   "cell_type": "code",
   "execution_count": 63,
   "metadata": {},
   "outputs": [
    {
     "name": "stdout",
     "output_type": "stream",
     "text": [
      "hello\n"
     ]
    }
   ],
   "source": [
    "letter = \".... . .-.. .-.. ---\"\n",
    "\n",
    "def solution(letter):\n",
    "    morse = { \n",
    "    '.-':'a','-...':'b','-.-.':'c','-..':'d','.':'e','..-.':'f',\n",
    "    '--.':'g','....':'h','..':'i','.---':'j','-.-':'k','.-..':'l',\n",
    "    '--':'m','-.':'n','---':'o','.--.':'p','--.-':'q','.-.':'r',\n",
    "    '...':'s','-':'t','..-':'u','...-':'v','.--':'w','-..-':'x',\n",
    "    '-.--':'y','--..':'z'\n",
    "    }\n",
    "\n",
    "\n",
    "    split_letter = letter.split(' ')\n",
    "    a = []\n",
    "    for i in split_letter:\n",
    "        a.append(morse[i])\n",
    "    return''.join(a)\n"
   ]
  },
  {
   "attachments": {},
   "cell_type": "markdown",
   "metadata": {},
   "source": [
    "### 45 진료 순서 정하기"
   ]
  },
  {
   "cell_type": "code",
   "execution_count": 50,
   "metadata": {},
   "outputs": [
    {
     "data": {
      "text/plain": [
       "[2, 4, 3, 5, 1]"
      ]
     },
     "execution_count": 50,
     "metadata": {},
     "output_type": "execute_result"
    }
   ],
   "source": [
    "emergency = [30, 10, 23, 6, 100]\t\n",
    "# result = [3,1,2]\n",
    "\n",
    "def solution(emergency):\n",
    "    result = []\n",
    "    sorted_emergency = sorted(emergency,reverse=True)\n",
    "    for i in emergency:\n",
    "        answer = sorted_emergency.index(i)+1\n",
    "        result.append(answer)\n",
    "    return result\n",
    "\n",
    "solution(emergency)"
   ]
  }
 ],
 "metadata": {
  "kernelspec": {
   "display_name": "base",
   "language": "python",
   "name": "python3"
  },
  "language_info": {
   "codemirror_mode": {
    "name": "ipython",
    "version": 3
   },
   "file_extension": ".py",
   "mimetype": "text/x-python",
   "name": "python",
   "nbconvert_exporter": "python",
   "pygments_lexer": "ipython3",
   "version": "3.9.13"
  },
  "orig_nbformat": 4,
  "vscode": {
   "interpreter": {
    "hash": "e4cce46d6be9934fbd27f9ca0432556941ea5bdf741d4f4d64c6cd7f8dfa8fba"
   }
  }
 },
 "nbformat": 4,
 "nbformat_minor": 2
}
