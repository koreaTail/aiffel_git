{
 "cells": [
  {
   "cell_type": "markdown",
   "id": "9002ec9e",
   "metadata": {},
   "source": [
    "## 8-3 Reuters"
   ]
  },
  {
   "cell_type": "code",
   "execution_count": 1,
   "id": "bed60602",
   "metadata": {},
   "outputs": [],
   "source": [
    "import numpy as np\n",
    "import matplotlib.pyplot as plt\n",
    "from sklearn.model_selection import train_test_split\n",
    "\n",
    "from tensorflow.keras import models, layers\n",
    "from tensorflow.keras import callbacks\n",
    "from tensorflow.keras import utils\n",
    "from keras.datasets import reuters"
   ]
  },
  {
   "cell_type": "code",
   "execution_count": 2,
   "id": "b0b70218",
   "metadata": {},
   "outputs": [
    {
     "name": "stdout",
     "output_type": "stream",
     "text": [
      "8982\n",
      "2\n",
      "2246\n",
      "46\n"
     ]
    }
   ],
   "source": [
    "(train_data, train_labels), (test_data, test_labels) = reuters.load_data(num_words=10000)\n",
    "\n",
    "# X_train, y_test, y_train, y_test = train_test_split(train_data,train_labels, test_size=0.25, random_state=42)\n",
    "x_train, x_val, y_train, y_val = train_test_split(train_data, train_labels,test_size= 0.25,random_state= 2023)\n",
    "\n",
    "val_data= (x_val, y_val)\n",
    "\n",
    "# 훈련, 검증, 테스트 데이터와 레이블 종류가 몇 개인지 출력합니다.\n",
    "print(len(train_data))\n",
    "print(len(val_data))\n",
    "print(len(test_data))\n",
    "print(len(set(train_labels)))\n",
    "\n",
    "\n",
    "# 민제님\n",
    "# (X_train, y_train), (X_test, y_test) = reuters.load_data(num_words=10000, test_split=0.2)\n",
    "# X_train, X_val, y_train, y_val = train_test_split(X_train, y_train, test_size=0.25, random_state=2023)"
   ]
  },
  {
   "cell_type": "code",
   "execution_count": 3,
   "id": "d218f72c",
   "metadata": {},
   "outputs": [
    {
     "data": {
      "text/plain": [
       "87"
      ]
     },
     "execution_count": 3,
     "metadata": {},
     "output_type": "execute_result"
    }
   ],
   "source": [
    "len(train_data[0])"
   ]
  },
  {
   "cell_type": "code",
   "execution_count": 4,
   "id": "a205db34",
   "metadata": {},
   "outputs": [
    {
     "data": {
      "text/plain": [
       "6736"
      ]
     },
     "execution_count": 4,
     "metadata": {},
     "output_type": "execute_result"
    }
   ],
   "source": [
    "len(x_train)"
   ]
  },
  {
   "cell_type": "code",
   "execution_count": 5,
   "id": "303d3c84",
   "metadata": {},
   "outputs": [
    {
     "data": {
      "text/plain": [
       "(8982,)"
      ]
     },
     "execution_count": 5,
     "metadata": {},
     "output_type": "execute_result"
    }
   ],
   "source": [
    "train_data.shape"
   ]
  },
  {
   "cell_type": "code",
   "execution_count": 6,
   "id": "bf9423fc",
   "metadata": {},
   "outputs": [
    {
     "data": {
      "text/plain": [
       "(2246,)"
      ]
     },
     "execution_count": 6,
     "metadata": {},
     "output_type": "execute_result"
    }
   ],
   "source": [
    "test_data.shape"
   ]
  },
  {
   "cell_type": "code",
   "execution_count": 7,
   "id": "9c6b2d28",
   "metadata": {},
   "outputs": [
    {
     "data": {
      "text/plain": [
       "(6736,)"
      ]
     },
     "execution_count": 7,
     "metadata": {},
     "output_type": "execute_result"
    }
   ],
   "source": [
    "x_train.shape"
   ]
  },
  {
   "cell_type": "code",
   "execution_count": 8,
   "id": "33061f8b",
   "metadata": {},
   "outputs": [
    {
     "data": {
      "text/plain": [
       "(6736,)"
      ]
     },
     "execution_count": 8,
     "metadata": {},
     "output_type": "execute_result"
    }
   ],
   "source": [
    "y_train.shape"
   ]
  },
  {
   "cell_type": "code",
   "execution_count": 9,
   "id": "98e8f238",
   "metadata": {},
   "outputs": [
    {
     "data": {
      "text/plain": [
       "(2246,)"
      ]
     },
     "execution_count": 9,
     "metadata": {},
     "output_type": "execute_result"
    }
   ],
   "source": [
    "x_val.shape"
   ]
  },
  {
   "cell_type": "code",
   "execution_count": 10,
   "id": "95c06823",
   "metadata": {},
   "outputs": [
    {
     "data": {
      "text/plain": [
       "(2246,)"
      ]
     },
     "execution_count": 10,
     "metadata": {},
     "output_type": "execute_result"
    }
   ],
   "source": [
    "y_val.shape"
   ]
  },
  {
   "cell_type": "code",
   "execution_count": 11,
   "id": "4cb971ed",
   "metadata": {},
   "outputs": [],
   "source": [
    "from tensorflow.keras.utils import to_categorical\n",
    "# from tensorflow.keras.preprocessing.sequence import pad_sequences\n",
    "\n",
    "# x_train = pad_sequences(X_train, maxlen=max_len)\n",
    "# x_test = pad_sequences(x_test, maxlen=max_len)\n",
    "\n",
    "# 문제 2-2: 텍스트 데이터의 전처리를 위해서 각 데이터셋마다 원-핫 인코딩을 수행합니다.\n",
    "def one_hot_encoding(data, dim=10000):\n",
    "    results = np.zeros((len(data), dim))\n",
    "    for i, d in enumerate(data): #오\n",
    "        results[i, d] = 1.\n",
    "    return results\n",
    "\n",
    "x_train = one_hot_encoding(x_train)\n",
    "x_val = one_hot_encoding(x_val)\n",
    "x_test = one_hot_encoding(test_data)\n",
    "\n",
    "# 레이블 데이터들은 범주형 형태로 to_categorical() 함수를 사용해 변환합니다.\n",
    "y_train = to_categorical(y_train)\n",
    "y_val = to_categorical(y_val)\n",
    "test_labels = to_categorical(test_labels)"
   ]
  },
  {
   "cell_type": "markdown",
   "id": "390d1e1d",
   "metadata": {},
   "source": [
    "모델 구성 및 컴파일"
   ]
  },
  {
   "cell_type": "code",
   "execution_count": 12,
   "id": "fab8a262",
   "metadata": {},
   "outputs": [
    {
     "name": "stdout",
     "output_type": "stream",
     "text": [
      "Model: \"sequential\"\n",
      "_________________________________________________________________\n",
      "Layer (type)                 Output Shape              Param #   \n",
      "=================================================================\n",
      "dense (Dense)                (None, 128)               1280128   \n",
      "_________________________________________________________________\n",
      "batch_normalization (BatchNo (None, 128)               512       \n",
      "_________________________________________________________________\n",
      "activation (Activation)      (None, 128)               0         \n",
      "_________________________________________________________________\n",
      "dropout (Dropout)            (None, 128)               0         \n",
      "_________________________________________________________________\n",
      "dense_1 (Dense)              (None, 128)               16512     \n",
      "_________________________________________________________________\n",
      "batch_normalization_1 (Batch (None, 128)               512       \n",
      "_________________________________________________________________\n",
      "activation_1 (Activation)    (None, 128)               0         \n",
      "_________________________________________________________________\n",
      "dropout_1 (Dropout)          (None, 128)               0         \n",
      "_________________________________________________________________\n",
      "dense_2 (Dense)              (None, 46)                5934      \n",
      "=================================================================\n",
      "Total params: 1,303,598\n",
      "Trainable params: 1,303,086\n",
      "Non-trainable params: 512\n",
      "_________________________________________________________________\n",
      "INFO:tensorflow:Assets written to: thankyouall/assets\n"
     ]
    }
   ],
   "source": [
    "# 문제 2-3: 빠른 학습과 과대적합을 방지하기 위해 BatchNormalization과 Dropout을 적용한 딥러닝 모델을 구성합니다.\n",
    "model = models.Sequential()\n",
    "model.add(layers.Input(shape=(10000, )))\n",
    "\n",
    "model.add(layers.Dense(128))\n",
    "model.add(layers.BatchNormalization())\n",
    "model.add(layers.Activation('relu'))\n",
    "model.add(layers.Dropout(0.4))\n",
    "\n",
    "model.add(layers.Dense(128))\n",
    "model.add(layers.BatchNormalization())\n",
    "model.add(layers.Activation('relu'))\n",
    "model.add(layers.Dropout(0.4))\n",
    "\n",
    "\n",
    "\n",
    "model.add(layers.Dense(46, activation='softmax'))\n",
    "\n",
    "model.compile(loss='categorical_crossentropy',\n",
    "              optimizer='rmsprop',\n",
    "              metrics=['accuracy'])\n",
    "model.summary()\n",
    "model.save('thankyouall')\n",
    "# model.summary()"
   ]
  },
  {
   "cell_type": "code",
   "execution_count": 13,
   "id": "62d3c532",
   "metadata": {
    "scrolled": true
   },
   "outputs": [
    {
     "name": "stdout",
     "output_type": "stream",
     "text": [
      "Epoch 1/20\n",
      "7/7 [==============================] - 2s 94ms/step - loss: 2.8496 - accuracy: 0.3885 - val_loss: 3.4764 - val_accuracy: 0.6541\n",
      "INFO:tensorflow:Assets written to: thankyouall/assets\n",
      "Epoch 2/20\n",
      "7/7 [==============================] - 0s 33ms/step - loss: 1.6245 - accuracy: 0.6688 - val_loss: 3.2843 - val_accuracy: 0.7199\n",
      "INFO:tensorflow:Assets written to: thankyouall/assets\n",
      "Epoch 3/20\n",
      "7/7 [==============================] - 0s 33ms/step - loss: 1.2505 - accuracy: 0.7372 - val_loss: 3.1338 - val_accuracy: 0.7444\n",
      "INFO:tensorflow:Assets written to: thankyouall/assets\n",
      "Epoch 4/20\n",
      "7/7 [==============================] - 0s 34ms/step - loss: 1.0397 - accuracy: 0.7778 - val_loss: 2.9929 - val_accuracy: 0.7480\n",
      "INFO:tensorflow:Assets written to: thankyouall/assets\n",
      "Epoch 5/20\n",
      "7/7 [==============================] - 0s 33ms/step - loss: 0.8759 - accuracy: 0.8112 - val_loss: 2.8458 - val_accuracy: 0.7400\n",
      "INFO:tensorflow:Assets written to: thankyouall/assets\n",
      "Epoch 6/20\n",
      "7/7 [==============================] - 0s 34ms/step - loss: 0.7519 - accuracy: 0.8355 - val_loss: 2.6910 - val_accuracy: 0.7373\n",
      "INFO:tensorflow:Assets written to: thankyouall/assets\n",
      "Epoch 7/20\n",
      "7/7 [==============================] - 0s 32ms/step - loss: 0.6530 - accuracy: 0.8538 - val_loss: 2.5452 - val_accuracy: 0.7191\n",
      "INFO:tensorflow:Assets written to: thankyouall/assets\n",
      "Epoch 8/20\n",
      "7/7 [==============================] - 0s 33ms/step - loss: 0.5898 - accuracy: 0.8670 - val_loss: 2.3655 - val_accuracy: 0.6990\n",
      "INFO:tensorflow:Assets written to: thankyouall/assets\n",
      "Epoch 9/20\n",
      "7/7 [==============================] - 0s 34ms/step - loss: 0.5158 - accuracy: 0.8817 - val_loss: 2.2196 - val_accuracy: 0.7021\n",
      "INFO:tensorflow:Assets written to: thankyouall/assets\n",
      "Epoch 10/20\n",
      "7/7 [==============================] - 0s 33ms/step - loss: 0.4584 - accuracy: 0.8953 - val_loss: 2.0788 - val_accuracy: 0.6825\n",
      "INFO:tensorflow:Assets written to: thankyouall/assets\n",
      "Epoch 11/20\n",
      "7/7 [==============================] - 0s 35ms/step - loss: 0.4149 - accuracy: 0.9048 - val_loss: 1.9536 - val_accuracy: 0.6825\n",
      "INFO:tensorflow:Assets written to: thankyouall/assets\n",
      "Epoch 12/20\n",
      "7/7 [==============================] - 0s 33ms/step - loss: 0.3789 - accuracy: 0.9139 - val_loss: 1.8205 - val_accuracy: 0.6776\n",
      "INFO:tensorflow:Assets written to: thankyouall/assets\n",
      "Epoch 13/20\n",
      "7/7 [==============================] - 0s 34ms/step - loss: 0.3452 - accuracy: 0.9218 - val_loss: 1.6918 - val_accuracy: 0.6972\n",
      "INFO:tensorflow:Assets written to: thankyouall/assets\n",
      "Epoch 14/20\n",
      "7/7 [==============================] - 0s 34ms/step - loss: 0.3102 - accuracy: 0.9271 - val_loss: 1.5904 - val_accuracy: 0.6977\n",
      "INFO:tensorflow:Assets written to: thankyouall/assets\n",
      "Epoch 15/20\n",
      "7/7 [==============================] - 0s 33ms/step - loss: 0.2885 - accuracy: 0.9344 - val_loss: 1.5259 - val_accuracy: 0.6870\n",
      "INFO:tensorflow:Assets written to: thankyouall/assets\n",
      "Epoch 16/20\n",
      "7/7 [==============================] - 0s 34ms/step - loss: 0.2709 - accuracy: 0.9351 - val_loss: 1.4405 - val_accuracy: 0.6852\n",
      "INFO:tensorflow:Assets written to: thankyouall/assets\n",
      "Epoch 17/20\n",
      "7/7 [==============================] - 0s 31ms/step - loss: 0.2520 - accuracy: 0.9409 - val_loss: 1.3982 - val_accuracy: 0.6714\n",
      "INFO:tensorflow:Assets written to: thankyouall/assets\n",
      "Epoch 18/20\n",
      "7/7 [==============================] - 0s 33ms/step - loss: 0.2395 - accuracy: 0.9418 - val_loss: 1.3022 - val_accuracy: 0.7079\n",
      "INFO:tensorflow:Assets written to: thankyouall/assets\n",
      "Epoch 19/20\n",
      "7/7 [==============================] - 0s 31ms/step - loss: 0.2230 - accuracy: 0.9463 - val_loss: 1.2595 - val_accuracy: 0.7106\n",
      "INFO:tensorflow:Assets written to: thankyouall/assets\n",
      "Epoch 20/20\n",
      "7/7 [==============================] - 0s 30ms/step - loss: 0.2062 - accuracy: 0.9470 - val_loss: 1.2578 - val_accuracy: 0.6870\n",
      "INFO:tensorflow:Assets written to: thankyouall/assets\n"
     ]
    }
   ],
   "source": [
    "check_point_cb = callbacks.ModelCheckpoint('thankyouall', save_best_only=True)\n",
    "early_stopping_cb = callbacks.EarlyStopping(patience=24, monitor='val_loss',\n",
    "                                  restore_best_weights=True)\n",
    "history = model.fit(x_train, y_train, epochs=20,batch_size = 1024,\n",
    "                    validation_data=(x_val, y_val),\n",
    "                    callbacks=[check_point_cb, early_stopping_cb])"
   ]
  },
  {
   "cell_type": "code",
   "execution_count": 14,
   "id": "7120b71f",
   "metadata": {},
   "outputs": [
    {
     "data": {
      "image/png": "[encoded data removed]",
      "text/plain": [
       "<Figure size 864x360 with 2 Axes>"
      ]
     },
     "metadata": {},
     "output_type": "display_data"
    }
   ],
   "source": [
    "# 학습 히스토리의 `loss`, `val_loss`, `accuracy`, `val_accuracy`를 차트로 시각화합니다.\n",
    "plt.style.use('seaborn-white')\n",
    "\n",
    "history_dict = history.history\n",
    "\n",
    "loss = history_dict['loss']\n",
    "val_loss = history_dict['val_loss']\n",
    "\n",
    "epochs = range(1, len(loss) + 1)\n",
    "fig = plt.figure(figsize=(12, 5))\n",
    "\n",
    "ax1 = fig.add_subplot(1, 2, 1)\n",
    "ax1.plot(epochs, loss, 'b-', label='train_loss')\n",
    "ax1.plot(epochs, val_loss, 'r-', label='val_loss')\n",
    "ax1.set_title('Train and Validation Loss')\n",
    "ax1.set_xlabel('Epochs')\n",
    "ax1.set_ylabel('Loss')\n",
    "ax1.grid()\n",
    "ax1.legend()\n",
    "\n",
    "accuracy = history_dict['accuracy']\n",
    "val_accuracy = history_dict['val_accuracy']\n",
    "\n",
    "ax2 = fig.add_subplot(1, 2, 2)\n",
    "ax2.plot(epochs, accuracy, 'b-', label='train_accuracy')\n",
    "ax2.plot(epochs, val_accuracy, 'r-', label='val_accuracy')\n",
    "ax2.set_title('Train and Validation Accuracy')\n",
    "ax2.set_xlabel('Epochs')\n",
    "ax2.set_ylabel('Accuracy')\n",
    "ax2.grid()\n",
    "ax2.legend()\n",
    "\n",
    "plt.show()"
   ]
  },
  {
   "cell_type": "markdown",
   "id": "c9383f09",
   "metadata": {},
   "source": [
    "## 회고\n",
    "\n",
    "1) 훈련데이터와 테스트 데이터만 가지고 다루다가, 훈련데이터, 검증데이터, 테스트 데이터로 나누어 보았다. 변수가 많아져서 처음에는 어지러웠습니다만, 지금은 조금 익숙해졌다. 그리고 왜 그렇게 나눠야하는지도 이해했다.(이렇게 나누는 것이 훨씬 더 현실적이겠다)\n",
    "\n",
    "\n",
    "\n",
    "\n",
    "\n",
    "\n"
   ]
  },
  {
   "cell_type": "code",
   "execution_count": null,
   "id": "e1ba6572",
   "metadata": {},
   "outputs": [],
   "source": []
  }
 ],
 "metadata": {
  "kernelspec": {
   "display_name": "Python 3 (ipykernel)",
   "language": "python",
   "name": "python3"
  },
  "language_info": {
   "codemirror_mode": {
    "name": "ipython",
    "version": 3
   },
   "file_extension": ".py",
   "mimetype": "text/x-python",
   "name": "python",
   "nbconvert_exporter": "python",
   "pygments_lexer": "ipython3",
   "version": "3.9.7"
  }
 },
 "nbformat": 4,
 "nbformat_minor": 5
}
